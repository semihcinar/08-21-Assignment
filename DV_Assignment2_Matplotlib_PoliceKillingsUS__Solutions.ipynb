{
 "cells": [
  {
   "cell_type": "markdown",
   "metadata": {
    "id": "xSwVOspA2Zin"
   },
   "source": [
    "# WITH PANDAS AND MATPLOTLIB"
   ]
  },
  {
   "cell_type": "code",
   "execution_count": 30,
   "metadata": {
    "_cell_guid": "5fdcd462-5466-40f5-9992-dc31a9a174f2",
    "_uuid": "dab5021d92c7210270cec270470e4ae179a1de01",
    "id": "22qiZVq32Zir"
   },
   "outputs": [],
   "source": [
    "import numpy as np \n",
    "import pandas as pd\n",
    "import seaborn as sns\n",
    "import matplotlib.pyplot as plt\n",
    "from collections import Counter\n",
    "import warnings\n",
    "warnings.filterwarnings('ignore') "
   ]
  },
  {
   "cell_type": "markdown",
   "metadata": {
    "id": "Rsu0y4Ha2Zit"
   },
   "source": [
    "INSTRUCTIONS\n",
    "\n",
    "1. Number of people by gender\n",
    "1. Kill weapon\n",
    "1. Age of killed people\n",
    "1. Race of killed people\n",
    "1. Killed People According to Races (Pie Chart)\n",
    "1. Most common 15 Name or Surname of killed people\n",
    "\n",
    "<br>"
   ]
  },
  {
   "cell_type": "markdown",
   "metadata": {
    "id": "OTDjgwf53tr5"
   },
   "source": [
    "read data\n",
    "\n",
    "if didn't work you can use this parameters: encoding=\"windows-1252\""
   ]
  },
  {
   "cell_type": "code",
   "execution_count": 5,
   "metadata": {
    "_cell_guid": "abb0685f-f844-43f8-84c0-4cd54361c7bf",
    "_uuid": "9c06ed7c41db79ae9d940f2d52aeff23621b3037",
    "colab": {
     "base_uri": "https://localhost:8080/",
     "height": 293
    },
    "id": "NYz5lAPp2Ziu",
    "outputId": "317dc4aa-16b3-42d8-9b0e-1df6326f1d7f"
   },
   "outputs": [
    {
     "data": {
      "text/html": [
       "<div>\n",
       "<style scoped>\n",
       "    .dataframe tbody tr th:only-of-type {\n",
       "        vertical-align: middle;\n",
       "    }\n",
       "\n",
       "    .dataframe tbody tr th {\n",
       "        vertical-align: top;\n",
       "    }\n",
       "\n",
       "    .dataframe thead th {\n",
       "        text-align: right;\n",
       "    }\n",
       "</style>\n",
       "<table border=\"1\" class=\"dataframe\">\n",
       "  <thead>\n",
       "    <tr style=\"text-align: right;\">\n",
       "      <th></th>\n",
       "      <th>id</th>\n",
       "      <th>name</th>\n",
       "      <th>date</th>\n",
       "      <th>manner_of_death</th>\n",
       "      <th>armed</th>\n",
       "      <th>age</th>\n",
       "      <th>gender</th>\n",
       "      <th>race</th>\n",
       "      <th>city</th>\n",
       "      <th>state</th>\n",
       "      <th>signs_of_mental_illness</th>\n",
       "      <th>threat_level</th>\n",
       "      <th>flee</th>\n",
       "      <th>body_camera</th>\n",
       "    </tr>\n",
       "  </thead>\n",
       "  <tbody>\n",
       "    <tr>\n",
       "      <th>0</th>\n",
       "      <td>3</td>\n",
       "      <td>Tim Elliot</td>\n",
       "      <td>02/01/15</td>\n",
       "      <td>shot</td>\n",
       "      <td>gun</td>\n",
       "      <td>53.0</td>\n",
       "      <td>M</td>\n",
       "      <td>A</td>\n",
       "      <td>Shelton</td>\n",
       "      <td>WA</td>\n",
       "      <td>True</td>\n",
       "      <td>attack</td>\n",
       "      <td>Not fleeing</td>\n",
       "      <td>False</td>\n",
       "    </tr>\n",
       "    <tr>\n",
       "      <th>1</th>\n",
       "      <td>4</td>\n",
       "      <td>Lewis Lee Lembke</td>\n",
       "      <td>02/01/15</td>\n",
       "      <td>shot</td>\n",
       "      <td>gun</td>\n",
       "      <td>47.0</td>\n",
       "      <td>M</td>\n",
       "      <td>W</td>\n",
       "      <td>Aloha</td>\n",
       "      <td>OR</td>\n",
       "      <td>False</td>\n",
       "      <td>attack</td>\n",
       "      <td>Not fleeing</td>\n",
       "      <td>False</td>\n",
       "    </tr>\n",
       "    <tr>\n",
       "      <th>2</th>\n",
       "      <td>5</td>\n",
       "      <td>John Paul Quintero</td>\n",
       "      <td>03/01/15</td>\n",
       "      <td>shot and Tasered</td>\n",
       "      <td>unarmed</td>\n",
       "      <td>23.0</td>\n",
       "      <td>M</td>\n",
       "      <td>H</td>\n",
       "      <td>Wichita</td>\n",
       "      <td>KS</td>\n",
       "      <td>False</td>\n",
       "      <td>other</td>\n",
       "      <td>Not fleeing</td>\n",
       "      <td>False</td>\n",
       "    </tr>\n",
       "    <tr>\n",
       "      <th>3</th>\n",
       "      <td>8</td>\n",
       "      <td>Matthew Hoffman</td>\n",
       "      <td>04/01/15</td>\n",
       "      <td>shot</td>\n",
       "      <td>toy weapon</td>\n",
       "      <td>32.0</td>\n",
       "      <td>M</td>\n",
       "      <td>W</td>\n",
       "      <td>San Francisco</td>\n",
       "      <td>CA</td>\n",
       "      <td>True</td>\n",
       "      <td>attack</td>\n",
       "      <td>Not fleeing</td>\n",
       "      <td>False</td>\n",
       "    </tr>\n",
       "    <tr>\n",
       "      <th>4</th>\n",
       "      <td>9</td>\n",
       "      <td>Michael Rodriguez</td>\n",
       "      <td>04/01/15</td>\n",
       "      <td>shot</td>\n",
       "      <td>nail gun</td>\n",
       "      <td>39.0</td>\n",
       "      <td>M</td>\n",
       "      <td>H</td>\n",
       "      <td>Evans</td>\n",
       "      <td>CO</td>\n",
       "      <td>False</td>\n",
       "      <td>attack</td>\n",
       "      <td>Not fleeing</td>\n",
       "      <td>False</td>\n",
       "    </tr>\n",
       "  </tbody>\n",
       "</table>\n",
       "</div>"
      ],
      "text/plain": [
       "   id                name      date  ... threat_level         flee  body_camera\n",
       "0   3          Tim Elliot  02/01/15  ...       attack  Not fleeing        False\n",
       "1   4    Lewis Lee Lembke  02/01/15  ...       attack  Not fleeing        False\n",
       "2   5  John Paul Quintero  03/01/15  ...        other  Not fleeing        False\n",
       "3   8     Matthew Hoffman  04/01/15  ...       attack  Not fleeing        False\n",
       "4   9   Michael Rodriguez  04/01/15  ...       attack  Not fleeing        False\n",
       "\n",
       "[5 rows x 14 columns]"
      ]
     },
     "execution_count": 5,
     "metadata": {
      "tags": []
     },
     "output_type": "execute_result"
    }
   ],
   "source": [
    "df = pd.read_csv('PoliceKillingsUS.csv', encoding=\"windows-1252\")\n",
    "df.head()"
   ]
  },
  {
   "cell_type": "code",
   "execution_count": 6,
   "metadata": {
    "colab": {
     "base_uri": "https://localhost:8080/",
     "height": 295
    },
    "id": "b6iXcGeTbi7v",
    "outputId": "c0d5a80b-4af2-4c52-ac44-2ad5e1e1d94a"
   },
   "outputs": [
    {
     "data": {
      "text/html": [
       "<div>\n",
       "<style scoped>\n",
       "    .dataframe tbody tr th:only-of-type {\n",
       "        vertical-align: middle;\n",
       "    }\n",
       "\n",
       "    .dataframe tbody tr th {\n",
       "        vertical-align: top;\n",
       "    }\n",
       "\n",
       "    .dataframe thead th {\n",
       "        text-align: right;\n",
       "    }\n",
       "</style>\n",
       "<table border=\"1\" class=\"dataframe\">\n",
       "  <thead>\n",
       "    <tr style=\"text-align: right;\">\n",
       "      <th></th>\n",
       "      <th>id</th>\n",
       "      <th>age</th>\n",
       "    </tr>\n",
       "  </thead>\n",
       "  <tbody>\n",
       "    <tr>\n",
       "      <th>count</th>\n",
       "      <td>2535.000000</td>\n",
       "      <td>2458.000000</td>\n",
       "    </tr>\n",
       "    <tr>\n",
       "      <th>mean</th>\n",
       "      <td>1445.731755</td>\n",
       "      <td>36.605370</td>\n",
       "    </tr>\n",
       "    <tr>\n",
       "      <th>std</th>\n",
       "      <td>794.259490</td>\n",
       "      <td>13.030774</td>\n",
       "    </tr>\n",
       "    <tr>\n",
       "      <th>min</th>\n",
       "      <td>3.000000</td>\n",
       "      <td>6.000000</td>\n",
       "    </tr>\n",
       "    <tr>\n",
       "      <th>25%</th>\n",
       "      <td>768.500000</td>\n",
       "      <td>26.000000</td>\n",
       "    </tr>\n",
       "    <tr>\n",
       "      <th>50%</th>\n",
       "      <td>1453.000000</td>\n",
       "      <td>34.000000</td>\n",
       "    </tr>\n",
       "    <tr>\n",
       "      <th>75%</th>\n",
       "      <td>2126.500000</td>\n",
       "      <td>45.000000</td>\n",
       "    </tr>\n",
       "    <tr>\n",
       "      <th>max</th>\n",
       "      <td>2822.000000</td>\n",
       "      <td>91.000000</td>\n",
       "    </tr>\n",
       "  </tbody>\n",
       "</table>\n",
       "</div>"
      ],
      "text/plain": [
       "                id          age\n",
       "count  2535.000000  2458.000000\n",
       "mean   1445.731755    36.605370\n",
       "std     794.259490    13.030774\n",
       "min       3.000000     6.000000\n",
       "25%     768.500000    26.000000\n",
       "50%    1453.000000    34.000000\n",
       "75%    2126.500000    45.000000\n",
       "max    2822.000000    91.000000"
      ]
     },
     "execution_count": 6,
     "metadata": {
      "tags": []
     },
     "output_type": "execute_result"
    }
   ],
   "source": [
    "df.describe()"
   ]
  },
  {
   "cell_type": "code",
   "execution_count": 7,
   "metadata": {
    "colab": {
     "base_uri": "https://localhost:8080/"
    },
    "id": "367HbiEXcfsp",
    "outputId": "603863e6-7e7b-4633-f6be-13f7570988c3"
   },
   "outputs": [
    {
     "data": {
      "text/plain": [
       "(2535, 14)"
      ]
     },
     "execution_count": 7,
     "metadata": {
      "tags": []
     },
     "output_type": "execute_result"
    }
   ],
   "source": [
    "df.shape"
   ]
  },
  {
   "cell_type": "code",
   "execution_count": 8,
   "metadata": {
    "colab": {
     "base_uri": "https://localhost:8080/"
    },
    "id": "KVszgdRubv8x",
    "outputId": "fc94f38a-6a73-482b-a62c-da942be4191d"
   },
   "outputs": [
    {
     "name": "stdout",
     "output_type": "stream",
     "text": [
      "<class 'pandas.core.frame.DataFrame'>\n",
      "RangeIndex: 2535 entries, 0 to 2534\n",
      "Data columns (total 14 columns):\n",
      " #   Column                   Non-Null Count  Dtype  \n",
      "---  ------                   --------------  -----  \n",
      " 0   id                       2535 non-null   int64  \n",
      " 1   name                     2535 non-null   object \n",
      " 2   date                     2535 non-null   object \n",
      " 3   manner_of_death          2535 non-null   object \n",
      " 4   armed                    2526 non-null   object \n",
      " 5   age                      2458 non-null   float64\n",
      " 6   gender                   2535 non-null   object \n",
      " 7   race                     2340 non-null   object \n",
      " 8   city                     2535 non-null   object \n",
      " 9   state                    2535 non-null   object \n",
      " 10  signs_of_mental_illness  2535 non-null   bool   \n",
      " 11  threat_level             2535 non-null   object \n",
      " 12  flee                     2470 non-null   object \n",
      " 13  body_camera              2535 non-null   bool   \n",
      "dtypes: bool(2), float64(1), int64(1), object(10)\n",
      "memory usage: 242.7+ KB\n"
     ]
    }
   ],
   "source": [
    "df.info()"
   ]
  },
  {
   "cell_type": "code",
   "execution_count": 9,
   "metadata": {
    "colab": {
     "base_uri": "https://localhost:8080/"
    },
    "id": "nNa96leLb3iM",
    "outputId": "5a9573c9-596a-449a-8dbc-28272087b1b8"
   },
   "outputs": [
    {
     "data": {
      "text/plain": [
       "id                           0\n",
       "name                         0\n",
       "date                         0\n",
       "manner_of_death              0\n",
       "armed                        9\n",
       "age                         77\n",
       "gender                       0\n",
       "race                       195\n",
       "city                         0\n",
       "state                        0\n",
       "signs_of_mental_illness      0\n",
       "threat_level                 0\n",
       "flee                        65\n",
       "body_camera                  0\n",
       "dtype: int64"
      ]
     },
     "execution_count": 9,
     "metadata": {
      "tags": []
     },
     "output_type": "execute_result"
    }
   ],
   "source": [
    "df.isnull().sum()"
   ]
  },
  {
   "cell_type": "markdown",
   "metadata": {
    "id": "wMFloMjW2Zi8"
   },
   "source": [
    "## 1: Plot number of people by gender"
   ]
  },
  {
   "cell_type": "code",
   "execution_count": null,
   "metadata": {
    "colab": {
     "base_uri": "https://localhost:8080/",
     "height": 307
    },
    "id": "g73Ix7402Zi9",
    "outputId": "3cc46e86-dfdd-46ef-b738-e1f0f1dd6d82"
   },
   "outputs": [
    {
     "data": {
      "text/html": [
       "<div>\n",
       "<style scoped>\n",
       "    .dataframe tbody tr th:only-of-type {\n",
       "        vertical-align: middle;\n",
       "    }\n",
       "\n",
       "    .dataframe tbody tr th {\n",
       "        vertical-align: top;\n",
       "    }\n",
       "\n",
       "    .dataframe thead th {\n",
       "        text-align: right;\n",
       "    }\n",
       "</style>\n",
       "<table border=\"1\" class=\"dataframe\">\n",
       "  <thead>\n",
       "    <tr style=\"text-align: right;\">\n",
       "      <th></th>\n",
       "      <th>id</th>\n",
       "      <th>name</th>\n",
       "      <th>date</th>\n",
       "      <th>manner_of_death</th>\n",
       "      <th>armed</th>\n",
       "      <th>age</th>\n",
       "      <th>gender</th>\n",
       "      <th>race</th>\n",
       "      <th>city</th>\n",
       "      <th>state</th>\n",
       "      <th>signs_of_mental_illness</th>\n",
       "      <th>threat_level</th>\n",
       "      <th>flee</th>\n",
       "      <th>body_camera</th>\n",
       "    </tr>\n",
       "  </thead>\n",
       "  <tbody>\n",
       "    <tr>\n",
       "      <th>0</th>\n",
       "      <td>3</td>\n",
       "      <td>Tim Elliot</td>\n",
       "      <td>02/01/15</td>\n",
       "      <td>shot</td>\n",
       "      <td>gun</td>\n",
       "      <td>53.0</td>\n",
       "      <td>M</td>\n",
       "      <td>A</td>\n",
       "      <td>Shelton</td>\n",
       "      <td>WA</td>\n",
       "      <td>True</td>\n",
       "      <td>attack</td>\n",
       "      <td>Not fleeing</td>\n",
       "      <td>False</td>\n",
       "    </tr>\n",
       "    <tr>\n",
       "      <th>1</th>\n",
       "      <td>4</td>\n",
       "      <td>Lewis Lee Lembke</td>\n",
       "      <td>02/01/15</td>\n",
       "      <td>shot</td>\n",
       "      <td>gun</td>\n",
       "      <td>47.0</td>\n",
       "      <td>M</td>\n",
       "      <td>W</td>\n",
       "      <td>Aloha</td>\n",
       "      <td>OR</td>\n",
       "      <td>False</td>\n",
       "      <td>attack</td>\n",
       "      <td>Not fleeing</td>\n",
       "      <td>False</td>\n",
       "    </tr>\n",
       "    <tr>\n",
       "      <th>2</th>\n",
       "      <td>5</td>\n",
       "      <td>John Paul Quintero</td>\n",
       "      <td>03/01/15</td>\n",
       "      <td>shot and Tasered</td>\n",
       "      <td>unarmed</td>\n",
       "      <td>23.0</td>\n",
       "      <td>M</td>\n",
       "      <td>H</td>\n",
       "      <td>Wichita</td>\n",
       "      <td>KS</td>\n",
       "      <td>False</td>\n",
       "      <td>other</td>\n",
       "      <td>Not fleeing</td>\n",
       "      <td>False</td>\n",
       "    </tr>\n",
       "    <tr>\n",
       "      <th>3</th>\n",
       "      <td>8</td>\n",
       "      <td>Matthew Hoffman</td>\n",
       "      <td>04/01/15</td>\n",
       "      <td>shot</td>\n",
       "      <td>toy weapon</td>\n",
       "      <td>32.0</td>\n",
       "      <td>M</td>\n",
       "      <td>W</td>\n",
       "      <td>San Francisco</td>\n",
       "      <td>CA</td>\n",
       "      <td>True</td>\n",
       "      <td>attack</td>\n",
       "      <td>Not fleeing</td>\n",
       "      <td>False</td>\n",
       "    </tr>\n",
       "    <tr>\n",
       "      <th>4</th>\n",
       "      <td>9</td>\n",
       "      <td>Michael Rodriguez</td>\n",
       "      <td>04/01/15</td>\n",
       "      <td>shot</td>\n",
       "      <td>nail gun</td>\n",
       "      <td>39.0</td>\n",
       "      <td>M</td>\n",
       "      <td>H</td>\n",
       "      <td>Evans</td>\n",
       "      <td>CO</td>\n",
       "      <td>False</td>\n",
       "      <td>attack</td>\n",
       "      <td>Not fleeing</td>\n",
       "      <td>False</td>\n",
       "    </tr>\n",
       "  </tbody>\n",
       "</table>\n",
       "</div>"
      ],
      "text/plain": [
       "   id                name      date  ... threat_level         flee  body_camera\n",
       "0   3          Tim Elliot  02/01/15  ...       attack  Not fleeing        False\n",
       "1   4    Lewis Lee Lembke  02/01/15  ...       attack  Not fleeing        False\n",
       "2   5  John Paul Quintero  03/01/15  ...        other  Not fleeing        False\n",
       "3   8     Matthew Hoffman  04/01/15  ...       attack  Not fleeing        False\n",
       "4   9   Michael Rodriguez  04/01/15  ...       attack  Not fleeing        False\n",
       "\n",
       "[5 rows x 14 columns]"
      ]
     },
     "execution_count": 3,
     "metadata": {
      "tags": []
     },
     "output_type": "execute_result"
    }
   ],
   "source": []
  },
  {
   "cell_type": "code",
   "execution_count": 10,
   "metadata": {
    "colab": {
     "base_uri": "https://localhost:8080/",
     "height": 142
    },
    "id": "Re0lUkTgUf2x",
    "outputId": "0eeccc54-7dbe-4f97-b77d-d44d86cf39ca"
   },
   "outputs": [
    {
     "data": {
      "text/html": [
       "<div>\n",
       "<style scoped>\n",
       "    .dataframe tbody tr th:only-of-type {\n",
       "        vertical-align: middle;\n",
       "    }\n",
       "\n",
       "    .dataframe tbody tr th {\n",
       "        vertical-align: top;\n",
       "    }\n",
       "\n",
       "    .dataframe thead th {\n",
       "        text-align: right;\n",
       "    }\n",
       "</style>\n",
       "<table border=\"1\" class=\"dataframe\">\n",
       "  <thead>\n",
       "    <tr style=\"text-align: right;\">\n",
       "      <th></th>\n",
       "      <th>id</th>\n",
       "      <th>name</th>\n",
       "      <th>date</th>\n",
       "      <th>manner_of_death</th>\n",
       "      <th>armed</th>\n",
       "      <th>age</th>\n",
       "      <th>race</th>\n",
       "      <th>city</th>\n",
       "      <th>state</th>\n",
       "      <th>signs_of_mental_illness</th>\n",
       "      <th>threat_level</th>\n",
       "      <th>flee</th>\n",
       "      <th>body_camera</th>\n",
       "    </tr>\n",
       "    <tr>\n",
       "      <th>gender</th>\n",
       "      <th></th>\n",
       "      <th></th>\n",
       "      <th></th>\n",
       "      <th></th>\n",
       "      <th></th>\n",
       "      <th></th>\n",
       "      <th></th>\n",
       "      <th></th>\n",
       "      <th></th>\n",
       "      <th></th>\n",
       "      <th></th>\n",
       "      <th></th>\n",
       "      <th></th>\n",
       "    </tr>\n",
       "  </thead>\n",
       "  <tbody>\n",
       "    <tr>\n",
       "      <th>F</th>\n",
       "      <td>107</td>\n",
       "      <td>107</td>\n",
       "      <td>107</td>\n",
       "      <td>107</td>\n",
       "      <td>107</td>\n",
       "      <td>104</td>\n",
       "      <td>98</td>\n",
       "      <td>107</td>\n",
       "      <td>107</td>\n",
       "      <td>107</td>\n",
       "      <td>107</td>\n",
       "      <td>104</td>\n",
       "      <td>107</td>\n",
       "    </tr>\n",
       "    <tr>\n",
       "      <th>M</th>\n",
       "      <td>2428</td>\n",
       "      <td>2428</td>\n",
       "      <td>2428</td>\n",
       "      <td>2428</td>\n",
       "      <td>2419</td>\n",
       "      <td>2354</td>\n",
       "      <td>2242</td>\n",
       "      <td>2428</td>\n",
       "      <td>2428</td>\n",
       "      <td>2428</td>\n",
       "      <td>2428</td>\n",
       "      <td>2366</td>\n",
       "      <td>2428</td>\n",
       "    </tr>\n",
       "  </tbody>\n",
       "</table>\n",
       "</div>"
      ],
      "text/plain": [
       "          id  name  date  ...  threat_level  flee  body_camera\n",
       "gender                    ...                                 \n",
       "F        107   107   107  ...           107   104          107\n",
       "M       2428  2428  2428  ...          2428  2366         2428\n",
       "\n",
       "[2 rows x 13 columns]"
      ]
     },
     "execution_count": 10,
     "metadata": {
      "tags": []
     },
     "output_type": "execute_result"
    }
   ],
   "source": [
    "df.groupby(\"gender\").count()"
   ]
  },
  {
   "cell_type": "code",
   "execution_count": 11,
   "metadata": {
    "colab": {
     "base_uri": "https://localhost:8080/"
    },
    "id": "HzwrPBFtYp-z",
    "outputId": "fdbb1b7c-10da-4424-f888-b96fcb61deaa"
   },
   "outputs": [
    {
     "data": {
      "text/plain": [
       "M    2428\n",
       "F     107\n",
       "Name: gender, dtype: int64"
      ]
     },
     "execution_count": 11,
     "metadata": {
      "tags": []
     },
     "output_type": "execute_result"
    }
   ],
   "source": [
    "gender = df[\"gender\"].value_counts()\n",
    "gender"
   ]
  },
  {
   "cell_type": "code",
   "execution_count": 12,
   "metadata": {
    "colab": {
     "base_uri": "https://localhost:8080/"
    },
    "id": "U_UBmeWewa44",
    "outputId": "116d4c2d-81f3-4e4f-ad86-080880578f0a"
   },
   "outputs": [
    {
     "data": {
      "text/plain": [
       "2428"
      ]
     },
     "execution_count": 12,
     "metadata": {
      "tags": []
     },
     "output_type": "execute_result"
    }
   ],
   "source": [
    "df[\"gender\"].value_counts()[\"M\"]"
   ]
  },
  {
   "cell_type": "code",
   "execution_count": 13,
   "metadata": {
    "colab": {
     "base_uri": "https://localhost:8080/",
     "height": 280
    },
    "id": "5cs3nQdXUrp0",
    "outputId": "ea646bfb-76d1-436c-8034-490c0164e0f7"
   },
   "outputs": [
    {
     "data": {
      "image/png": "[encoded data removed]",
      "text/plain": [
       "<Figure size 432x288 with 1 Axes>"
      ]
     },
     "metadata": {
      "needs_background": "light",
      "tags": []
     },
     "output_type": "display_data"
    }
   ],
   "source": [
    "gender.plot(kind=\"bar\", title = \"Gender Distribution\");"
   ]
  },
  {
   "cell_type": "code",
   "execution_count": 14,
   "metadata": {
    "colab": {
     "base_uri": "https://localhost:8080/",
     "height": 278
    },
    "id": "l69hto2TFHiW",
    "outputId": "83c24f69-699c-4c5d-86db-c676e3a8e9bb"
   },
   "outputs": [
    {
     "data": {
      "image/png": "[encoded data removed]",
      "text/plain": [
       "<Figure size 432x288 with 1 Axes>"
      ]
     },
     "metadata": {
      "needs_background": "light",
      "tags": []
     },
     "output_type": "display_data"
    }
   ],
   "source": [
    "df.groupby(\"gender\")[\"gender\"].count().plot.bar();"
   ]
  },
  {
   "cell_type": "code",
   "execution_count": 15,
   "metadata": {
    "colab": {
     "base_uri": "https://localhost:8080/",
     "height": 280
    },
    "id": "NbpD92EuxjHc",
    "outputId": "a93eff30-c1a3-469e-cbe5-8d9524c6cfe3"
   },
   "outputs": [
    {
     "data": {
      "image/png": "[encoded data removed]",
      "text/plain": [
       "<Figure size 432x288 with 1 Axes>"
      ]
     },
     "metadata": {
      "needs_background": "light",
      "tags": []
     },
     "output_type": "display_data"
    }
   ],
   "source": [
    "ax = gender.plot(kind='bar', title = \"Gender Distribution\")\n",
    "for p in ax.patches:\n",
    "    ax.annotate(str(p.get_height()), (p.get_x(), p.get_height()))"
   ]
  },
  {
   "cell_type": "code",
   "execution_count": 16,
   "metadata": {
    "colab": {
     "base_uri": "https://localhost:8080/",
     "height": 369
    },
    "id": "dn0Xz1VkC75C",
    "outputId": "9bafb520-75ee-41a4-eba9-29383e5124c2"
   },
   "outputs": [
    {
     "data": {
      "image/png": "[encoded data removed]",
      "text/plain": [
       "<Figure size 396x360 with 1 Axes>"
      ]
     },
     "metadata": {
      "needs_background": "light",
      "tags": []
     },
     "output_type": "display_data"
    }
   ],
   "source": [
    "splot = gender.plot(kind='bar', figsize = (5.5, 5), title = 'Gender Distribution')\n",
    "for p in splot.patches:\n",
    "    splot.annotate(format(p.get_height()), \n",
    "                   (p.get_x() + p.get_width() / 2., p.get_height()), \n",
    "                   ha = 'center', va = 'center', \n",
    "                   xytext = (0, 9), \n",
    "                   textcoords = 'offset points')\n",
    "plt.tight_layout();"
   ]
  },
  {
   "cell_type": "code",
   "execution_count": 24,
   "metadata": {
    "colab": {
     "base_uri": "https://localhost:8080/",
     "height": 369
    },
    "id": "T-3JiCXVGU6n",
    "outputId": "0cf8da88-5eda-46cb-aed3-1d645d77c042"
   },
   "outputs": [
    {
     "data": {
      "image/png": "[encoded data removed]",
      "text/plain": [
       "<Figure size 396x360 with 1 Axes>"
      ]
     },
     "metadata": {
      "needs_background": "light",
      "tags": []
     },
     "output_type": "display_data"
    }
   ],
   "source": [
    "ax = gender.plot(kind='bar', title = \"Gender Distribution\", figsize = (5.5, 5))\n",
    "for index, data in enumerate(gender):\n",
    "    ax.text(x=index, y =data+20, s=f\"{data}\", horizontalalignment='center')\n",
    "\n",
    "plt.tight_layout();"
   ]
  },
  {
   "cell_type": "code",
   "execution_count": null,
   "metadata": {
    "colab": {
     "base_uri": "https://localhost:8080/",
     "height": 282
    },
    "id": "9l_gl3On2Zi9",
    "outputId": "1ed7b4da-1d76-40e4-cbab-d5afba9a34aa"
   },
   "outputs": [
    {
     "data": {
      "image/png": "[encoded data removed]",
      "text/plain": [
       "<Figure size 432x288 with 1 Axes>"
      ]
     },
     "metadata": {
      "needs_background": "light",
      "tags": []
     },
     "output_type": "display_data"
    }
   ],
   "source": [
    "# with pandas\n",
    "\n"
   ]
  },
  {
   "cell_type": "code",
   "execution_count": null,
   "metadata": {
    "colab": {
     "base_uri": "https://localhost:8080/",
     "height": 280
    },
    "id": "IIWauNqXcxJh",
    "outputId": "30dc43fa-3293-4a2a-b254-20da7c440acf"
   },
   "outputs": [
    {
     "data": {
      "image/png": "[encoded data removed]",
      "text/plain": [
       "<Figure size 432x288 with 1 Axes>"
      ]
     },
     "metadata": {
      "needs_background": "light",
      "tags": []
     },
     "output_type": "display_data"
    }
   ],
   "source": [
    "ax = gender.plot(kind='bar', title = \"Gender Distribution\")\n",
    "for index, data in enumerate(gender):\n",
    "    ax.text(x=index, y =data+1, s=f\"{data}\", horizontalalignment='center')"
   ]
  },
  {
   "cell_type": "code",
   "execution_count": null,
   "metadata": {
    "colab": {
     "base_uri": "https://localhost:8080/",
     "height": 283
    },
    "id": "KtJXC38R2Zi9",
    "outputId": "99c4a881-e389-4469-984c-31d6b2bf67a2"
   },
   "outputs": [
    {
     "data": {
      "image/png": "[encoded data removed]",
      "text/plain": [
       "<Figure size 432x288 with 1 Axes>"
      ]
     },
     "metadata": {
      "needs_background": "light",
      "tags": []
     },
     "output_type": "display_data"
    }
   ],
   "source": [
    "# with matplotlib\n"
   ]
  },
  {
   "cell_type": "code",
   "execution_count": 25,
   "metadata": {
    "colab": {
     "base_uri": "https://localhost:8080/"
    },
    "id": "N03uARwuJrCf",
    "outputId": "419b9a84-6129-44b5-daff-60c14b08a4ac"
   },
   "outputs": [
    {
     "name": "stdout",
     "output_type": "stream",
     "text": [
      "Index(['M', 'F'], dtype='object')\n",
      "[2428  107]\n"
     ]
    }
   ],
   "source": [
    "x = df.gender.value_counts().index\n",
    "print(x)\n",
    "y = df.gender.value_counts().values\n",
    "print(y)"
   ]
  },
  {
   "cell_type": "code",
   "execution_count": null,
   "metadata": {
    "colab": {
     "base_uri": "https://localhost:8080/",
     "height": 298
    },
    "id": "8JNcXytuIVNb",
    "outputId": "50091517-cbe1-4017-bda1-743e5dcfde82"
   },
   "outputs": [
    {
     "data": {
      "image/png": "[encoded data removed]",
      "text/plain": [
       "<Figure size 450x270 with 1 Axes>"
      ]
     },
     "metadata": {
      "needs_background": "light",
      "tags": []
     },
     "output_type": "display_data"
    }
   ],
   "source": [
    "plt.figure(figsize=(5,3), dpi=90)\n",
    "plt.bar(x, y)\n",
    "plt.xlabel(\"Gender\")\n",
    "plt.ylabel(\"Number\")\n",
    "plt.title(\"Gender Distribution\")\n",
    "\n",
    "for index, value in enumerate(y):\n",
    "  plt.text(index, value, str(value), horizontalalignment='center')"
   ]
  },
  {
   "cell_type": "code",
   "execution_count": null,
   "metadata": {
    "id": "Gbor4qieU4sV"
   },
   "outputs": [],
   "source": [
    "# import matplotlib.pyplot as plt\n",
    "# fig = plt.figure()\n",
    "# ax = fig.add_axes([0,0,1,1])\n",
    "\n",
    "# ax.bar(x, y)\n",
    "# plt.show()\n",
    "\n",
    "# for index, value in enumerate(y):\n",
    "#   plt.text(index, value, str(value), horizontalalignment='center')"
   ]
  },
  {
   "cell_type": "markdown",
   "metadata": {
    "id": "3CDiN8a22Zi9"
   },
   "source": [
    "## 2: Plot 7 most common kill weapons"
   ]
  },
  {
   "cell_type": "code",
   "execution_count": null,
   "metadata": {
    "colab": {
     "base_uri": "https://localhost:8080/"
    },
    "id": "BAU2H77b2Zi9",
    "outputId": "a893d160-7464-448d-de16-6e4399c36a75"
   },
   "outputs": [
    {
     "data": {
      "text/plain": [
       "gun               1398\n",
       "knife              373\n",
       "vehicle            177\n",
       "unarmed            171\n",
       "undetermined       117\n",
       "toy weapon         104\n",
       "unknown weapon      18\n",
       "Name: armed, dtype: int64"
      ]
     },
     "execution_count": 6,
     "metadata": {
      "tags": []
     },
     "output_type": "execute_result"
    }
   ],
   "source": []
  },
  {
   "cell_type": "code",
   "execution_count": 45,
   "metadata": {
    "colab": {
     "base_uri": "https://localhost:8080/",
     "height": 142
    },
    "id": "PUT7ILmsN66N",
    "outputId": "990001ea-dcbc-47eb-bd81-81305494a960"
   },
   "outputs": [
    {
     "data": {
      "text/html": [
       "<div>\n",
       "<style scoped>\n",
       "    .dataframe tbody tr th:only-of-type {\n",
       "        vertical-align: middle;\n",
       "    }\n",
       "\n",
       "    .dataframe tbody tr th {\n",
       "        vertical-align: top;\n",
       "    }\n",
       "\n",
       "    .dataframe thead th {\n",
       "        text-align: right;\n",
       "    }\n",
       "</style>\n",
       "<table border=\"1\" class=\"dataframe\">\n",
       "  <thead>\n",
       "    <tr style=\"text-align: right;\">\n",
       "      <th></th>\n",
       "      <th>id</th>\n",
       "      <th>name</th>\n",
       "      <th>date</th>\n",
       "      <th>manner_of_death</th>\n",
       "      <th>armed</th>\n",
       "      <th>age</th>\n",
       "      <th>gender</th>\n",
       "      <th>race</th>\n",
       "      <th>city</th>\n",
       "      <th>state</th>\n",
       "      <th>signs_of_mental_illness</th>\n",
       "      <th>threat_level</th>\n",
       "      <th>flee</th>\n",
       "      <th>body_camera</th>\n",
       "    </tr>\n",
       "  </thead>\n",
       "  <tbody>\n",
       "    <tr>\n",
       "      <th>0</th>\n",
       "      <td>3</td>\n",
       "      <td>Tim Elliot</td>\n",
       "      <td>02/01/15</td>\n",
       "      <td>shot</td>\n",
       "      <td>gun</td>\n",
       "      <td>53.0</td>\n",
       "      <td>M</td>\n",
       "      <td>A</td>\n",
       "      <td>Shelton</td>\n",
       "      <td>WA</td>\n",
       "      <td>True</td>\n",
       "      <td>attack</td>\n",
       "      <td>Not fleeing</td>\n",
       "      <td>False</td>\n",
       "    </tr>\n",
       "    <tr>\n",
       "      <th>1</th>\n",
       "      <td>4</td>\n",
       "      <td>Lewis Lee Lembke</td>\n",
       "      <td>02/01/15</td>\n",
       "      <td>shot</td>\n",
       "      <td>gun</td>\n",
       "      <td>47.0</td>\n",
       "      <td>M</td>\n",
       "      <td>W</td>\n",
       "      <td>Aloha</td>\n",
       "      <td>OR</td>\n",
       "      <td>False</td>\n",
       "      <td>attack</td>\n",
       "      <td>Not fleeing</td>\n",
       "      <td>False</td>\n",
       "    </tr>\n",
       "    <tr>\n",
       "      <th>2</th>\n",
       "      <td>5</td>\n",
       "      <td>John Paul Quintero</td>\n",
       "      <td>03/01/15</td>\n",
       "      <td>shot and Tasered</td>\n",
       "      <td>unarmed</td>\n",
       "      <td>23.0</td>\n",
       "      <td>M</td>\n",
       "      <td>H</td>\n",
       "      <td>Wichita</td>\n",
       "      <td>KS</td>\n",
       "      <td>False</td>\n",
       "      <td>other</td>\n",
       "      <td>Not fleeing</td>\n",
       "      <td>False</td>\n",
       "    </tr>\n",
       "  </tbody>\n",
       "</table>\n",
       "</div>"
      ],
      "text/plain": [
       "   id                name      date  ... threat_level         flee  body_camera\n",
       "0   3          Tim Elliot  02/01/15  ...       attack  Not fleeing        False\n",
       "1   4    Lewis Lee Lembke  02/01/15  ...       attack  Not fleeing        False\n",
       "2   5  John Paul Quintero  03/01/15  ...        other  Not fleeing        False\n",
       "\n",
       "[3 rows x 14 columns]"
      ]
     },
     "execution_count": 45,
     "metadata": {
      "tags": []
     },
     "output_type": "execute_result"
    }
   ],
   "source": [
    "df.head(3)"
   ]
  },
  {
   "cell_type": "code",
   "execution_count": null,
   "metadata": {
    "colab": {
     "base_uri": "https://localhost:8080/"
    },
    "id": "2sk55VWkOIcs",
    "outputId": "894819d7-7d96-49b9-b732-f2bc81c7404e"
   },
   "outputs": [
    {
     "data": {
      "text/plain": [
       "gun               1398\n",
       "knife              373\n",
       "vehicle            177\n",
       "unarmed            171\n",
       "undetermined       117\n",
       "toy weapon         104\n",
       "unknown weapon      18\n",
       "Name: armed, dtype: int64"
      ]
     },
     "execution_count": 19,
     "metadata": {
      "tags": []
     },
     "output_type": "execute_result"
    }
   ],
   "source": [
    "df[\"armed\"].value_counts()[:7]"
   ]
  },
  {
   "cell_type": "code",
   "execution_count": null,
   "metadata": {
    "colab": {
     "base_uri": "https://localhost:8080/"
    },
    "id": "QRWKmWqlOnuI",
    "outputId": "4515d5c7-1ae1-4bae-e3b1-473b712ee6b1"
   },
   "outputs": [
    {
     "data": {
      "text/plain": [
       "gun               1398\n",
       "knife              373\n",
       "vehicle            177\n",
       "unarmed            171\n",
       "undetermined       117\n",
       "toy weapon         104\n",
       "unknown weapon      18\n",
       "Name: armed, dtype: int64"
      ]
     },
     "execution_count": 20,
     "metadata": {
      "tags": []
     },
     "output_type": "execute_result"
    }
   ],
   "source": [
    "df[\"armed\"].value_counts().nlargest(n=7)"
   ]
  },
  {
   "cell_type": "code",
   "execution_count": null,
   "metadata": {
    "colab": {
     "base_uri": "https://localhost:8080/",
     "height": 379
    },
    "id": "WznuMe522Zi-",
    "outputId": "aa03186c-558b-4fa2-f7e0-471d827565c0"
   },
   "outputs": [
    {
     "data": {
      "image/png": "[encoded data removed]",
      "text/plain": [
       "<Figure size 576x360 with 1 Axes>"
      ]
     },
     "metadata": {
      "needs_background": "light",
      "tags": []
     },
     "output_type": "display_data"
    }
   ],
   "source": [
    "# with pandas\n"
   ]
  },
  {
   "cell_type": "code",
   "execution_count": null,
   "metadata": {
    "colab": {
     "base_uri": "https://localhost:8080/",
     "height": 336
    },
    "id": "TJ3ynSXhP2wK",
    "outputId": "9ff8bc9d-6e3e-4593-e3db-3d94eb99bd69"
   },
   "outputs": [
    {
     "data": {
      "image/png": "[encoded data removed]",
      "text/plain": [
       "<Figure size 432x288 with 1 Axes>"
      ]
     },
     "metadata": {
      "needs_background": "light",
      "tags": []
     },
     "output_type": "display_data"
    }
   ],
   "source": [
    "df[\"armed\"].value_counts().nlargest(n=7).plot.bar()\n",
    "plt.xticks(rotation = 60);"
   ]
  },
  {
   "cell_type": "code",
   "execution_count": null,
   "metadata": {
    "colab": {
     "base_uri": "https://localhost:8080/"
    },
    "id": "ylivdXYFPiNX",
    "outputId": "5f88bf6f-04ee-46fd-a963-0fcc3ff89e3a"
   },
   "outputs": [
    {
     "name": "stdout",
     "output_type": "stream",
     "text": [
      "Index(['gun', 'knife', 'vehicle', 'unarmed', 'undetermined', 'toy weapon',\n",
      "       'unknown weapon'],\n",
      "      dtype='object')\n",
      "[1398  373  177  171  117  104   18]\n"
     ]
    }
   ],
   "source": [
    "x = df.armed.value_counts()[:7].index\n",
    "print(x)\n",
    "y = df.armed.value_counts()[:7].values\n",
    "print(y)"
   ]
  },
  {
   "cell_type": "code",
   "execution_count": null,
   "metadata": {
    "colab": {
     "base_uri": "https://localhost:8080/",
     "height": 480
    },
    "id": "yUdb58QZO-at",
    "outputId": "68323299-f129-4cc8-e387-7735c33326b8"
   },
   "outputs": [
    {
     "data": {
      "image/png": "[encoded data removed]",
      "text/plain": [
       "<Figure size 540x450 with 1 Axes>"
      ]
     },
     "metadata": {
      "needs_background": "light",
      "tags": []
     },
     "output_type": "display_data"
    }
   ],
   "source": [
    "plt.figure(figsize=(6,5), dpi=90)\n",
    "df[\"armed\"].value_counts().nlargest(n=7).plot.bar(width=0.7)\n",
    "plt.xticks(rotation = 55);\n",
    "for index, value in enumerate(y):\n",
    "  plt.text(index, value+10, str(value), horizontalalignment='center')"
   ]
  },
  {
   "cell_type": "code",
   "execution_count": null,
   "metadata": {
    "colab": {
     "base_uri": "https://localhost:8080/",
     "height": 379
    },
    "id": "v6AvLOw82Zi-",
    "outputId": "b0539d81-1511-4ec4-b5dd-4160319f2096"
   },
   "outputs": [
    {
     "data": {
      "image/png": "[encoded data removed]",
      "text/plain": [
       "<Figure size 576x360 with 1 Axes>"
      ]
     },
     "metadata": {
      "needs_background": "light",
      "tags": []
     },
     "output_type": "display_data"
    }
   ],
   "source": [
    "# with matplotlib\n"
   ]
  },
  {
   "cell_type": "code",
   "execution_count": null,
   "metadata": {
    "colab": {
     "base_uri": "https://localhost:8080/",
     "height": 387
    },
    "id": "jiOEYx4YTLBr",
    "outputId": "b2535178-8b8c-483f-e418-1b513438aa59"
   },
   "outputs": [
    {
     "data": {
      "image/png": "[encoded data removed]",
      "text/plain": [
       "<Figure size 648x360 with 1 Axes>"
      ]
     },
     "metadata": {
      "needs_background": "light",
      "tags": []
     },
     "output_type": "display_data"
    }
   ],
   "source": [
    "fig, ax = plt.subplots(figsize= (9,5))\n",
    "ax.bar(x, y)\n",
    "plt.xticks(rotation = 55)\n",
    "for index, value in enumerate(y):\n",
    "  plt.text(index, value+10, str(value), horizontalalignment='center');"
   ]
  },
  {
   "cell_type": "markdown",
   "metadata": {
    "id": "GqXH5Xag2Zi-"
   },
   "source": [
    "## 3: Plot number of age of killed people under two groups : Under 25 and Above 25"
   ]
  },
  {
   "cell_type": "code",
   "execution_count": null,
   "metadata": {
    "colab": {
     "base_uri": "https://localhost:8080/",
     "height": 307
    },
    "id": "V4mng-vC2Zi-",
    "outputId": "01c48c2d-3344-4b26-ff0b-632378fb59f2"
   },
   "outputs": [
    {
     "data": {
      "text/html": [
       "<div>\n",
       "<style scoped>\n",
       "    .dataframe tbody tr th:only-of-type {\n",
       "        vertical-align: middle;\n",
       "    }\n",
       "\n",
       "    .dataframe tbody tr th {\n",
       "        vertical-align: top;\n",
       "    }\n",
       "\n",
       "    .dataframe thead th {\n",
       "        text-align: right;\n",
       "    }\n",
       "</style>\n",
       "<table border=\"1\" class=\"dataframe\">\n",
       "  <thead>\n",
       "    <tr style=\"text-align: right;\">\n",
       "      <th></th>\n",
       "      <th>id</th>\n",
       "      <th>name</th>\n",
       "      <th>date</th>\n",
       "      <th>manner_of_death</th>\n",
       "      <th>armed</th>\n",
       "      <th>age</th>\n",
       "      <th>gender</th>\n",
       "      <th>race</th>\n",
       "      <th>city</th>\n",
       "      <th>state</th>\n",
       "      <th>signs_of_mental_illness</th>\n",
       "      <th>threat_level</th>\n",
       "      <th>flee</th>\n",
       "      <th>body_camera</th>\n",
       "    </tr>\n",
       "  </thead>\n",
       "  <tbody>\n",
       "    <tr>\n",
       "      <th>0</th>\n",
       "      <td>3</td>\n",
       "      <td>Tim Elliot</td>\n",
       "      <td>02/01/15</td>\n",
       "      <td>shot</td>\n",
       "      <td>gun</td>\n",
       "      <td>53.0</td>\n",
       "      <td>M</td>\n",
       "      <td>A</td>\n",
       "      <td>Shelton</td>\n",
       "      <td>WA</td>\n",
       "      <td>True</td>\n",
       "      <td>attack</td>\n",
       "      <td>Not fleeing</td>\n",
       "      <td>False</td>\n",
       "    </tr>\n",
       "    <tr>\n",
       "      <th>1</th>\n",
       "      <td>4</td>\n",
       "      <td>Lewis Lee Lembke</td>\n",
       "      <td>02/01/15</td>\n",
       "      <td>shot</td>\n",
       "      <td>gun</td>\n",
       "      <td>47.0</td>\n",
       "      <td>M</td>\n",
       "      <td>W</td>\n",
       "      <td>Aloha</td>\n",
       "      <td>OR</td>\n",
       "      <td>False</td>\n",
       "      <td>attack</td>\n",
       "      <td>Not fleeing</td>\n",
       "      <td>False</td>\n",
       "    </tr>\n",
       "    <tr>\n",
       "      <th>2</th>\n",
       "      <td>5</td>\n",
       "      <td>John Paul Quintero</td>\n",
       "      <td>03/01/15</td>\n",
       "      <td>shot and Tasered</td>\n",
       "      <td>unarmed</td>\n",
       "      <td>23.0</td>\n",
       "      <td>M</td>\n",
       "      <td>H</td>\n",
       "      <td>Wichita</td>\n",
       "      <td>KS</td>\n",
       "      <td>False</td>\n",
       "      <td>other</td>\n",
       "      <td>Not fleeing</td>\n",
       "      <td>False</td>\n",
       "    </tr>\n",
       "    <tr>\n",
       "      <th>3</th>\n",
       "      <td>8</td>\n",
       "      <td>Matthew Hoffman</td>\n",
       "      <td>04/01/15</td>\n",
       "      <td>shot</td>\n",
       "      <td>toy weapon</td>\n",
       "      <td>32.0</td>\n",
       "      <td>M</td>\n",
       "      <td>W</td>\n",
       "      <td>San Francisco</td>\n",
       "      <td>CA</td>\n",
       "      <td>True</td>\n",
       "      <td>attack</td>\n",
       "      <td>Not fleeing</td>\n",
       "      <td>False</td>\n",
       "    </tr>\n",
       "    <tr>\n",
       "      <th>4</th>\n",
       "      <td>9</td>\n",
       "      <td>Michael Rodriguez</td>\n",
       "      <td>04/01/15</td>\n",
       "      <td>shot</td>\n",
       "      <td>nail gun</td>\n",
       "      <td>39.0</td>\n",
       "      <td>M</td>\n",
       "      <td>H</td>\n",
       "      <td>Evans</td>\n",
       "      <td>CO</td>\n",
       "      <td>False</td>\n",
       "      <td>attack</td>\n",
       "      <td>Not fleeing</td>\n",
       "      <td>False</td>\n",
       "    </tr>\n",
       "  </tbody>\n",
       "</table>\n",
       "</div>"
      ],
      "text/plain": [
       "   id                name      date  ... threat_level         flee  body_camera\n",
       "0   3          Tim Elliot  02/01/15  ...       attack  Not fleeing        False\n",
       "1   4    Lewis Lee Lembke  02/01/15  ...       attack  Not fleeing        False\n",
       "2   5  John Paul Quintero  03/01/15  ...        other  Not fleeing        False\n",
       "3   8     Matthew Hoffman  04/01/15  ...       attack  Not fleeing        False\n",
       "4   9   Michael Rodriguez  04/01/15  ...       attack  Not fleeing        False\n",
       "\n",
       "[5 rows x 14 columns]"
      ]
     },
     "execution_count": 9,
     "metadata": {
      "tags": []
     },
     "output_type": "execute_result"
    }
   ],
   "source": []
  },
  {
   "cell_type": "code",
   "execution_count": null,
   "metadata": {
    "id": "1zfmB3FS2Zi-"
   },
   "outputs": [],
   "source": []
  },
  {
   "cell_type": "code",
   "execution_count": null,
   "metadata": {
    "colab": {
     "base_uri": "https://localhost:8080/",
     "height": 307
    },
    "id": "DJzAOutV2Zi-",
    "outputId": "f1188a5c-2a2a-4cbd-b01e-751d47905f8f"
   },
   "outputs": [
    {
     "data": {
      "text/html": [
       "<div>\n",
       "<style scoped>\n",
       "    .dataframe tbody tr th:only-of-type {\n",
       "        vertical-align: middle;\n",
       "    }\n",
       "\n",
       "    .dataframe tbody tr th {\n",
       "        vertical-align: top;\n",
       "    }\n",
       "\n",
       "    .dataframe thead th {\n",
       "        text-align: right;\n",
       "    }\n",
       "</style>\n",
       "<table border=\"1\" class=\"dataframe\">\n",
       "  <thead>\n",
       "    <tr style=\"text-align: right;\">\n",
       "      <th></th>\n",
       "      <th>id</th>\n",
       "      <th>name</th>\n",
       "      <th>date</th>\n",
       "      <th>manner_of_death</th>\n",
       "      <th>armed</th>\n",
       "      <th>age</th>\n",
       "      <th>gender</th>\n",
       "      <th>race</th>\n",
       "      <th>city</th>\n",
       "      <th>state</th>\n",
       "      <th>signs_of_mental_illness</th>\n",
       "      <th>threat_level</th>\n",
       "      <th>flee</th>\n",
       "      <th>body_camera</th>\n",
       "      <th>age_cat</th>\n",
       "    </tr>\n",
       "  </thead>\n",
       "  <tbody>\n",
       "    <tr>\n",
       "      <th>0</th>\n",
       "      <td>3</td>\n",
       "      <td>Tim Elliot</td>\n",
       "      <td>02/01/15</td>\n",
       "      <td>shot</td>\n",
       "      <td>gun</td>\n",
       "      <td>53.0</td>\n",
       "      <td>M</td>\n",
       "      <td>A</td>\n",
       "      <td>Shelton</td>\n",
       "      <td>WA</td>\n",
       "      <td>True</td>\n",
       "      <td>attack</td>\n",
       "      <td>Not fleeing</td>\n",
       "      <td>False</td>\n",
       "      <td>above25</td>\n",
       "    </tr>\n",
       "    <tr>\n",
       "      <th>1</th>\n",
       "      <td>4</td>\n",
       "      <td>Lewis Lee Lembke</td>\n",
       "      <td>02/01/15</td>\n",
       "      <td>shot</td>\n",
       "      <td>gun</td>\n",
       "      <td>47.0</td>\n",
       "      <td>M</td>\n",
       "      <td>W</td>\n",
       "      <td>Aloha</td>\n",
       "      <td>OR</td>\n",
       "      <td>False</td>\n",
       "      <td>attack</td>\n",
       "      <td>Not fleeing</td>\n",
       "      <td>False</td>\n",
       "      <td>above25</td>\n",
       "    </tr>\n",
       "    <tr>\n",
       "      <th>2</th>\n",
       "      <td>5</td>\n",
       "      <td>John Paul Quintero</td>\n",
       "      <td>03/01/15</td>\n",
       "      <td>shot and Tasered</td>\n",
       "      <td>unarmed</td>\n",
       "      <td>23.0</td>\n",
       "      <td>M</td>\n",
       "      <td>H</td>\n",
       "      <td>Wichita</td>\n",
       "      <td>KS</td>\n",
       "      <td>False</td>\n",
       "      <td>other</td>\n",
       "      <td>Not fleeing</td>\n",
       "      <td>False</td>\n",
       "      <td>below25</td>\n",
       "    </tr>\n",
       "    <tr>\n",
       "      <th>3</th>\n",
       "      <td>8</td>\n",
       "      <td>Matthew Hoffman</td>\n",
       "      <td>04/01/15</td>\n",
       "      <td>shot</td>\n",
       "      <td>toy weapon</td>\n",
       "      <td>32.0</td>\n",
       "      <td>M</td>\n",
       "      <td>W</td>\n",
       "      <td>San Francisco</td>\n",
       "      <td>CA</td>\n",
       "      <td>True</td>\n",
       "      <td>attack</td>\n",
       "      <td>Not fleeing</td>\n",
       "      <td>False</td>\n",
       "      <td>above25</td>\n",
       "    </tr>\n",
       "    <tr>\n",
       "      <th>4</th>\n",
       "      <td>9</td>\n",
       "      <td>Michael Rodriguez</td>\n",
       "      <td>04/01/15</td>\n",
       "      <td>shot</td>\n",
       "      <td>nail gun</td>\n",
       "      <td>39.0</td>\n",
       "      <td>M</td>\n",
       "      <td>H</td>\n",
       "      <td>Evans</td>\n",
       "      <td>CO</td>\n",
       "      <td>False</td>\n",
       "      <td>attack</td>\n",
       "      <td>Not fleeing</td>\n",
       "      <td>False</td>\n",
       "      <td>above25</td>\n",
       "    </tr>\n",
       "  </tbody>\n",
       "</table>\n",
       "</div>"
      ],
      "text/plain": [
       "   id                name      date  ...         flee body_camera  age_cat\n",
       "0   3          Tim Elliot  02/01/15  ...  Not fleeing       False  above25\n",
       "1   4    Lewis Lee Lembke  02/01/15  ...  Not fleeing       False  above25\n",
       "2   5  John Paul Quintero  03/01/15  ...  Not fleeing       False  below25\n",
       "3   8     Matthew Hoffman  04/01/15  ...  Not fleeing       False  above25\n",
       "4   9   Michael Rodriguez  04/01/15  ...  Not fleeing       False  above25\n",
       "\n",
       "[5 rows x 15 columns]"
      ]
     },
     "execution_count": 11,
     "metadata": {
      "tags": []
     },
     "output_type": "execute_result"
    }
   ],
   "source": []
  },
  {
   "cell_type": "code",
   "execution_count": null,
   "metadata": {
    "colab": {
     "base_uri": "https://localhost:8080/"
    },
    "id": "fSQ8BTUD2Zi_",
    "outputId": "89645134-4eb3-4034-bb3d-e446399aaad0"
   },
   "outputs": [
    {
     "data": {
      "text/plain": [
       "above25    1905\n",
       "below25     630\n",
       "Name: age_cat, dtype: int64"
      ]
     },
     "execution_count": 12,
     "metadata": {
      "tags": []
     },
     "output_type": "execute_result"
    }
   ],
   "source": []
  },
  {
   "cell_type": "code",
   "execution_count": null,
   "metadata": {
    "colab": {
     "base_uri": "https://localhost:8080/",
     "height": 203
    },
    "id": "ydE6tMvMXasa",
    "outputId": "04acb4a8-60bc-425d-871a-f987a8c74c2f"
   },
   "outputs": [
    {
     "data": {
      "text/html": [
       "<div>\n",
       "<style scoped>\n",
       "    .dataframe tbody tr th:only-of-type {\n",
       "        vertical-align: middle;\n",
       "    }\n",
       "\n",
       "    .dataframe tbody tr th {\n",
       "        vertical-align: top;\n",
       "    }\n",
       "\n",
       "    .dataframe thead th {\n",
       "        text-align: right;\n",
       "    }\n",
       "</style>\n",
       "<table border=\"1\" class=\"dataframe\">\n",
       "  <thead>\n",
       "    <tr style=\"text-align: right;\">\n",
       "      <th></th>\n",
       "      <th>id</th>\n",
       "      <th>name</th>\n",
       "      <th>date</th>\n",
       "      <th>manner_of_death</th>\n",
       "      <th>armed</th>\n",
       "      <th>age</th>\n",
       "      <th>gender</th>\n",
       "      <th>race</th>\n",
       "      <th>city</th>\n",
       "      <th>state</th>\n",
       "      <th>signs_of_mental_illness</th>\n",
       "      <th>threat_level</th>\n",
       "      <th>flee</th>\n",
       "      <th>body_camera</th>\n",
       "    </tr>\n",
       "  </thead>\n",
       "  <tbody>\n",
       "    <tr>\n",
       "      <th>0</th>\n",
       "      <td>3</td>\n",
       "      <td>Tim Elliot</td>\n",
       "      <td>02/01/15</td>\n",
       "      <td>shot</td>\n",
       "      <td>gun</td>\n",
       "      <td>53.0</td>\n",
       "      <td>M</td>\n",
       "      <td>A</td>\n",
       "      <td>Shelton</td>\n",
       "      <td>WA</td>\n",
       "      <td>True</td>\n",
       "      <td>attack</td>\n",
       "      <td>Not fleeing</td>\n",
       "      <td>False</td>\n",
       "    </tr>\n",
       "    <tr>\n",
       "      <th>1</th>\n",
       "      <td>4</td>\n",
       "      <td>Lewis Lee Lembke</td>\n",
       "      <td>02/01/15</td>\n",
       "      <td>shot</td>\n",
       "      <td>gun</td>\n",
       "      <td>47.0</td>\n",
       "      <td>M</td>\n",
       "      <td>W</td>\n",
       "      <td>Aloha</td>\n",
       "      <td>OR</td>\n",
       "      <td>False</td>\n",
       "      <td>attack</td>\n",
       "      <td>Not fleeing</td>\n",
       "      <td>False</td>\n",
       "    </tr>\n",
       "    <tr>\n",
       "      <th>2</th>\n",
       "      <td>5</td>\n",
       "      <td>John Paul Quintero</td>\n",
       "      <td>03/01/15</td>\n",
       "      <td>shot and Tasered</td>\n",
       "      <td>unarmed</td>\n",
       "      <td>23.0</td>\n",
       "      <td>M</td>\n",
       "      <td>H</td>\n",
       "      <td>Wichita</td>\n",
       "      <td>KS</td>\n",
       "      <td>False</td>\n",
       "      <td>other</td>\n",
       "      <td>Not fleeing</td>\n",
       "      <td>False</td>\n",
       "    </tr>\n",
       "    <tr>\n",
       "      <th>3</th>\n",
       "      <td>8</td>\n",
       "      <td>Matthew Hoffman</td>\n",
       "      <td>04/01/15</td>\n",
       "      <td>shot</td>\n",
       "      <td>toy weapon</td>\n",
       "      <td>32.0</td>\n",
       "      <td>M</td>\n",
       "      <td>W</td>\n",
       "      <td>San Francisco</td>\n",
       "      <td>CA</td>\n",
       "      <td>True</td>\n",
       "      <td>attack</td>\n",
       "      <td>Not fleeing</td>\n",
       "      <td>False</td>\n",
       "    </tr>\n",
       "    <tr>\n",
       "      <th>4</th>\n",
       "      <td>9</td>\n",
       "      <td>Michael Rodriguez</td>\n",
       "      <td>04/01/15</td>\n",
       "      <td>shot</td>\n",
       "      <td>nail gun</td>\n",
       "      <td>39.0</td>\n",
       "      <td>M</td>\n",
       "      <td>H</td>\n",
       "      <td>Evans</td>\n",
       "      <td>CO</td>\n",
       "      <td>False</td>\n",
       "      <td>attack</td>\n",
       "      <td>Not fleeing</td>\n",
       "      <td>False</td>\n",
       "    </tr>\n",
       "  </tbody>\n",
       "</table>\n",
       "</div>"
      ],
      "text/plain": [
       "   id                name      date  ... threat_level         flee  body_camera\n",
       "0   3          Tim Elliot  02/01/15  ...       attack  Not fleeing        False\n",
       "1   4    Lewis Lee Lembke  02/01/15  ...       attack  Not fleeing        False\n",
       "2   5  John Paul Quintero  03/01/15  ...        other  Not fleeing        False\n",
       "3   8     Matthew Hoffman  04/01/15  ...       attack  Not fleeing        False\n",
       "4   9   Michael Rodriguez  04/01/15  ...       attack  Not fleeing        False\n",
       "\n",
       "[5 rows x 14 columns]"
      ]
     },
     "execution_count": 37,
     "metadata": {
      "tags": []
     },
     "output_type": "execute_result"
    }
   ],
   "source": [
    "df.head()"
   ]
  },
  {
   "cell_type": "code",
   "execution_count": null,
   "metadata": {
    "colab": {
     "base_uri": "https://localhost:8080/",
     "height": 203
    },
    "id": "4u9RX4GZWb26",
    "outputId": "fc2669f1-1893-44ae-8067-528a3221d3e4"
   },
   "outputs": [
    {
     "data": {
      "text/html": [
       "<div>\n",
       "<style scoped>\n",
       "    .dataframe tbody tr th:only-of-type {\n",
       "        vertical-align: middle;\n",
       "    }\n",
       "\n",
       "    .dataframe tbody tr th {\n",
       "        vertical-align: top;\n",
       "    }\n",
       "\n",
       "    .dataframe thead th {\n",
       "        text-align: right;\n",
       "    }\n",
       "</style>\n",
       "<table border=\"1\" class=\"dataframe\">\n",
       "  <thead>\n",
       "    <tr style=\"text-align: right;\">\n",
       "      <th></th>\n",
       "      <th>id</th>\n",
       "      <th>name</th>\n",
       "      <th>date</th>\n",
       "      <th>manner_of_death</th>\n",
       "      <th>armed</th>\n",
       "      <th>age</th>\n",
       "      <th>gender</th>\n",
       "      <th>race</th>\n",
       "      <th>city</th>\n",
       "      <th>state</th>\n",
       "      <th>signs_of_mental_illness</th>\n",
       "      <th>threat_level</th>\n",
       "      <th>flee</th>\n",
       "      <th>body_camera</th>\n",
       "    </tr>\n",
       "  </thead>\n",
       "  <tbody>\n",
       "    <tr>\n",
       "      <th>627</th>\n",
       "      <td>756</td>\n",
       "      <td>Raul Herrera</td>\n",
       "      <td>20/08/15</td>\n",
       "      <td>shot</td>\n",
       "      <td>gun</td>\n",
       "      <td>17.0</td>\n",
       "      <td>M</td>\n",
       "      <td>H</td>\n",
       "      <td>Ontario</td>\n",
       "      <td>CA</td>\n",
       "      <td>True</td>\n",
       "      <td>attack</td>\n",
       "      <td>Not fleeing</td>\n",
       "      <td>False</td>\n",
       "    </tr>\n",
       "    <tr>\n",
       "      <th>2187</th>\n",
       "      <td>2440</td>\n",
       "      <td>Desmond Phillips</td>\n",
       "      <td>17/03/17</td>\n",
       "      <td>shot and Tasered</td>\n",
       "      <td>knife</td>\n",
       "      <td>25.0</td>\n",
       "      <td>M</td>\n",
       "      <td>B</td>\n",
       "      <td>Chico</td>\n",
       "      <td>CA</td>\n",
       "      <td>True</td>\n",
       "      <td>other</td>\n",
       "      <td>Not fleeing</td>\n",
       "      <td>False</td>\n",
       "    </tr>\n",
       "    <tr>\n",
       "      <th>2005</th>\n",
       "      <td>2241</td>\n",
       "      <td>Elijah Smith</td>\n",
       "      <td>19/01/17</td>\n",
       "      <td>shot and Tasered</td>\n",
       "      <td>knife</td>\n",
       "      <td>25.0</td>\n",
       "      <td>M</td>\n",
       "      <td>W</td>\n",
       "      <td>Florissant</td>\n",
       "      <td>MO</td>\n",
       "      <td>True</td>\n",
       "      <td>attack</td>\n",
       "      <td>Not fleeing</td>\n",
       "      <td>False</td>\n",
       "    </tr>\n",
       "    <tr>\n",
       "      <th>556</th>\n",
       "      <td>680</td>\n",
       "      <td>Zachary Hammond</td>\n",
       "      <td>26/07/15</td>\n",
       "      <td>shot</td>\n",
       "      <td>vehicle</td>\n",
       "      <td>19.0</td>\n",
       "      <td>M</td>\n",
       "      <td>W</td>\n",
       "      <td>Seneca</td>\n",
       "      <td>SC</td>\n",
       "      <td>False</td>\n",
       "      <td>other</td>\n",
       "      <td>Other</td>\n",
       "      <td>False</td>\n",
       "    </tr>\n",
       "    <tr>\n",
       "      <th>465</th>\n",
       "      <td>587</td>\n",
       "      <td>Kevin Lamont Judson</td>\n",
       "      <td>01/07/15</td>\n",
       "      <td>shot</td>\n",
       "      <td>vehicle</td>\n",
       "      <td>24.0</td>\n",
       "      <td>M</td>\n",
       "      <td>B</td>\n",
       "      <td>McMinnville</td>\n",
       "      <td>OR</td>\n",
       "      <td>False</td>\n",
       "      <td>attack</td>\n",
       "      <td>Foot</td>\n",
       "      <td>False</td>\n",
       "    </tr>\n",
       "  </tbody>\n",
       "</table>\n",
       "</div>"
      ],
      "text/plain": [
       "        id                 name  ...         flee body_camera\n",
       "627    756         Raul Herrera  ...  Not fleeing       False\n",
       "2187  2440     Desmond Phillips  ...  Not fleeing       False\n",
       "2005  2241         Elijah Smith  ...  Not fleeing       False\n",
       "556    680      Zachary Hammond  ...        Other       False\n",
       "465    587  Kevin Lamont Judson  ...         Foot       False\n",
       "\n",
       "[5 rows x 14 columns]"
      ]
     },
     "execution_count": 38,
     "metadata": {
      "tags": []
     },
     "output_type": "execute_result"
    }
   ],
   "source": [
    "below25 = df[df[\"age\"] <= 25]\n",
    "below25.sample(5)"
   ]
  },
  {
   "cell_type": "code",
   "execution_count": null,
   "metadata": {
    "colab": {
     "base_uri": "https://localhost:8080/",
     "height": 203
    },
    "id": "Yo9N5auTXt8b",
    "outputId": "06d63825-cb8e-41a7-b962-cbcb51a9b4d6"
   },
   "outputs": [
    {
     "data": {
      "text/html": [
       "<div>\n",
       "<style scoped>\n",
       "    .dataframe tbody tr th:only-of-type {\n",
       "        vertical-align: middle;\n",
       "    }\n",
       "\n",
       "    .dataframe tbody tr th {\n",
       "        vertical-align: top;\n",
       "    }\n",
       "\n",
       "    .dataframe thead th {\n",
       "        text-align: right;\n",
       "    }\n",
       "</style>\n",
       "<table border=\"1\" class=\"dataframe\">\n",
       "  <thead>\n",
       "    <tr style=\"text-align: right;\">\n",
       "      <th></th>\n",
       "      <th>id</th>\n",
       "      <th>name</th>\n",
       "      <th>date</th>\n",
       "      <th>manner_of_death</th>\n",
       "      <th>armed</th>\n",
       "      <th>age</th>\n",
       "      <th>gender</th>\n",
       "      <th>race</th>\n",
       "      <th>city</th>\n",
       "      <th>state</th>\n",
       "      <th>signs_of_mental_illness</th>\n",
       "      <th>threat_level</th>\n",
       "      <th>flee</th>\n",
       "      <th>body_camera</th>\n",
       "    </tr>\n",
       "  </thead>\n",
       "  <tbody>\n",
       "    <tr>\n",
       "      <th>1148</th>\n",
       "      <td>1312</td>\n",
       "      <td>Luke Miller</td>\n",
       "      <td>25/02/16</td>\n",
       "      <td>shot</td>\n",
       "      <td>gun</td>\n",
       "      <td>37.0</td>\n",
       "      <td>M</td>\n",
       "      <td>W</td>\n",
       "      <td>Evans</td>\n",
       "      <td>CO</td>\n",
       "      <td>False</td>\n",
       "      <td>attack</td>\n",
       "      <td>Foot</td>\n",
       "      <td>True</td>\n",
       "    </tr>\n",
       "    <tr>\n",
       "      <th>1497</th>\n",
       "      <td>1679</td>\n",
       "      <td>William Tracy Patterson</td>\n",
       "      <td>04/07/16</td>\n",
       "      <td>shot</td>\n",
       "      <td>gun</td>\n",
       "      <td>34.0</td>\n",
       "      <td>M</td>\n",
       "      <td>W</td>\n",
       "      <td>North Charleston</td>\n",
       "      <td>SC</td>\n",
       "      <td>False</td>\n",
       "      <td>attack</td>\n",
       "      <td>Not fleeing</td>\n",
       "      <td>True</td>\n",
       "    </tr>\n",
       "    <tr>\n",
       "      <th>2168</th>\n",
       "      <td>2412</td>\n",
       "      <td>Michael Anthony Perez</td>\n",
       "      <td>12/03/17</td>\n",
       "      <td>shot and Tasered</td>\n",
       "      <td>knife</td>\n",
       "      <td>33.0</td>\n",
       "      <td>M</td>\n",
       "      <td>H</td>\n",
       "      <td>Orange</td>\n",
       "      <td>CA</td>\n",
       "      <td>True</td>\n",
       "      <td>other</td>\n",
       "      <td>Not fleeing</td>\n",
       "      <td>False</td>\n",
       "    </tr>\n",
       "    <tr>\n",
       "      <th>1171</th>\n",
       "      <td>1339</td>\n",
       "      <td>Philip Vitullo</td>\n",
       "      <td>07/03/16</td>\n",
       "      <td>shot</td>\n",
       "      <td>gun</td>\n",
       "      <td>49.0</td>\n",
       "      <td>M</td>\n",
       "      <td>W</td>\n",
       "      <td>Rochester</td>\n",
       "      <td>NY</td>\n",
       "      <td>True</td>\n",
       "      <td>attack</td>\n",
       "      <td>Not fleeing</td>\n",
       "      <td>False</td>\n",
       "    </tr>\n",
       "    <tr>\n",
       "      <th>1595</th>\n",
       "      <td>1784</td>\n",
       "      <td>Perry Lee Heitman</td>\n",
       "      <td>13/08/16</td>\n",
       "      <td>shot</td>\n",
       "      <td>gun</td>\n",
       "      <td>53.0</td>\n",
       "      <td>M</td>\n",
       "      <td>W</td>\n",
       "      <td>Lakewood</td>\n",
       "      <td>CO</td>\n",
       "      <td>False</td>\n",
       "      <td>other</td>\n",
       "      <td>Not fleeing</td>\n",
       "      <td>False</td>\n",
       "    </tr>\n",
       "  </tbody>\n",
       "</table>\n",
       "</div>"
      ],
      "text/plain": [
       "        id                     name  ...         flee body_camera\n",
       "1148  1312              Luke Miller  ...         Foot        True\n",
       "1497  1679  William Tracy Patterson  ...  Not fleeing        True\n",
       "2168  2412    Michael Anthony Perez  ...  Not fleeing       False\n",
       "1171  1339           Philip Vitullo  ...  Not fleeing       False\n",
       "1595  1784        Perry Lee Heitman  ...  Not fleeing       False\n",
       "\n",
       "[5 rows x 14 columns]"
      ]
     },
     "execution_count": 39,
     "metadata": {
      "tags": []
     },
     "output_type": "execute_result"
    }
   ],
   "source": [
    "above25 = df[df[\"age\"] > 25]\n",
    "above25.sample(5)"
   ]
  },
  {
   "cell_type": "code",
   "execution_count": null,
   "metadata": {
    "colab": {
     "base_uri": "https://localhost:8080/"
    },
    "id": "qzScLre_aXlj",
    "outputId": "c8844a58-1028-415b-84f2-15b6c8518d48"
   },
   "outputs": [
    {
     "data": {
      "text/plain": [
       "553"
      ]
     },
     "execution_count": 40,
     "metadata": {
      "tags": []
     },
     "output_type": "execute_result"
    }
   ],
   "source": [
    "below25[\"age\"].count()"
   ]
  },
  {
   "cell_type": "code",
   "execution_count": null,
   "metadata": {
    "colab": {
     "base_uri": "https://localhost:8080/"
    },
    "id": "IfbyFveCawQw",
    "outputId": "deb91a8b-ad5c-41e0-bb1a-1d58c4fb21d3"
   },
   "outputs": [
    {
     "data": {
      "text/plain": [
       "1905"
      ]
     },
     "execution_count": 41,
     "metadata": {
      "tags": []
     },
     "output_type": "execute_result"
    }
   ],
   "source": [
    "above25[\"age\"].count()"
   ]
  },
  {
   "cell_type": "code",
   "execution_count": null,
   "metadata": {
    "colab": {
     "base_uri": "https://localhost:8080/"
    },
    "id": "-Em5BwTy0jfg",
    "outputId": "12a15807-4ce2-462c-f919-5413e7ef9fb0"
   },
   "outputs": [
    {
     "data": {
      "text/plain": [
       "2458"
      ]
     },
     "execution_count": 42,
     "metadata": {
      "tags": []
     },
     "output_type": "execute_result"
    }
   ],
   "source": [
    "df.age.value_counts().sum()"
   ]
  },
  {
   "cell_type": "code",
   "execution_count": null,
   "metadata": {
    "id": "oHbQDasV0uGG"
   },
   "outputs": [],
   "source": [
    "below25.age = \"below25\""
   ]
  },
  {
   "cell_type": "code",
   "execution_count": null,
   "metadata": {
    "id": "YOBjHez30tvH"
   },
   "outputs": [],
   "source": [
    "above25.age = \"above25\""
   ]
  },
  {
   "cell_type": "code",
   "execution_count": null,
   "metadata": {
    "id": "FgaWCkq_00Pd"
   },
   "outputs": [],
   "source": [
    "grouped_age = below25['age'].append(above25['age'])"
   ]
  },
  {
   "cell_type": "code",
   "execution_count": null,
   "metadata": {
    "id": "RraYOwfW00Kv"
   },
   "outputs": [],
   "source": [
    "df['grouped_age'] = grouped_age"
   ]
  },
  {
   "cell_type": "code",
   "execution_count": null,
   "metadata": {
    "id": "SVUHuZuAb_Rx"
   },
   "outputs": [],
   "source": [
    "# below25 = df[df[\"age\"] <= 25].count().id.sum()\n",
    "# above25 = df[df[\"age\"] > 25].count().id.sum()"
   ]
  },
  {
   "cell_type": "code",
   "execution_count": null,
   "metadata": {
    "colab": {
     "base_uri": "https://localhost:8080/",
     "height": 142
    },
    "id": "suGEuqg4it5e",
    "outputId": "d5acb53d-5a2e-455b-83d0-24fb65960bdf"
   },
   "outputs": [
    {
     "data": {
      "text/html": [
       "<div>\n",
       "<style scoped>\n",
       "    .dataframe tbody tr th:only-of-type {\n",
       "        vertical-align: middle;\n",
       "    }\n",
       "\n",
       "    .dataframe tbody tr th {\n",
       "        vertical-align: top;\n",
       "    }\n",
       "\n",
       "    .dataframe thead th {\n",
       "        text-align: right;\n",
       "    }\n",
       "</style>\n",
       "<table border=\"1\" class=\"dataframe\">\n",
       "  <thead>\n",
       "    <tr style=\"text-align: right;\">\n",
       "      <th></th>\n",
       "      <th>id</th>\n",
       "      <th>name</th>\n",
       "      <th>date</th>\n",
       "      <th>manner_of_death</th>\n",
       "      <th>armed</th>\n",
       "      <th>age</th>\n",
       "      <th>gender</th>\n",
       "      <th>race</th>\n",
       "      <th>city</th>\n",
       "      <th>state</th>\n",
       "      <th>signs_of_mental_illness</th>\n",
       "      <th>threat_level</th>\n",
       "      <th>flee</th>\n",
       "      <th>body_camera</th>\n",
       "      <th>grouped_age</th>\n",
       "    </tr>\n",
       "  </thead>\n",
       "  <tbody>\n",
       "    <tr>\n",
       "      <th>0</th>\n",
       "      <td>3</td>\n",
       "      <td>Tim Elliot</td>\n",
       "      <td>02/01/15</td>\n",
       "      <td>shot</td>\n",
       "      <td>gun</td>\n",
       "      <td>53.0</td>\n",
       "      <td>M</td>\n",
       "      <td>A</td>\n",
       "      <td>Shelton</td>\n",
       "      <td>WA</td>\n",
       "      <td>True</td>\n",
       "      <td>attack</td>\n",
       "      <td>Not fleeing</td>\n",
       "      <td>False</td>\n",
       "      <td>above25</td>\n",
       "    </tr>\n",
       "    <tr>\n",
       "      <th>1</th>\n",
       "      <td>4</td>\n",
       "      <td>Lewis Lee Lembke</td>\n",
       "      <td>02/01/15</td>\n",
       "      <td>shot</td>\n",
       "      <td>gun</td>\n",
       "      <td>47.0</td>\n",
       "      <td>M</td>\n",
       "      <td>W</td>\n",
       "      <td>Aloha</td>\n",
       "      <td>OR</td>\n",
       "      <td>False</td>\n",
       "      <td>attack</td>\n",
       "      <td>Not fleeing</td>\n",
       "      <td>False</td>\n",
       "      <td>above25</td>\n",
       "    </tr>\n",
       "    <tr>\n",
       "      <th>2</th>\n",
       "      <td>5</td>\n",
       "      <td>John Paul Quintero</td>\n",
       "      <td>03/01/15</td>\n",
       "      <td>shot and Tasered</td>\n",
       "      <td>unarmed</td>\n",
       "      <td>23.0</td>\n",
       "      <td>M</td>\n",
       "      <td>H</td>\n",
       "      <td>Wichita</td>\n",
       "      <td>KS</td>\n",
       "      <td>False</td>\n",
       "      <td>other</td>\n",
       "      <td>Not fleeing</td>\n",
       "      <td>False</td>\n",
       "      <td>below25</td>\n",
       "    </tr>\n",
       "  </tbody>\n",
       "</table>\n",
       "</div>"
      ],
      "text/plain": [
       "   id                name      date  ...         flee body_camera  grouped_age\n",
       "0   3          Tim Elliot  02/01/15  ...  Not fleeing       False      above25\n",
       "1   4    Lewis Lee Lembke  02/01/15  ...  Not fleeing       False      above25\n",
       "2   5  John Paul Quintero  03/01/15  ...  Not fleeing       False      below25\n",
       "\n",
       "[3 rows x 15 columns]"
      ]
     },
     "execution_count": 48,
     "metadata": {
      "tags": []
     },
     "output_type": "execute_result"
    }
   ],
   "source": [
    "df.head(3)"
   ]
  },
  {
   "cell_type": "code",
   "execution_count": null,
   "metadata": {
    "id": "hpDQ-x40XJP8"
   },
   "outputs": [],
   "source": [
    "# df[df[\"grouped_age\"] <= 25] = 'below25' "
   ]
  },
  {
   "cell_type": "code",
   "execution_count": null,
   "metadata": {
    "id": "jSdke0pHXS50"
   },
   "outputs": [],
   "source": [
    "# df[df[\"grouped_age\"] > 25] = 'above25'"
   ]
  },
  {
   "cell_type": "code",
   "execution_count": null,
   "metadata": {
    "colab": {
     "base_uri": "https://localhost:8080/"
    },
    "id": "anB0xJ0oi1so",
    "outputId": "9ff3de83-e1e3-4ae1-e7c1-b67f33badd03"
   },
   "outputs": [
    {
     "data": {
      "text/plain": [
       "above25    1905\n",
       "below25     553\n",
       "Name: grouped_age, dtype: int64"
      ]
     },
     "execution_count": 49,
     "metadata": {
      "tags": []
     },
     "output_type": "execute_result"
    }
   ],
   "source": [
    "df['grouped_age'].value_counts()"
   ]
  },
  {
   "cell_type": "code",
   "execution_count": null,
   "metadata": {
    "colab": {
     "base_uri": "https://localhost:8080/",
     "height": 417
    },
    "id": "T5yUww0ghzI0",
    "outputId": "54193559-6f29-45c7-8a03-f2ae1ed39d10"
   },
   "outputs": [
    {
     "data": {
      "text/html": [
       "<div>\n",
       "<style scoped>\n",
       "    .dataframe tbody tr th:only-of-type {\n",
       "        vertical-align: middle;\n",
       "    }\n",
       "\n",
       "    .dataframe tbody tr th {\n",
       "        vertical-align: top;\n",
       "    }\n",
       "\n",
       "    .dataframe thead th {\n",
       "        text-align: right;\n",
       "    }\n",
       "</style>\n",
       "<table border=\"1\" class=\"dataframe\">\n",
       "  <thead>\n",
       "    <tr style=\"text-align: right;\">\n",
       "      <th></th>\n",
       "      <th>id</th>\n",
       "      <th>name</th>\n",
       "      <th>date</th>\n",
       "      <th>manner_of_death</th>\n",
       "      <th>armed</th>\n",
       "      <th>age</th>\n",
       "      <th>gender</th>\n",
       "      <th>race</th>\n",
       "      <th>city</th>\n",
       "      <th>state</th>\n",
       "      <th>signs_of_mental_illness</th>\n",
       "      <th>threat_level</th>\n",
       "      <th>flee</th>\n",
       "      <th>body_camera</th>\n",
       "    </tr>\n",
       "  </thead>\n",
       "  <tbody>\n",
       "    <tr>\n",
       "      <th>2</th>\n",
       "      <td>5</td>\n",
       "      <td>John Paul Quintero</td>\n",
       "      <td>03/01/15</td>\n",
       "      <td>shot and Tasered</td>\n",
       "      <td>unarmed</td>\n",
       "      <td>23.0</td>\n",
       "      <td>M</td>\n",
       "      <td>H</td>\n",
       "      <td>Wichita</td>\n",
       "      <td>KS</td>\n",
       "      <td>False</td>\n",
       "      <td>other</td>\n",
       "      <td>Not fleeing</td>\n",
       "      <td>False</td>\n",
       "    </tr>\n",
       "    <tr>\n",
       "      <th>5</th>\n",
       "      <td>11</td>\n",
       "      <td>Kenneth Joe Brown</td>\n",
       "      <td>04/01/15</td>\n",
       "      <td>shot</td>\n",
       "      <td>gun</td>\n",
       "      <td>18.0</td>\n",
       "      <td>M</td>\n",
       "      <td>W</td>\n",
       "      <td>Guthrie</td>\n",
       "      <td>OK</td>\n",
       "      <td>False</td>\n",
       "      <td>attack</td>\n",
       "      <td>Not fleeing</td>\n",
       "      <td>False</td>\n",
       "    </tr>\n",
       "    <tr>\n",
       "      <th>6</th>\n",
       "      <td>13</td>\n",
       "      <td>Kenneth Arnold Buck</td>\n",
       "      <td>05/01/15</td>\n",
       "      <td>shot</td>\n",
       "      <td>gun</td>\n",
       "      <td>22.0</td>\n",
       "      <td>M</td>\n",
       "      <td>H</td>\n",
       "      <td>Chandler</td>\n",
       "      <td>AZ</td>\n",
       "      <td>False</td>\n",
       "      <td>attack</td>\n",
       "      <td>Car</td>\n",
       "      <td>False</td>\n",
       "    </tr>\n",
       "    <tr>\n",
       "      <th>10</th>\n",
       "      <td>19</td>\n",
       "      <td>Patrick Wetter</td>\n",
       "      <td>06/01/15</td>\n",
       "      <td>shot and Tasered</td>\n",
       "      <td>knife</td>\n",
       "      <td>25.0</td>\n",
       "      <td>M</td>\n",
       "      <td>W</td>\n",
       "      <td>Stockton</td>\n",
       "      <td>CA</td>\n",
       "      <td>False</td>\n",
       "      <td>attack</td>\n",
       "      <td>Not fleeing</td>\n",
       "      <td>False</td>\n",
       "    </tr>\n",
       "    <tr>\n",
       "      <th>22</th>\n",
       "      <td>43</td>\n",
       "      <td>Brian  Barbosa</td>\n",
       "      <td>11/01/15</td>\n",
       "      <td>shot</td>\n",
       "      <td>gun</td>\n",
       "      <td>23.0</td>\n",
       "      <td>M</td>\n",
       "      <td>H</td>\n",
       "      <td>South Gate</td>\n",
       "      <td>CA</td>\n",
       "      <td>False</td>\n",
       "      <td>attack</td>\n",
       "      <td>Not fleeing</td>\n",
       "      <td>False</td>\n",
       "    </tr>\n",
       "    <tr>\n",
       "      <th>...</th>\n",
       "      <td>...</td>\n",
       "      <td>...</td>\n",
       "      <td>...</td>\n",
       "      <td>...</td>\n",
       "      <td>...</td>\n",
       "      <td>...</td>\n",
       "      <td>...</td>\n",
       "      <td>...</td>\n",
       "      <td>...</td>\n",
       "      <td>...</td>\n",
       "      <td>...</td>\n",
       "      <td>...</td>\n",
       "      <td>...</td>\n",
       "      <td>...</td>\n",
       "    </tr>\n",
       "    <tr>\n",
       "      <th>2529</th>\n",
       "      <td>2819</td>\n",
       "      <td>Brian J. Skinner</td>\n",
       "      <td>28/07/17</td>\n",
       "      <td>shot</td>\n",
       "      <td>knife</td>\n",
       "      <td>32.0</td>\n",
       "      <td>M</td>\n",
       "      <td>NaN</td>\n",
       "      <td>Glenville</td>\n",
       "      <td>NY</td>\n",
       "      <td>True</td>\n",
       "      <td>other</td>\n",
       "      <td>Not fleeing</td>\n",
       "      <td>False</td>\n",
       "    </tr>\n",
       "    <tr>\n",
       "      <th>2530</th>\n",
       "      <td>2822</td>\n",
       "      <td>Rodney E. Jacobs</td>\n",
       "      <td>28/07/17</td>\n",
       "      <td>shot</td>\n",
       "      <td>gun</td>\n",
       "      <td>31.0</td>\n",
       "      <td>M</td>\n",
       "      <td>NaN</td>\n",
       "      <td>Kansas City</td>\n",
       "      <td>MO</td>\n",
       "      <td>False</td>\n",
       "      <td>attack</td>\n",
       "      <td>Not fleeing</td>\n",
       "      <td>False</td>\n",
       "    </tr>\n",
       "    <tr>\n",
       "      <th>2532</th>\n",
       "      <td>2818</td>\n",
       "      <td>Dennis W. Robinson</td>\n",
       "      <td>29/07/17</td>\n",
       "      <td>shot</td>\n",
       "      <td>gun</td>\n",
       "      <td>48.0</td>\n",
       "      <td>M</td>\n",
       "      <td>NaN</td>\n",
       "      <td>Melba</td>\n",
       "      <td>ID</td>\n",
       "      <td>False</td>\n",
       "      <td>attack</td>\n",
       "      <td>Car</td>\n",
       "      <td>False</td>\n",
       "    </tr>\n",
       "    <tr>\n",
       "      <th>2533</th>\n",
       "      <td>2817</td>\n",
       "      <td>Isaiah Tucker</td>\n",
       "      <td>31/07/17</td>\n",
       "      <td>shot</td>\n",
       "      <td>vehicle</td>\n",
       "      <td>28.0</td>\n",
       "      <td>M</td>\n",
       "      <td>B</td>\n",
       "      <td>Oshkosh</td>\n",
       "      <td>WI</td>\n",
       "      <td>False</td>\n",
       "      <td>attack</td>\n",
       "      <td>Car</td>\n",
       "      <td>True</td>\n",
       "    </tr>\n",
       "    <tr>\n",
       "      <th>2534</th>\n",
       "      <td>2815</td>\n",
       "      <td>Dwayne Jeune</td>\n",
       "      <td>31/07/17</td>\n",
       "      <td>shot</td>\n",
       "      <td>knife</td>\n",
       "      <td>32.0</td>\n",
       "      <td>M</td>\n",
       "      <td>B</td>\n",
       "      <td>Brooklyn</td>\n",
       "      <td>NY</td>\n",
       "      <td>True</td>\n",
       "      <td>attack</td>\n",
       "      <td>Not fleeing</td>\n",
       "      <td>False</td>\n",
       "    </tr>\n",
       "  </tbody>\n",
       "</table>\n",
       "<p>2458 rows × 14 columns</p>\n",
       "</div>"
      ],
      "text/plain": [
       "        id                 name  ...         flee body_camera\n",
       "2        5   John Paul Quintero  ...  Not fleeing       False\n",
       "5       11    Kenneth Joe Brown  ...  Not fleeing       False\n",
       "6       13  Kenneth Arnold Buck  ...          Car       False\n",
       "10      19       Patrick Wetter  ...  Not fleeing       False\n",
       "22      43       Brian  Barbosa  ...  Not fleeing       False\n",
       "...    ...                  ...  ...          ...         ...\n",
       "2529  2819     Brian J. Skinner  ...  Not fleeing       False\n",
       "2530  2822     Rodney E. Jacobs  ...  Not fleeing       False\n",
       "2532  2818   Dennis W. Robinson  ...          Car       False\n",
       "2533  2817        Isaiah Tucker  ...          Car        True\n",
       "2534  2815         Dwayne Jeune  ...  Not fleeing       False\n",
       "\n",
       "[2458 rows x 14 columns]"
      ]
     },
     "execution_count": 463,
     "metadata": {
      "tags": []
     },
     "output_type": "execute_result"
    }
   ],
   "source": [
    "# df3 = pd.concat([below25, above25])\n",
    "# df3"
   ]
  },
  {
   "cell_type": "code",
   "execution_count": null,
   "metadata": {
    "id": "EKOc-JQmhyYY"
   },
   "outputs": [],
   "source": []
  },
  {
   "cell_type": "code",
   "execution_count": null,
   "metadata": {
    "colab": {
     "base_uri": "https://localhost:8080/",
     "height": 302
    },
    "id": "O5TT5DGG2Zi_",
    "outputId": "c052b208-6dbd-4f6e-c8a9-63df71c610ee"
   },
   "outputs": [
    {
     "data": {
      "image/png": "[encoded data removed]",
      "text/plain": [
       "<Figure size 432x288 with 1 Axes>"
      ]
     },
     "metadata": {
      "needs_background": "light",
      "tags": []
     },
     "output_type": "display_data"
    }
   ],
   "source": [
    "# with pandas\n"
   ]
  },
  {
   "cell_type": "code",
   "execution_count": null,
   "metadata": {
    "colab": {
     "base_uri": "https://localhost:8080/"
    },
    "id": "cnb9gfPEjNx3",
    "outputId": "2d30dccd-1e23-4b94-c10c-7b162854929b"
   },
   "outputs": [
    {
     "name": "stdout",
     "output_type": "stream",
     "text": [
      "Index(['above25', 'below25'], dtype='object')\n",
      "[1905  553]\n"
     ]
    }
   ],
   "source": [
    "x = df['grouped_age'].value_counts().index\n",
    "print(x)\n",
    "y = df['grouped_age'].value_counts().values\n",
    "print(y)"
   ]
  },
  {
   "cell_type": "code",
   "execution_count": null,
   "metadata": {
    "colab": {
     "base_uri": "https://localhost:8080/",
     "height": 510
    },
    "id": "XbTq-gV_jveR",
    "outputId": "5cd3561c-39e3-4857-9a6c-3402768f7c6f"
   },
   "outputs": [
    {
     "data": {
      "image/png": "[encoded data removed]",
      "text/plain": [
       "<Figure size 500x500 with 1 Axes>"
      ]
     },
     "metadata": {
      "needs_background": "light",
      "tags": []
     },
     "output_type": "display_data"
    }
   ],
   "source": [
    "plt.figure(figsize=(4,4), dpi=125)\n",
    "df[\"grouped_age\"].value_counts().plot.bar(width=0.5)\n",
    "plt.xticks(rotation = 55);\n",
    "for index, value in enumerate(y):\n",
    "  plt.text(index, value+10, str(value), horizontalalignment='center')"
   ]
  },
  {
   "cell_type": "code",
   "execution_count": null,
   "metadata": {
    "colab": {
     "base_uri": "https://localhost:8080/",
     "height": 269
    },
    "id": "gpOukiYx2Zi_",
    "outputId": "84b257d1-14e1-4bef-d6a4-08cf0a236acb"
   },
   "outputs": [
    {
     "data": {
      "image/png": "[encoded data removed]",
      "text/plain": [
       "<Figure size 432x288 with 1 Axes>"
      ]
     },
     "metadata": {
      "needs_background": "light",
      "tags": []
     },
     "output_type": "display_data"
    }
   ],
   "source": [
    "# with matplotlib\n"
   ]
  },
  {
   "cell_type": "code",
   "execution_count": null,
   "metadata": {
    "colab": {
     "base_uri": "https://localhost:8080/",
     "height": 300
    },
    "id": "6CPh9QkllGnk",
    "outputId": "471476a3-a695-4b1e-d300-e6cb037fb63c"
   },
   "outputs": [
    {
     "data": {
      "image/png": "[encoded data removed]",
      "text/plain": [
       "<Figure size 432x288 with 1 Axes>"
      ]
     },
     "metadata": {
      "needs_background": "light",
      "tags": []
     },
     "output_type": "display_data"
    }
   ],
   "source": [
    "fig, ax = plt.subplots(figsize= (6,4))\n",
    "ax.bar(x, y, width=0.8)\n",
    "plt.xticks(rotation = 55)\n",
    "for index, value in enumerate(y):\n",
    "  plt.text(index, value+10, str(value), horizontalalignment='center');"
   ]
  },
  {
   "cell_type": "markdown",
   "metadata": {
    "id": "SZ-wps772Zi_"
   },
   "source": [
    "## 4: Plot number of killed poeple by race"
   ]
  },
  {
   "cell_type": "code",
   "execution_count": null,
   "metadata": {
    "colab": {
     "base_uri": "https://localhost:8080/",
     "height": 110
    },
    "id": "BWOmP8lbl3o1",
    "outputId": "c76c8da9-eebf-4937-a90f-4f6a338f8080"
   },
   "outputs": [
    {
     "data": {
      "text/html": [
       "<div>\n",
       "<style scoped>\n",
       "    .dataframe tbody tr th:only-of-type {\n",
       "        vertical-align: middle;\n",
       "    }\n",
       "\n",
       "    .dataframe tbody tr th {\n",
       "        vertical-align: top;\n",
       "    }\n",
       "\n",
       "    .dataframe thead th {\n",
       "        text-align: right;\n",
       "    }\n",
       "</style>\n",
       "<table border=\"1\" class=\"dataframe\">\n",
       "  <thead>\n",
       "    <tr style=\"text-align: right;\">\n",
       "      <th></th>\n",
       "      <th>id</th>\n",
       "      <th>name</th>\n",
       "      <th>date</th>\n",
       "      <th>manner_of_death</th>\n",
       "      <th>armed</th>\n",
       "      <th>age</th>\n",
       "      <th>gender</th>\n",
       "      <th>race</th>\n",
       "      <th>city</th>\n",
       "      <th>state</th>\n",
       "      <th>signs_of_mental_illness</th>\n",
       "      <th>threat_level</th>\n",
       "      <th>flee</th>\n",
       "      <th>body_camera</th>\n",
       "      <th>age_catogoric</th>\n",
       "      <th>age_categoric</th>\n",
       "    </tr>\n",
       "  </thead>\n",
       "  <tbody>\n",
       "    <tr>\n",
       "      <th>0</th>\n",
       "      <td>3</td>\n",
       "      <td>Tim Elliot</td>\n",
       "      <td>02/01/15</td>\n",
       "      <td>shot</td>\n",
       "      <td>gun</td>\n",
       "      <td>53.0</td>\n",
       "      <td>M</td>\n",
       "      <td>A</td>\n",
       "      <td>Shelton</td>\n",
       "      <td>WA</td>\n",
       "      <td>True</td>\n",
       "      <td>attack</td>\n",
       "      <td>Not fleeing</td>\n",
       "      <td>False</td>\n",
       "      <td>above25</td>\n",
       "      <td>above25</td>\n",
       "    </tr>\n",
       "    <tr>\n",
       "      <th>1</th>\n",
       "      <td>4</td>\n",
       "      <td>Lewis Lee Lembke</td>\n",
       "      <td>02/01/15</td>\n",
       "      <td>shot</td>\n",
       "      <td>gun</td>\n",
       "      <td>47.0</td>\n",
       "      <td>M</td>\n",
       "      <td>W</td>\n",
       "      <td>Aloha</td>\n",
       "      <td>OR</td>\n",
       "      <td>False</td>\n",
       "      <td>attack</td>\n",
       "      <td>Not fleeing</td>\n",
       "      <td>False</td>\n",
       "      <td>above25</td>\n",
       "      <td>above25</td>\n",
       "    </tr>\n",
       "  </tbody>\n",
       "</table>\n",
       "</div>"
      ],
      "text/plain": [
       "   id              name      date  ... body_camera age_catogoric  age_categoric\n",
       "0   3        Tim Elliot  02/01/15  ...       False       above25        above25\n",
       "1   4  Lewis Lee Lembke  02/01/15  ...       False       above25        above25\n",
       "\n",
       "[2 rows x 16 columns]"
      ]
     },
     "execution_count": 167,
     "metadata": {
      "tags": []
     },
     "output_type": "execute_result"
    }
   ],
   "source": [
    "df.head(2)"
   ]
  },
  {
   "cell_type": "code",
   "execution_count": null,
   "metadata": {
    "colab": {
     "base_uri": "https://localhost:8080/"
    },
    "id": "AtduH975mAr9",
    "outputId": "dc7d07d6-edef-4e62-e319-d3c6df641f51"
   },
   "outputs": [
    {
     "data": {
      "text/plain": [
       "W    1201\n",
       "B     618\n",
       "H     423\n",
       "A      39\n",
       "N      31\n",
       "O      28\n",
       "Name: race, dtype: int64"
      ]
     },
     "execution_count": 175,
     "metadata": {
      "tags": []
     },
     "output_type": "execute_result"
    }
   ],
   "source": [
    "df['race'].value_counts()"
   ]
  },
  {
   "cell_type": "code",
   "execution_count": null,
   "metadata": {
    "colab": {
     "base_uri": "https://localhost:8080/"
    },
    "id": "Uqh-Od7X2Zi_",
    "outputId": "9d3da4ed-bc38-45c9-a66f-7d5ba5fb9f5c"
   },
   "outputs": [
    {
     "data": {
      "text/plain": [
       "W    1201\n",
       "B     618\n",
       "H     423\n",
       "A      39\n",
       "N      31\n",
       "O      28\n",
       "Name: race, dtype: int64"
      ]
     },
     "execution_count": 15,
     "metadata": {
      "tags": []
     },
     "output_type": "execute_result"
    }
   ],
   "source": []
  },
  {
   "cell_type": "code",
   "execution_count": null,
   "metadata": {
    "colab": {
     "base_uri": "https://localhost:8080/",
     "height": 283
    },
    "id": "-q2lckGI2ZjA",
    "outputId": "aeed5936-fc89-4370-cdc2-1be0f9c5dcca"
   },
   "outputs": [
    {
     "data": {
      "image/png": "[encoded data removed]",
      "text/plain": [
       "<Figure size 432x288 with 1 Axes>"
      ]
     },
     "metadata": {
      "needs_background": "light",
      "tags": []
     },
     "output_type": "display_data"
    }
   ],
   "source": [
    "# with pandas\n"
   ]
  },
  {
   "cell_type": "code",
   "execution_count": null,
   "metadata": {
    "colab": {
     "base_uri": "https://localhost:8080/"
    },
    "id": "sQHuzuiVmyoa",
    "outputId": "345bb092-4c63-47a0-dd5d-d5bf25b1ec6c"
   },
   "outputs": [
    {
     "name": "stdout",
     "output_type": "stream",
     "text": [
      "Index(['W', 'B', 'H', 'A', 'N', 'O'], dtype='object')\n",
      "[1201  618  423   39   31   28]\n"
     ]
    }
   ],
   "source": [
    "x = df['race'].value_counts().index\n",
    "print(x)\n",
    "y = df['race'].value_counts().values\n",
    "print(y)"
   ]
  },
  {
   "cell_type": "code",
   "execution_count": null,
   "metadata": {
    "colab": {
     "base_uri": "https://localhost:8080/",
     "height": 294
    },
    "id": "Bl0IWIYWnpdO",
    "outputId": "412fb1d6-a1d9-4161-a7d9-da7b23d50112"
   },
   "outputs": [
    {
     "data": {
      "image/png": "[encoded data removed]",
      "text/plain": [
       "<Figure size 450x300 with 1 Axes>"
      ]
     },
     "metadata": {
      "needs_background": "light",
      "tags": []
     },
     "output_type": "display_data"
    }
   ],
   "source": [
    "plt.figure(figsize=(6,4), dpi=75)\n",
    "df[\"race\"].value_counts().plot.bar(width=0.5)\n",
    "plt.title(\"Race of killed people\", fontsize= 15, color=\"blue\")\n",
    "plt.xticks(rotation = 90);\n",
    "for index, value in enumerate(y):\n",
    "  plt.text(index, value+10, str(value), horizontalalignment='center')"
   ]
  },
  {
   "cell_type": "code",
   "execution_count": null,
   "metadata": {
    "colab": {
     "base_uri": "https://localhost:8080/",
     "height": 283
    },
    "id": "Bb16OmdB2ZjA",
    "outputId": "7e601245-42a2-4547-8d3f-8151bc5a1005"
   },
   "outputs": [
    {
     "data": {
      "image/png": "[encoded data removed]",
      "text/plain": [
       "<Figure size 432x288 with 1 Axes>"
      ]
     },
     "metadata": {
      "needs_background": "light",
      "tags": []
     },
     "output_type": "display_data"
    }
   ],
   "source": [
    "# with matplotlib\n"
   ]
  },
  {
   "cell_type": "code",
   "execution_count": null,
   "metadata": {
    "colab": {
     "base_uri": "https://localhost:8080/",
     "height": 283
    },
    "id": "o7z6kXmQ-EPT",
    "outputId": "015120dd-c43a-46ed-fad9-e0dfe121fe65"
   },
   "outputs": [
    {
     "data": {
      "image/png": "[encoded data removed]",
      "text/plain": [
       "<Figure size 432x288 with 1 Axes>"
      ]
     },
     "metadata": {
      "needs_background": "light",
      "tags": []
     },
     "output_type": "display_data"
    }
   ],
   "source": [
    "fig, ax = plt.subplots(figsize= (6,4))\n",
    "ax.bar(x, y, width=0.8)\n",
    "plt.title(\"Race of killed people\", fontsize= 15, color=\"blue\")\n",
    "plt.xticks(rotation = 0)\n",
    "for index, value in enumerate(y):\n",
    "  plt.text(index, value+10, str(value), horizontalalignment='center');"
   ]
  },
  {
   "cell_type": "markdown",
   "metadata": {
    "id": "9pGSRTxe-l5B"
   },
   "source": [
    "## 5: Killed People According to Races (Pie Chart)"
   ]
  },
  {
   "cell_type": "code",
   "execution_count": null,
   "metadata": {
    "colab": {
     "base_uri": "https://localhost:8080/",
     "height": 307
    },
    "id": "gq_OO4tB-l5E",
    "outputId": "0a45ca8f-7df9-4b85-d72f-8b0d4115561c"
   },
   "outputs": [
    {
     "data": {
      "text/html": [
       "<div>\n",
       "<style scoped>\n",
       "    .dataframe tbody tr th:only-of-type {\n",
       "        vertical-align: middle;\n",
       "    }\n",
       "\n",
       "    .dataframe tbody tr th {\n",
       "        vertical-align: top;\n",
       "    }\n",
       "\n",
       "    .dataframe thead th {\n",
       "        text-align: right;\n",
       "    }\n",
       "</style>\n",
       "<table border=\"1\" class=\"dataframe\">\n",
       "  <thead>\n",
       "    <tr style=\"text-align: right;\">\n",
       "      <th></th>\n",
       "      <th>id</th>\n",
       "      <th>name</th>\n",
       "      <th>date</th>\n",
       "      <th>manner_of_death</th>\n",
       "      <th>armed</th>\n",
       "      <th>age</th>\n",
       "      <th>gender</th>\n",
       "      <th>race</th>\n",
       "      <th>city</th>\n",
       "      <th>state</th>\n",
       "      <th>signs_of_mental_illness</th>\n",
       "      <th>threat_level</th>\n",
       "      <th>flee</th>\n",
       "      <th>body_camera</th>\n",
       "      <th>age_cat</th>\n",
       "    </tr>\n",
       "  </thead>\n",
       "  <tbody>\n",
       "    <tr>\n",
       "      <th>0</th>\n",
       "      <td>3</td>\n",
       "      <td>Tim Elliot</td>\n",
       "      <td>02/01/15</td>\n",
       "      <td>shot</td>\n",
       "      <td>gun</td>\n",
       "      <td>53.0</td>\n",
       "      <td>M</td>\n",
       "      <td>A</td>\n",
       "      <td>Shelton</td>\n",
       "      <td>WA</td>\n",
       "      <td>True</td>\n",
       "      <td>attack</td>\n",
       "      <td>Not fleeing</td>\n",
       "      <td>False</td>\n",
       "      <td>above25</td>\n",
       "    </tr>\n",
       "    <tr>\n",
       "      <th>1</th>\n",
       "      <td>4</td>\n",
       "      <td>Lewis Lee Lembke</td>\n",
       "      <td>02/01/15</td>\n",
       "      <td>shot</td>\n",
       "      <td>gun</td>\n",
       "      <td>47.0</td>\n",
       "      <td>M</td>\n",
       "      <td>W</td>\n",
       "      <td>Aloha</td>\n",
       "      <td>OR</td>\n",
       "      <td>False</td>\n",
       "      <td>attack</td>\n",
       "      <td>Not fleeing</td>\n",
       "      <td>False</td>\n",
       "      <td>above25</td>\n",
       "    </tr>\n",
       "    <tr>\n",
       "      <th>2</th>\n",
       "      <td>5</td>\n",
       "      <td>John Paul Quintero</td>\n",
       "      <td>03/01/15</td>\n",
       "      <td>shot and Tasered</td>\n",
       "      <td>unarmed</td>\n",
       "      <td>23.0</td>\n",
       "      <td>M</td>\n",
       "      <td>H</td>\n",
       "      <td>Wichita</td>\n",
       "      <td>KS</td>\n",
       "      <td>False</td>\n",
       "      <td>other</td>\n",
       "      <td>Not fleeing</td>\n",
       "      <td>False</td>\n",
       "      <td>below25</td>\n",
       "    </tr>\n",
       "    <tr>\n",
       "      <th>3</th>\n",
       "      <td>8</td>\n",
       "      <td>Matthew Hoffman</td>\n",
       "      <td>04/01/15</td>\n",
       "      <td>shot</td>\n",
       "      <td>toy weapon</td>\n",
       "      <td>32.0</td>\n",
       "      <td>M</td>\n",
       "      <td>W</td>\n",
       "      <td>San Francisco</td>\n",
       "      <td>CA</td>\n",
       "      <td>True</td>\n",
       "      <td>attack</td>\n",
       "      <td>Not fleeing</td>\n",
       "      <td>False</td>\n",
       "      <td>above25</td>\n",
       "    </tr>\n",
       "    <tr>\n",
       "      <th>4</th>\n",
       "      <td>9</td>\n",
       "      <td>Michael Rodriguez</td>\n",
       "      <td>04/01/15</td>\n",
       "      <td>shot</td>\n",
       "      <td>nail gun</td>\n",
       "      <td>39.0</td>\n",
       "      <td>M</td>\n",
       "      <td>H</td>\n",
       "      <td>Evans</td>\n",
       "      <td>CO</td>\n",
       "      <td>False</td>\n",
       "      <td>attack</td>\n",
       "      <td>Not fleeing</td>\n",
       "      <td>False</td>\n",
       "      <td>above25</td>\n",
       "    </tr>\n",
       "  </tbody>\n",
       "</table>\n",
       "</div>"
      ],
      "text/plain": [
       "   id                name      date  ...         flee body_camera  age_cat\n",
       "0   3          Tim Elliot  02/01/15  ...  Not fleeing       False  above25\n",
       "1   4    Lewis Lee Lembke  02/01/15  ...  Not fleeing       False  above25\n",
       "2   5  John Paul Quintero  03/01/15  ...  Not fleeing       False  below25\n",
       "3   8     Matthew Hoffman  04/01/15  ...  Not fleeing       False  above25\n",
       "4   9   Michael Rodriguez  04/01/15  ...  Not fleeing       False  above25\n",
       "\n",
       "[5 rows x 15 columns]"
      ]
     },
     "execution_count": 18,
     "metadata": {
      "tags": []
     },
     "output_type": "execute_result"
    }
   ],
   "source": []
  },
  {
   "cell_type": "code",
   "execution_count": null,
   "metadata": {
    "_uuid": "73ef9a67518196c14338e28236b5054186fabdc1",
    "colab": {
     "base_uri": "https://localhost:8080/"
    },
    "id": "_ZPh_aCz-l5F",
    "outputId": "8ee30bed-c707-4e5d-b0a0-ae4e896e35e8"
   },
   "outputs": [
    {
     "data": {
      "text/plain": [
       "array(['A', 'W', 'H', 'B', 'O', nan, 'N'], dtype=object)"
      ]
     },
     "execution_count": 19,
     "metadata": {
      "tags": []
     },
     "output_type": "execute_result"
    }
   ],
   "source": []
  },
  {
   "cell_type": "code",
   "execution_count": null,
   "metadata": {
    "colab": {
     "base_uri": "https://localhost:8080/"
    },
    "id": "4lJAFvsx-l5F",
    "outputId": "014ec220-87cf-4b96-da5c-b0f600130869"
   },
   "outputs": [
    {
     "data": {
      "text/plain": [
       "W      1201\n",
       "B       618\n",
       "H       423\n",
       "NaN     195\n",
       "A        39\n",
       "N        31\n",
       "O        28\n",
       "Name: race, dtype: int64"
      ]
     },
     "execution_count": 20,
     "metadata": {
      "tags": []
     },
     "output_type": "execute_result"
    }
   ],
   "source": []
  },
  {
   "cell_type": "markdown",
   "metadata": {
    "id": "VuWSIYCm-l5F"
   },
   "source": [
    "Problem: missing value on race column."
   ]
  },
  {
   "cell_type": "code",
   "execution_count": null,
   "metadata": {
    "colab": {
     "base_uri": "https://localhost:8080/",
     "height": 203
    },
    "id": "d8pWblu3Wgmw",
    "outputId": "1cb79b29-b88b-41d7-83fd-638b34533f2f"
   },
   "outputs": [
    {
     "data": {
      "text/html": [
       "<div>\n",
       "<style scoped>\n",
       "    .dataframe tbody tr th:only-of-type {\n",
       "        vertical-align: middle;\n",
       "    }\n",
       "\n",
       "    .dataframe tbody tr th {\n",
       "        vertical-align: top;\n",
       "    }\n",
       "\n",
       "    .dataframe thead th {\n",
       "        text-align: right;\n",
       "    }\n",
       "</style>\n",
       "<table border=\"1\" class=\"dataframe\">\n",
       "  <thead>\n",
       "    <tr style=\"text-align: right;\">\n",
       "      <th></th>\n",
       "      <th>id</th>\n",
       "      <th>name</th>\n",
       "      <th>date</th>\n",
       "      <th>manner_of_death</th>\n",
       "      <th>armed</th>\n",
       "      <th>age</th>\n",
       "      <th>gender</th>\n",
       "      <th>race</th>\n",
       "      <th>city</th>\n",
       "      <th>state</th>\n",
       "      <th>signs_of_mental_illness</th>\n",
       "      <th>threat_level</th>\n",
       "      <th>flee</th>\n",
       "      <th>body_camera</th>\n",
       "      <th>grouped_age</th>\n",
       "    </tr>\n",
       "  </thead>\n",
       "  <tbody>\n",
       "    <tr>\n",
       "      <th>0</th>\n",
       "      <td>3</td>\n",
       "      <td>Tim Elliot</td>\n",
       "      <td>02/01/15</td>\n",
       "      <td>shot</td>\n",
       "      <td>gun</td>\n",
       "      <td>53.0</td>\n",
       "      <td>M</td>\n",
       "      <td>A</td>\n",
       "      <td>Shelton</td>\n",
       "      <td>WA</td>\n",
       "      <td>True</td>\n",
       "      <td>attack</td>\n",
       "      <td>Not fleeing</td>\n",
       "      <td>False</td>\n",
       "      <td>above25</td>\n",
       "    </tr>\n",
       "    <tr>\n",
       "      <th>1</th>\n",
       "      <td>4</td>\n",
       "      <td>Lewis Lee Lembke</td>\n",
       "      <td>02/01/15</td>\n",
       "      <td>shot</td>\n",
       "      <td>gun</td>\n",
       "      <td>47.0</td>\n",
       "      <td>M</td>\n",
       "      <td>W</td>\n",
       "      <td>Aloha</td>\n",
       "      <td>OR</td>\n",
       "      <td>False</td>\n",
       "      <td>attack</td>\n",
       "      <td>Not fleeing</td>\n",
       "      <td>False</td>\n",
       "      <td>above25</td>\n",
       "    </tr>\n",
       "    <tr>\n",
       "      <th>2</th>\n",
       "      <td>5</td>\n",
       "      <td>John Paul Quintero</td>\n",
       "      <td>03/01/15</td>\n",
       "      <td>shot and Tasered</td>\n",
       "      <td>unarmed</td>\n",
       "      <td>23.0</td>\n",
       "      <td>M</td>\n",
       "      <td>H</td>\n",
       "      <td>Wichita</td>\n",
       "      <td>KS</td>\n",
       "      <td>False</td>\n",
       "      <td>other</td>\n",
       "      <td>Not fleeing</td>\n",
       "      <td>False</td>\n",
       "      <td>below25</td>\n",
       "    </tr>\n",
       "    <tr>\n",
       "      <th>3</th>\n",
       "      <td>8</td>\n",
       "      <td>Matthew Hoffman</td>\n",
       "      <td>04/01/15</td>\n",
       "      <td>shot</td>\n",
       "      <td>toy weapon</td>\n",
       "      <td>32.0</td>\n",
       "      <td>M</td>\n",
       "      <td>W</td>\n",
       "      <td>San Francisco</td>\n",
       "      <td>CA</td>\n",
       "      <td>True</td>\n",
       "      <td>attack</td>\n",
       "      <td>Not fleeing</td>\n",
       "      <td>False</td>\n",
       "      <td>above25</td>\n",
       "    </tr>\n",
       "    <tr>\n",
       "      <th>4</th>\n",
       "      <td>9</td>\n",
       "      <td>Michael Rodriguez</td>\n",
       "      <td>04/01/15</td>\n",
       "      <td>shot</td>\n",
       "      <td>nail gun</td>\n",
       "      <td>39.0</td>\n",
       "      <td>M</td>\n",
       "      <td>H</td>\n",
       "      <td>Evans</td>\n",
       "      <td>CO</td>\n",
       "      <td>False</td>\n",
       "      <td>attack</td>\n",
       "      <td>Not fleeing</td>\n",
       "      <td>False</td>\n",
       "      <td>above25</td>\n",
       "    </tr>\n",
       "  </tbody>\n",
       "</table>\n",
       "</div>"
      ],
      "text/plain": [
       "   id                name      date  ...         flee body_camera  grouped_age\n",
       "0   3          Tim Elliot  02/01/15  ...  Not fleeing       False      above25\n",
       "1   4    Lewis Lee Lembke  02/01/15  ...  Not fleeing       False      above25\n",
       "2   5  John Paul Quintero  03/01/15  ...  Not fleeing       False      below25\n",
       "3   8     Matthew Hoffman  04/01/15  ...  Not fleeing       False      above25\n",
       "4   9   Michael Rodriguez  04/01/15  ...  Not fleeing       False      above25\n",
       "\n",
       "[5 rows x 15 columns]"
      ]
     },
     "execution_count": 52,
     "metadata": {
      "tags": []
     },
     "output_type": "execute_result"
    }
   ],
   "source": [
    "df.head()"
   ]
  },
  {
   "cell_type": "code",
   "execution_count": null,
   "metadata": {
    "colab": {
     "base_uri": "https://localhost:8080/"
    },
    "id": "W9j2g6QoWqTq",
    "outputId": "01a19c58-3551-4d20-abfe-9095d05ee050"
   },
   "outputs": [
    {
     "data": {
      "text/plain": [
       "dtype('O')"
      ]
     },
     "execution_count": 53,
     "metadata": {
      "tags": []
     },
     "output_type": "execute_result"
    }
   ],
   "source": [
    "df[\"race\"].dtype"
   ]
  },
  {
   "cell_type": "code",
   "execution_count": null,
   "metadata": {
    "colab": {
     "base_uri": "https://localhost:8080/"
    },
    "id": "TcN6QRt-Xjs3",
    "outputId": "2b230c79-2766-4672-de66-6502dd0c57b5"
   },
   "outputs": [
    {
     "data": {
      "text/plain": [
       "W      1201\n",
       "B       618\n",
       "H       423\n",
       "NaN     195\n",
       "A        39\n",
       "N        31\n",
       "O        28\n",
       "Name: race, dtype: int64"
      ]
     },
     "execution_count": 56,
     "metadata": {
      "tags": []
     },
     "output_type": "execute_result"
    }
   ],
   "source": [
    "df['race'].value_counts(dropna=False)"
   ]
  },
  {
   "cell_type": "code",
   "execution_count": null,
   "metadata": {
    "colab": {
     "base_uri": "https://localhost:8080/"
    },
    "id": "oHdkj5phXvgU",
    "outputId": "ecc8b0fd-c53a-47bc-a5f3-7982c606b9da"
   },
   "outputs": [
    {
     "data": {
      "text/plain": [
       "Index(['W', 'B', 'H', 'A', 'N', 'O'], dtype='object')"
      ]
     },
     "execution_count": 57,
     "metadata": {
      "tags": []
     },
     "output_type": "execute_result"
    }
   ],
   "source": [
    "df['race'].value_counts().index"
   ]
  },
  {
   "cell_type": "code",
   "execution_count": null,
   "metadata": {
    "colab": {
     "base_uri": "https://localhost:8080/"
    },
    "id": "uTQpRnPX3VEw",
    "outputId": "2b79d001-2ec1-4c80-a87c-34cf5defac00"
   },
   "outputs": [
    {
     "data": {
      "text/plain": [
       "array(['A', 'W', 'H', 'B', 'O', nan, 'N'], dtype=object)"
      ]
     },
     "execution_count": 58,
     "metadata": {
      "tags": []
     },
     "output_type": "execute_result"
    }
   ],
   "source": [
    "df['race'].unique()"
   ]
  },
  {
   "cell_type": "code",
   "execution_count": null,
   "metadata": {
    "colab": {
     "base_uri": "https://localhost:8080/"
    },
    "id": "atrxhspzYDCC",
    "outputId": "a8a74ccf-c79e-49f9-c271-9db9aeb4ff72"
   },
   "outputs": [
    {
     "data": {
      "text/plain": [
       "2340"
      ]
     },
     "execution_count": 59,
     "metadata": {
      "tags": []
     },
     "output_type": "execute_result"
    }
   ],
   "source": [
    "df['race'].count()"
   ]
  },
  {
   "cell_type": "code",
   "execution_count": null,
   "metadata": {
    "colab": {
     "base_uri": "https://localhost:8080/"
    },
    "id": "MkV5MeZKYI93",
    "outputId": "f1172361-62fd-46ca-815f-02472221fe8f"
   },
   "outputs": [
    {
     "data": {
      "text/plain": [
       "(2535, 15)"
      ]
     },
     "execution_count": 60,
     "metadata": {
      "tags": []
     },
     "output_type": "execute_result"
    }
   ],
   "source": [
    "df.shape"
   ]
  },
  {
   "cell_type": "code",
   "execution_count": null,
   "metadata": {
    "colab": {
     "base_uri": "https://localhost:8080/"
    },
    "id": "oty5ip2GoHrG",
    "outputId": "9330cb45-6c76-43ed-e4ca-0a7edc72e961"
   },
   "outputs": [
    {
     "data": {
      "text/plain": [
       "195"
      ]
     },
     "execution_count": 61,
     "metadata": {
      "tags": []
     },
     "output_type": "execute_result"
    }
   ],
   "source": [
    "df[\"race\"].isnull().sum()"
   ]
  },
  {
   "cell_type": "code",
   "execution_count": null,
   "metadata": {
    "id": "tTz5R0OEtB2e"
   },
   "outputs": [],
   "source": [
    "# df['race'] = df['race'].astype('str')"
   ]
  },
  {
   "cell_type": "markdown",
   "metadata": {
    "id": "mmCQXFcg-l5G"
   },
   "source": [
    "**INSTRUCTION-1: Drop the all raws that contain missing value (dropna)**"
   ]
  },
  {
   "cell_type": "code",
   "execution_count": null,
   "metadata": {
    "colab": {
     "base_uri": "https://localhost:8080/"
    },
    "id": "3DzEkUNo-l5G",
    "outputId": "fe3f08e2-9ffa-40b2-edad-963b7ee8e29d"
   },
   "outputs": [
    {
     "data": {
      "text/plain": [
       "(2254, 15)"
      ]
     },
     "execution_count": 22,
     "metadata": {
      "tags": []
     },
     "output_type": "execute_result"
    }
   ],
   "source": []
  },
  {
   "cell_type": "code",
   "execution_count": null,
   "metadata": {
    "colab": {
     "base_uri": "https://localhost:8080/"
    },
    "id": "IB4Rw91tyt3H",
    "outputId": "10090c6a-5f6a-4e33-99a2-5eba593aa223"
   },
   "outputs": [
    {
     "data": {
      "text/plain": [
       "(2535, 15)"
      ]
     },
     "execution_count": 62,
     "metadata": {
      "tags": []
     },
     "output_type": "execute_result"
    }
   ],
   "source": [
    "df.shape"
   ]
  },
  {
   "cell_type": "code",
   "execution_count": null,
   "metadata": {
    "colab": {
     "base_uri": "https://localhost:8080/"
    },
    "id": "6HP7B42N36cD",
    "outputId": "66d5c0a3-69bd-43ad-8a7f-893e6b962da2"
   },
   "outputs": [
    {
     "data": {
      "text/plain": [
       "id                           0\n",
       "name                         0\n",
       "date                         0\n",
       "manner_of_death              0\n",
       "armed                        9\n",
       "age                         77\n",
       "gender                       0\n",
       "race                       195\n",
       "city                         0\n",
       "state                        0\n",
       "signs_of_mental_illness      0\n",
       "threat_level                 0\n",
       "flee                        65\n",
       "body_camera                  0\n",
       "grouped_age                 77\n",
       "dtype: int64"
      ]
     },
     "execution_count": 65,
     "metadata": {
      "tags": []
     },
     "output_type": "execute_result"
    }
   ],
   "source": [
    "df.isnull().sum()"
   ]
  },
  {
   "cell_type": "code",
   "execution_count": null,
   "metadata": {
    "id": "mC5BJgNx5e3v"
   },
   "outputs": [],
   "source": [
    "df.dropna(subset=['race'], axis= 0, inplace=True)\n",
    "df.dropna(subset=['age'], axis= 0, inplace=True)\n",
    "df.dropna(subset=['flee'], axis= 0, inplace=True)\n",
    "df.dropna(subset=['armed'], axis= 0, inplace=True)"
   ]
  },
  {
   "cell_type": "code",
   "execution_count": null,
   "metadata": {
    "colab": {
     "base_uri": "https://localhost:8080/"
    },
    "id": "EGFVmPED4tAE",
    "outputId": "9438f194-81a6-416f-875a-627d61f92dc4"
   },
   "outputs": [
    {
     "data": {
      "text/plain": [
       "id                         0\n",
       "name                       0\n",
       "date                       0\n",
       "manner_of_death            0\n",
       "armed                      0\n",
       "age                        0\n",
       "gender                     0\n",
       "race                       0\n",
       "city                       0\n",
       "state                      0\n",
       "signs_of_mental_illness    0\n",
       "threat_level               0\n",
       "flee                       0\n",
       "body_camera                0\n",
       "grouped_age                0\n",
       "dtype: int64"
      ]
     },
     "execution_count": 67,
     "metadata": {
      "tags": []
     },
     "output_type": "execute_result"
    }
   ],
   "source": [
    "df.isnull().sum()"
   ]
  },
  {
   "cell_type": "code",
   "execution_count": null,
   "metadata": {
    "colab": {
     "base_uri": "https://localhost:8080/"
    },
    "id": "PebhDnpf4sxg",
    "outputId": "4a41e98c-2e01-489f-dd77-2b6061d1fb9e"
   },
   "outputs": [
    {
     "data": {
      "text/plain": [
       "(2254, 15)"
      ]
     },
     "execution_count": 68,
     "metadata": {
      "tags": []
     },
     "output_type": "execute_result"
    }
   ],
   "source": [
    "df.shape"
   ]
  },
  {
   "cell_type": "markdown",
   "metadata": {
    "id": "DRb2AH84-l5G"
   },
   "source": [
    "**INSTRUCTION-2: Demonstrate Race Ratio of Killed People by a Pie Chart (You can use Matplotlib)**"
   ]
  },
  {
   "cell_type": "code",
   "execution_count": null,
   "metadata": {
    "colab": {
     "base_uri": "https://localhost:8080/"
    },
    "id": "Pq0aSdnz-l5G",
    "outputId": "313c6efc-d2cd-4030-8ee8-1cd496565d2c"
   },
   "outputs": [
    {
     "data": {
      "text/plain": [
       "W    1168\n",
       "B     592\n",
       "H     401\n",
       "A      36\n",
       "N      29\n",
       "O      28\n",
       "Name: race, dtype: int64"
      ]
     },
     "execution_count": 23,
     "metadata": {
      "tags": []
     },
     "output_type": "execute_result"
    }
   ],
   "source": []
  },
  {
   "cell_type": "code",
   "execution_count": null,
   "metadata": {
    "colab": {
     "base_uri": "https://localhost:8080/"
    },
    "id": "fecb7_3sByec",
    "outputId": "94818a7b-ba17-4f54-972e-d52d0bd6c872"
   },
   "outputs": [
    {
     "data": {
      "text/plain": [
       "W    1168\n",
       "B     592\n",
       "H     401\n",
       "A      36\n",
       "N      29\n",
       "O      28\n",
       "Name: race, dtype: int64"
      ]
     },
     "execution_count": 70,
     "metadata": {
      "tags": []
     },
     "output_type": "execute_result"
    }
   ],
   "source": [
    "df['race'].value_counts()"
   ]
  },
  {
   "cell_type": "code",
   "execution_count": null,
   "metadata": {
    "colab": {
     "base_uri": "https://localhost:8080/"
    },
    "id": "z3CnjKfh-l5H",
    "outputId": "8e9c368f-287a-4a9c-9df8-d27c0359317d"
   },
   "outputs": [
    {
     "data": {
      "text/plain": [
       "array(['A', 'W', 'H', 'B', 'O', 'N'], dtype=object)"
      ]
     },
     "execution_count": 358,
     "metadata": {
      "tags": []
     },
     "output_type": "execute_result"
    }
   ],
   "source": []
  },
  {
   "cell_type": "code",
   "execution_count": null,
   "metadata": {
    "colab": {
     "base_uri": "https://localhost:8080/"
    },
    "id": "r0YD6O0hClV6",
    "outputId": "4e8147d3-a000-4008-8add-1838e9a33de6"
   },
   "outputs": [
    {
     "data": {
      "text/plain": [
       "array(['A', 'W', 'H', 'B', 'O', 'N'], dtype=object)"
      ]
     },
     "execution_count": 71,
     "metadata": {
      "tags": []
     },
     "output_type": "execute_result"
    }
   ],
   "source": [
    "df['race'].unique()"
   ]
  },
  {
   "cell_type": "code",
   "execution_count": null,
   "metadata": {
    "colab": {
     "base_uri": "https://localhost:8080/"
    },
    "id": "dNnqgLCM-l5H",
    "outputId": "939f3639-058d-4bf3-abd0-19105f334802"
   },
   "outputs": [
    {
     "data": {
      "text/plain": [
       "array([1168,  592,  401,   36,   29,   28])"
      ]
     },
     "execution_count": 25,
     "metadata": {
      "tags": []
     },
     "output_type": "execute_result"
    }
   ],
   "source": []
  },
  {
   "cell_type": "code",
   "execution_count": null,
   "metadata": {
    "colab": {
     "base_uri": "https://localhost:8080/"
    },
    "id": "kh1FN5L6CiS4",
    "outputId": "2b0defbb-e1f8-4905-cf78-6d41e72b1d66"
   },
   "outputs": [
    {
     "data": {
      "text/plain": [
       "array([1168,  592,  401,   36,   29,   28])"
      ]
     },
     "execution_count": 72,
     "metadata": {
      "tags": []
     },
     "output_type": "execute_result"
    }
   ],
   "source": [
    "df['race'].value_counts().values"
   ]
  },
  {
   "cell_type": "code",
   "execution_count": null,
   "metadata": {
    "colab": {
     "base_uri": "https://localhost:8080/",
     "height": 575
    },
    "id": "F1CSkbxa-l5H",
    "outputId": "18bae490-b8d5-49b0-b124-f1c4f75a0129"
   },
   "outputs": [
    {
     "data": {
      "image/png": "[encoded data removed]",
      "text/plain": [
       "<Figure size 720x720 with 1 Axes>"
      ]
     },
     "metadata": {
      "tags": []
     },
     "output_type": "display_data"
    }
   ],
   "source": [
    "# matplotlib\n",
    "\n"
   ]
  },
  {
   "cell_type": "code",
   "execution_count": null,
   "metadata": {
    "colab": {
     "base_uri": "https://localhost:8080/",
     "height": 536
    },
    "id": "waY6V7rBFpY0",
    "outputId": "4c6ba751-b7d0-40c5-d7eb-865bac5f4d2c"
   },
   "outputs": [
    {
     "data": {
      "image/png": "[encoded data removed]",
      "text/plain": [
       "<Figure size 792x648 with 1 Axes>"
      ]
     },
     "metadata": {
      "tags": []
     },
     "output_type": "display_data"
    }
   ],
   "source": [
    "import matplotlib.pyplot as plt\n",
    "\n",
    "labels = df['race'].value_counts().index\n",
    "values = df['race'].value_counts().values\n",
    "\n",
    "explode=(0, 0, 0.1, 0, 0, 0)\n",
    "fig = plt.figure(figsize=(11,9))\n",
    "plt.pie(values, labels=labels, autopct='%1.1f%%', startangle=60, explode=explode)\n",
    "plt.title('Race Ratio of Killed People')\n",
    "plt.axis('equal')\n",
    "plt.show()"
   ]
  },
  {
   "cell_type": "markdown",
   "metadata": {
    "id": "zOQ2PusO-G-U"
   },
   "source": [
    "## 6: Most common 15 Name or Surname of killed people "
   ]
  },
  {
   "cell_type": "code",
   "execution_count": null,
   "metadata": {
    "_uuid": "bfb975b648fbcbd1c6cdf1634f01e01371924a8c",
    "colab": {
     "base_uri": "https://localhost:8080/",
     "height": 307
    },
    "id": "7s9SsMsj-G-U",
    "outputId": "2d3cc676-d586-402c-cabd-938eb19880bf"
   },
   "outputs": [
    {
     "data": {
      "text/html": [
       "<div>\n",
       "<style scoped>\n",
       "    .dataframe tbody tr th:only-of-type {\n",
       "        vertical-align: middle;\n",
       "    }\n",
       "\n",
       "    .dataframe tbody tr th {\n",
       "        vertical-align: top;\n",
       "    }\n",
       "\n",
       "    .dataframe thead th {\n",
       "        text-align: right;\n",
       "    }\n",
       "</style>\n",
       "<table border=\"1\" class=\"dataframe\">\n",
       "  <thead>\n",
       "    <tr style=\"text-align: right;\">\n",
       "      <th></th>\n",
       "      <th>id</th>\n",
       "      <th>name</th>\n",
       "      <th>date</th>\n",
       "      <th>manner_of_death</th>\n",
       "      <th>armed</th>\n",
       "      <th>age</th>\n",
       "      <th>gender</th>\n",
       "      <th>race</th>\n",
       "      <th>city</th>\n",
       "      <th>state</th>\n",
       "      <th>signs_of_mental_illness</th>\n",
       "      <th>threat_level</th>\n",
       "      <th>flee</th>\n",
       "      <th>body_camera</th>\n",
       "      <th>age_cat</th>\n",
       "    </tr>\n",
       "  </thead>\n",
       "  <tbody>\n",
       "    <tr>\n",
       "      <th>0</th>\n",
       "      <td>3</td>\n",
       "      <td>Tim Elliot</td>\n",
       "      <td>02/01/15</td>\n",
       "      <td>shot</td>\n",
       "      <td>gun</td>\n",
       "      <td>53.0</td>\n",
       "      <td>M</td>\n",
       "      <td>A</td>\n",
       "      <td>Shelton</td>\n",
       "      <td>WA</td>\n",
       "      <td>True</td>\n",
       "      <td>attack</td>\n",
       "      <td>Not fleeing</td>\n",
       "      <td>False</td>\n",
       "      <td>above25</td>\n",
       "    </tr>\n",
       "    <tr>\n",
       "      <th>1</th>\n",
       "      <td>4</td>\n",
       "      <td>Lewis Lee Lembke</td>\n",
       "      <td>02/01/15</td>\n",
       "      <td>shot</td>\n",
       "      <td>gun</td>\n",
       "      <td>47.0</td>\n",
       "      <td>M</td>\n",
       "      <td>W</td>\n",
       "      <td>Aloha</td>\n",
       "      <td>OR</td>\n",
       "      <td>False</td>\n",
       "      <td>attack</td>\n",
       "      <td>Not fleeing</td>\n",
       "      <td>False</td>\n",
       "      <td>above25</td>\n",
       "    </tr>\n",
       "    <tr>\n",
       "      <th>2</th>\n",
       "      <td>5</td>\n",
       "      <td>John Paul Quintero</td>\n",
       "      <td>03/01/15</td>\n",
       "      <td>shot and Tasered</td>\n",
       "      <td>unarmed</td>\n",
       "      <td>23.0</td>\n",
       "      <td>M</td>\n",
       "      <td>H</td>\n",
       "      <td>Wichita</td>\n",
       "      <td>KS</td>\n",
       "      <td>False</td>\n",
       "      <td>other</td>\n",
       "      <td>Not fleeing</td>\n",
       "      <td>False</td>\n",
       "      <td>below25</td>\n",
       "    </tr>\n",
       "    <tr>\n",
       "      <th>3</th>\n",
       "      <td>8</td>\n",
       "      <td>Matthew Hoffman</td>\n",
       "      <td>04/01/15</td>\n",
       "      <td>shot</td>\n",
       "      <td>toy weapon</td>\n",
       "      <td>32.0</td>\n",
       "      <td>M</td>\n",
       "      <td>W</td>\n",
       "      <td>San Francisco</td>\n",
       "      <td>CA</td>\n",
       "      <td>True</td>\n",
       "      <td>attack</td>\n",
       "      <td>Not fleeing</td>\n",
       "      <td>False</td>\n",
       "      <td>above25</td>\n",
       "    </tr>\n",
       "    <tr>\n",
       "      <th>4</th>\n",
       "      <td>9</td>\n",
       "      <td>Michael Rodriguez</td>\n",
       "      <td>04/01/15</td>\n",
       "      <td>shot</td>\n",
       "      <td>nail gun</td>\n",
       "      <td>39.0</td>\n",
       "      <td>M</td>\n",
       "      <td>H</td>\n",
       "      <td>Evans</td>\n",
       "      <td>CO</td>\n",
       "      <td>False</td>\n",
       "      <td>attack</td>\n",
       "      <td>Not fleeing</td>\n",
       "      <td>False</td>\n",
       "      <td>above25</td>\n",
       "    </tr>\n",
       "  </tbody>\n",
       "</table>\n",
       "</div>"
      ],
      "text/plain": [
       "   id                name      date  ...         flee body_camera  age_cat\n",
       "0   3          Tim Elliot  02/01/15  ...  Not fleeing       False  above25\n",
       "1   4    Lewis Lee Lembke  02/01/15  ...  Not fleeing       False  above25\n",
       "2   5  John Paul Quintero  03/01/15  ...  Not fleeing       False  below25\n",
       "3   8     Matthew Hoffman  04/01/15  ...  Not fleeing       False  above25\n",
       "4   9   Michael Rodriguez  04/01/15  ...  Not fleeing       False  above25\n",
       "\n",
       "[5 rows x 15 columns]"
      ]
     },
     "execution_count": 27,
     "metadata": {
      "tags": []
     },
     "output_type": "execute_result"
    }
   ],
   "source": []
  },
  {
   "cell_type": "code",
   "execution_count": 48,
   "metadata": {
    "colab": {
     "base_uri": "https://localhost:8080/",
     "height": 203
    },
    "id": "D4vgtWQmNY3B",
    "outputId": "682c4005-1aaf-4587-a06f-9cdc41db74e9"
   },
   "outputs": [
    {
     "data": {
      "text/html": [
       "<div>\n",
       "<style scoped>\n",
       "    .dataframe tbody tr th:only-of-type {\n",
       "        vertical-align: middle;\n",
       "    }\n",
       "\n",
       "    .dataframe tbody tr th {\n",
       "        vertical-align: top;\n",
       "    }\n",
       "\n",
       "    .dataframe thead th {\n",
       "        text-align: right;\n",
       "    }\n",
       "</style>\n",
       "<table border=\"1\" class=\"dataframe\">\n",
       "  <thead>\n",
       "    <tr style=\"text-align: right;\">\n",
       "      <th></th>\n",
       "      <th>id</th>\n",
       "      <th>name</th>\n",
       "      <th>date</th>\n",
       "      <th>manner_of_death</th>\n",
       "      <th>armed</th>\n",
       "      <th>age</th>\n",
       "      <th>gender</th>\n",
       "      <th>race</th>\n",
       "      <th>city</th>\n",
       "      <th>state</th>\n",
       "      <th>signs_of_mental_illness</th>\n",
       "      <th>threat_level</th>\n",
       "      <th>flee</th>\n",
       "      <th>body_camera</th>\n",
       "    </tr>\n",
       "  </thead>\n",
       "  <tbody>\n",
       "    <tr>\n",
       "      <th>0</th>\n",
       "      <td>3</td>\n",
       "      <td>Tim Elliot</td>\n",
       "      <td>02/01/15</td>\n",
       "      <td>shot</td>\n",
       "      <td>gun</td>\n",
       "      <td>53.0</td>\n",
       "      <td>M</td>\n",
       "      <td>A</td>\n",
       "      <td>Shelton</td>\n",
       "      <td>WA</td>\n",
       "      <td>True</td>\n",
       "      <td>attack</td>\n",
       "      <td>Not fleeing</td>\n",
       "      <td>False</td>\n",
       "    </tr>\n",
       "    <tr>\n",
       "      <th>1</th>\n",
       "      <td>4</td>\n",
       "      <td>Lewis Lee Lembke</td>\n",
       "      <td>02/01/15</td>\n",
       "      <td>shot</td>\n",
       "      <td>gun</td>\n",
       "      <td>47.0</td>\n",
       "      <td>M</td>\n",
       "      <td>W</td>\n",
       "      <td>Aloha</td>\n",
       "      <td>OR</td>\n",
       "      <td>False</td>\n",
       "      <td>attack</td>\n",
       "      <td>Not fleeing</td>\n",
       "      <td>False</td>\n",
       "    </tr>\n",
       "    <tr>\n",
       "      <th>2</th>\n",
       "      <td>5</td>\n",
       "      <td>John Paul Quintero</td>\n",
       "      <td>03/01/15</td>\n",
       "      <td>shot and Tasered</td>\n",
       "      <td>unarmed</td>\n",
       "      <td>23.0</td>\n",
       "      <td>M</td>\n",
       "      <td>H</td>\n",
       "      <td>Wichita</td>\n",
       "      <td>KS</td>\n",
       "      <td>False</td>\n",
       "      <td>other</td>\n",
       "      <td>Not fleeing</td>\n",
       "      <td>False</td>\n",
       "    </tr>\n",
       "    <tr>\n",
       "      <th>3</th>\n",
       "      <td>8</td>\n",
       "      <td>Matthew Hoffman</td>\n",
       "      <td>04/01/15</td>\n",
       "      <td>shot</td>\n",
       "      <td>toy weapon</td>\n",
       "      <td>32.0</td>\n",
       "      <td>M</td>\n",
       "      <td>W</td>\n",
       "      <td>San Francisco</td>\n",
       "      <td>CA</td>\n",
       "      <td>True</td>\n",
       "      <td>attack</td>\n",
       "      <td>Not fleeing</td>\n",
       "      <td>False</td>\n",
       "    </tr>\n",
       "    <tr>\n",
       "      <th>4</th>\n",
       "      <td>9</td>\n",
       "      <td>Michael Rodriguez</td>\n",
       "      <td>04/01/15</td>\n",
       "      <td>shot</td>\n",
       "      <td>nail gun</td>\n",
       "      <td>39.0</td>\n",
       "      <td>M</td>\n",
       "      <td>H</td>\n",
       "      <td>Evans</td>\n",
       "      <td>CO</td>\n",
       "      <td>False</td>\n",
       "      <td>attack</td>\n",
       "      <td>Not fleeing</td>\n",
       "      <td>False</td>\n",
       "    </tr>\n",
       "  </tbody>\n",
       "</table>\n",
       "</div>"
      ],
      "text/plain": [
       "   id                name      date  ... threat_level         flee  body_camera\n",
       "0   3          Tim Elliot  02/01/15  ...       attack  Not fleeing        False\n",
       "1   4    Lewis Lee Lembke  02/01/15  ...       attack  Not fleeing        False\n",
       "2   5  John Paul Quintero  03/01/15  ...        other  Not fleeing        False\n",
       "3   8     Matthew Hoffman  04/01/15  ...       attack  Not fleeing        False\n",
       "4   9   Michael Rodriguez  04/01/15  ...       attack  Not fleeing        False\n",
       "\n",
       "[5 rows x 14 columns]"
      ]
     },
     "execution_count": 48,
     "metadata": {
      "tags": []
     },
     "output_type": "execute_result"
    }
   ],
   "source": [
    "df.head()"
   ]
  },
  {
   "cell_type": "code",
   "execution_count": null,
   "metadata": {
    "colab": {
     "base_uri": "https://localhost:8080/"
    },
    "id": "R7idQSfR-G-V",
    "outputId": "617558e5-408e-4392-bf31-50db2d071323"
   },
   "outputs": [
    {
     "data": {
      "text/plain": [
       "(2254, 15)"
      ]
     },
     "execution_count": 28,
     "metadata": {
      "tags": []
     },
     "output_type": "execute_result"
    }
   ],
   "source": []
  },
  {
   "cell_type": "code",
   "execution_count": 49,
   "metadata": {
    "colab": {
     "base_uri": "https://localhost:8080/"
    },
    "id": "9V63LLSWlbA-",
    "outputId": "833d1fdf-dc3f-426f-caff-216ff0631984"
   },
   "outputs": [
    {
     "data": {
      "text/plain": [
       "(2535, 14)"
      ]
     },
     "execution_count": 49,
     "metadata": {
      "tags": []
     },
     "output_type": "execute_result"
    }
   ],
   "source": [
    "df.shape"
   ]
  },
  {
   "cell_type": "code",
   "execution_count": 50,
   "metadata": {
    "colab": {
     "base_uri": "https://localhost:8080/"
    },
    "id": "HF8vrgImQyO8",
    "outputId": "e13d150a-f209-4f74-e884-9f8c4aa86e8d"
   },
   "outputs": [
    {
     "data": {
      "text/plain": [
       "TK TK                    49\n",
       "TK Tk                     2\n",
       "Eric Harris               2\n",
       "Michael Brown             2\n",
       "Brandon Jones             2\n",
       "                         ..\n",
       "Wendell King              1\n",
       "Adrian Joseph Shaffer     1\n",
       "James Monroe Barrett      1\n",
       "Caleb J. Douglas          1\n",
       "Billy Maine               1\n",
       "Name: name, Length: 2481, dtype: int64"
      ]
     },
     "execution_count": 50,
     "metadata": {
      "tags": []
     },
     "output_type": "execute_result"
    }
   ],
   "source": [
    "df['name'].value_counts()"
   ]
  },
  {
   "cell_type": "code",
   "execution_count": null,
   "metadata": {
    "colab": {
     "base_uri": "https://localhost:8080/"
    },
    "id": "xx5JDVqZ-G-V",
    "outputId": "9ee6b2a8-b264-40c6-f187-6dd7d1c32efe"
   },
   "outputs": [
    {
     "data": {
      "text/plain": [
       "Daquan Antonio Westbrook    2\n",
       "Michael Johnson             2\n",
       "Eric Harris                 2\n",
       "Michael Brown               2\n",
       "Brandon Jones               2\n",
       "                           ..\n",
       "Wayne Donald Dorsey         1\n",
       "Matthew Vincent Wood        1\n",
       "Taylor Hodge                1\n",
       "David L. Anderson           1\n",
       "Jovany Martinez             1\n",
       "Name: name, Length: 2249, dtype: int64"
      ]
     },
     "execution_count": 29,
     "metadata": {
      "tags": []
     },
     "output_type": "execute_result"
    }
   ],
   "source": []
  },
  {
   "cell_type": "code",
   "execution_count": null,
   "metadata": {
    "id": "Zeeaqd1SOb88"
   },
   "outputs": [],
   "source": [
    "names = df['name'].str.split()\n",
    "# names = df.name.apply(lambda x: x.split())"
   ]
  },
  {
   "cell_type": "code",
   "execution_count": null,
   "metadata": {
    "colab": {
     "base_uri": "https://localhost:8080/"
    },
    "id": "Y6XqMzFCOb5n",
    "outputId": "628e454a-7916-486c-e35c-12a997c2253c"
   },
   "outputs": [
    {
     "data": {
      "text/plain": [
       "0             [Tim, Elliot]\n",
       "1      [Lewis, Lee, Lembke]\n",
       "2    [John, Paul, Quintero]\n",
       "3        [Matthew, Hoffman]\n",
       "4      [Michael, Rodriguez]\n",
       "Name: name, dtype: object"
      ]
     },
     "execution_count": 78,
     "metadata": {
      "tags": []
     },
     "output_type": "execute_result"
    }
   ],
   "source": [
    "names.head()"
   ]
  },
  {
   "cell_type": "code",
   "execution_count": 47,
   "metadata": {
    "colab": {
     "base_uri": "https://localhost:8080/",
     "height": 162
    },
    "id": "JVrmGQgRc_yA",
    "outputId": "b94fb2ad-1c65-4b00-f92e-e2b7040dc3b1"
   },
   "outputs": [
    {
     "ename": "NameError",
     "evalue": "ignored",
     "output_type": "error",
     "traceback": [
      "\u001b[0;31m---------------------------------------------------------------------------\u001b[0m",
      "\u001b[0;31mNameError\u001b[0m                                 Traceback (most recent call last)",
      "\u001b[0;32m<ipython-input-47-432012a11243>\u001b[0m in \u001b[0;36m<module>\u001b[0;34m()\u001b[0m\n\u001b[0;32m----> 1\u001b[0;31m \u001b[0mnames\u001b[0m\u001b[0;34m.\u001b[0m\u001b[0mshape\u001b[0m\u001b[0;34m\u001b[0m\u001b[0;34m\u001b[0m\u001b[0m\n\u001b[0m",
      "\u001b[0;31mNameError\u001b[0m: name 'names' is not defined"
     ]
    }
   ],
   "source": [
    "names.shape()"
   ]
  },
  {
   "cell_type": "code",
   "execution_count": null,
   "metadata": {
    "colab": {
     "base_uri": "https://localhost:8080/",
     "height": 417
    },
    "id": "Pt6UILeDO6XK",
    "outputId": "9eb2b446-b7ff-466d-b3b0-c92c8ebf734b"
   },
   "outputs": [
    {
     "data": {
      "text/html": [
       "<div>\n",
       "<style scoped>\n",
       "    .dataframe tbody tr th:only-of-type {\n",
       "        vertical-align: middle;\n",
       "    }\n",
       "\n",
       "    .dataframe tbody tr th {\n",
       "        vertical-align: top;\n",
       "    }\n",
       "\n",
       "    .dataframe thead th {\n",
       "        text-align: right;\n",
       "    }\n",
       "</style>\n",
       "<table border=\"1\" class=\"dataframe\">\n",
       "  <thead>\n",
       "    <tr style=\"text-align: right;\">\n",
       "      <th></th>\n",
       "      <th>1st</th>\n",
       "      <th>2nd</th>\n",
       "      <th>3rd</th>\n",
       "      <th>4th</th>\n",
       "    </tr>\n",
       "  </thead>\n",
       "  <tbody>\n",
       "    <tr>\n",
       "      <th>0</th>\n",
       "      <td>Tim</td>\n",
       "      <td>Elliot</td>\n",
       "      <td>None</td>\n",
       "      <td>None</td>\n",
       "    </tr>\n",
       "    <tr>\n",
       "      <th>1</th>\n",
       "      <td>Lewis</td>\n",
       "      <td>Lee</td>\n",
       "      <td>Lembke</td>\n",
       "      <td>None</td>\n",
       "    </tr>\n",
       "    <tr>\n",
       "      <th>2</th>\n",
       "      <td>John</td>\n",
       "      <td>Paul</td>\n",
       "      <td>Quintero</td>\n",
       "      <td>None</td>\n",
       "    </tr>\n",
       "    <tr>\n",
       "      <th>3</th>\n",
       "      <td>Matthew</td>\n",
       "      <td>Hoffman</td>\n",
       "      <td>None</td>\n",
       "      <td>None</td>\n",
       "    </tr>\n",
       "    <tr>\n",
       "      <th>4</th>\n",
       "      <td>Michael</td>\n",
       "      <td>Rodriguez</td>\n",
       "      <td>None</td>\n",
       "      <td>None</td>\n",
       "    </tr>\n",
       "    <tr>\n",
       "      <th>...</th>\n",
       "      <td>...</td>\n",
       "      <td>...</td>\n",
       "      <td>...</td>\n",
       "      <td>...</td>\n",
       "    </tr>\n",
       "    <tr>\n",
       "      <th>2519</th>\n",
       "      <td>Aries</td>\n",
       "      <td>Clark</td>\n",
       "      <td>None</td>\n",
       "      <td>None</td>\n",
       "    </tr>\n",
       "    <tr>\n",
       "      <th>2523</th>\n",
       "      <td>Kesharn</td>\n",
       "      <td>K.</td>\n",
       "      <td>Burney</td>\n",
       "      <td>None</td>\n",
       "    </tr>\n",
       "    <tr>\n",
       "      <th>2525</th>\n",
       "      <td>Deltra</td>\n",
       "      <td>Henderson</td>\n",
       "      <td>None</td>\n",
       "      <td>None</td>\n",
       "    </tr>\n",
       "    <tr>\n",
       "      <th>2533</th>\n",
       "      <td>Isaiah</td>\n",
       "      <td>Tucker</td>\n",
       "      <td>None</td>\n",
       "      <td>None</td>\n",
       "    </tr>\n",
       "    <tr>\n",
       "      <th>2534</th>\n",
       "      <td>Dwayne</td>\n",
       "      <td>Jeune</td>\n",
       "      <td>None</td>\n",
       "      <td>None</td>\n",
       "    </tr>\n",
       "  </tbody>\n",
       "</table>\n",
       "<p>2254 rows × 4 columns</p>\n",
       "</div>"
      ],
      "text/plain": [
       "          1st        2nd       3rd   4th\n",
       "0         Tim     Elliot      None  None\n",
       "1       Lewis        Lee    Lembke  None\n",
       "2        John       Paul  Quintero  None\n",
       "3     Matthew    Hoffman      None  None\n",
       "4     Michael  Rodriguez      None  None\n",
       "...       ...        ...       ...   ...\n",
       "2519    Aries      Clark      None  None\n",
       "2523  Kesharn         K.    Burney  None\n",
       "2525   Deltra  Henderson      None  None\n",
       "2533   Isaiah     Tucker      None  None\n",
       "2534   Dwayne      Jeune      None  None\n",
       "\n",
       "[2254 rows x 4 columns]"
      ]
     },
     "execution_count": 80,
     "metadata": {
      "tags": []
     },
     "output_type": "execute_result"
    }
   ],
   "source": [
    "df['name'].str.split(expand=True).rename(columns={0:'1st', 1:'2nd', 2:'3rd', 3:'4th'})"
   ]
  },
  {
   "cell_type": "code",
   "execution_count": null,
   "metadata": {
    "colab": {
     "base_uri": "https://localhost:8080/"
    },
    "id": "8lK8hxO1Ob2Z",
    "outputId": "83b55406-b59e-40c3-cbfd-b2af5232cc49"
   },
   "outputs": [
    {
     "data": {
      "text/plain": [
       "0       None\n",
       "1       None\n",
       "2       None\n",
       "3       None\n",
       "4       None\n",
       "        ... \n",
       "2519    None\n",
       "2523    None\n",
       "2525    None\n",
       "2533    None\n",
       "2534    None\n",
       "Name: name, Length: 2254, dtype: object"
      ]
     },
     "execution_count": 79,
     "metadata": {
      "tags": []
     },
     "output_type": "execute_result"
    }
   ],
   "source": [
    "name_list = []\n",
    "def func(x):\n",
    "    for i in range(len(x)):\n",
    "        name_list.append(x[i])\n",
    "\n",
    "names.apply(func)"
   ]
  },
  {
   "cell_type": "code",
   "execution_count": null,
   "metadata": {
    "colab": {
     "base_uri": "https://localhost:8080/"
    },
    "id": "U0N-P78_Obyp",
    "outputId": "28ec3e4e-58ce-4b06-8785-bf2273b36379"
   },
   "outputs": [
    {
     "data": {
      "text/plain": [
       "{'Tim': 3,\n",
       " 'Elliot': 1,\n",
       " 'Lewis': 7,\n",
       " 'Lee': 37,\n",
       " 'Lembke': 1,\n",
       " 'John': 36,\n",
       " 'Paul': 16,\n",
       " 'Quintero': 2,\n",
       " 'Matthew': 22,\n",
       " 'Hoffman': 2,\n",
       " 'Michael': 82,\n",
       " 'Rodriguez': 13,\n",
       " 'Kenneth': 17,\n",
       " 'Joe': 9,\n",
       " 'Brown': 17,\n",
       " 'Arnold': 2,\n",
       " 'Buck': 3,\n",
       " 'Brock': 2,\n",
       " 'Nichols': 3,\n",
       " 'Autumn': 1,\n",
       " 'Steele': 1,\n",
       " 'Leslie': 2,\n",
       " 'Sapp': 2,\n",
       " 'III': 9,\n",
       " 'Patrick': 13,\n",
       " 'Wetter': 1,\n",
       " 'Ron': 2,\n",
       " 'Sneed': 1,\n",
       " 'Hashim': 1,\n",
       " 'Hanif': 1,\n",
       " 'Ibn': 1,\n",
       " 'Abdul-Rasheed': 1,\n",
       " 'Nicholas': 13,\n",
       " 'Ryan': 16,\n",
       " 'Brickman': 1,\n",
       " 'Omarr': 1,\n",
       " 'Julian': 3,\n",
       " 'Maximillian': 1,\n",
       " 'Jackson': 9,\n",
       " 'Loren': 3,\n",
       " 'Simpson': 4,\n",
       " 'James': 47,\n",
       " 'Dudley': 1,\n",
       " 'Barker': 2,\n",
       " 'Artago': 1,\n",
       " 'Damon': 6,\n",
       " 'Howard': 3,\n",
       " 'Thomas': 24,\n",
       " 'Hamby': 1,\n",
       " 'Jimmy': 5,\n",
       " 'Foreman': 1,\n",
       " 'Andy': 1,\n",
       " 'Martinez': 10,\n",
       " 'Tommy': 3,\n",
       " 'Smith': 31,\n",
       " 'Brian': 9,\n",
       " 'Barbosa': 1,\n",
       " 'Salvador': 4,\n",
       " 'Figueroa': 2,\n",
       " 'Edward': 15,\n",
       " \"O'Keefe\": 1,\n",
       " 'Richard': 33,\n",
       " 'McClendon': 2,\n",
       " 'Marcus': 4,\n",
       " 'Golden': 1,\n",
       " 'Goebel': 1,\n",
       " 'Mario': 8,\n",
       " 'Jordan': 5,\n",
       " 'Talbot': 1,\n",
       " 'Schroeder': 2,\n",
       " 'Robert': 44,\n",
       " 'Edwards': 6,\n",
       " 'Jeffrey': 17,\n",
       " 'R.': 10,\n",
       " 'Nielson': 1,\n",
       " 'Donte': 3,\n",
       " 'Sowell': 2,\n",
       " 'Kavonda': 1,\n",
       " 'Earl': 9,\n",
       " 'Payton': 1,\n",
       " 'Quincy': 2,\n",
       " 'Reed': 2,\n",
       " 'Reindl': 1,\n",
       " 'Jose': 23,\n",
       " 'Ceja': 1,\n",
       " 'Nathan': 6,\n",
       " 'Massey': 1,\n",
       " 'Scott': 25,\n",
       " 'Hall': 13,\n",
       " 'Zaki': 1,\n",
       " 'Shinwary': 1,\n",
       " 'Terence': 3,\n",
       " 'Walker': 3,\n",
       " 'Pablo': 3,\n",
       " 'Meza': 1,\n",
       " 'Daniel': 40,\n",
       " 'Brumley': 1,\n",
       " 'Jonathan': 10,\n",
       " 'Guillory': 1,\n",
       " 'Carter': 5,\n",
       " 'Castle': 1,\n",
       " 'Campbell': 4,\n",
       " 'Dewayne': 3,\n",
       " 'Carr': 2,\n",
       " 'Todd': 10,\n",
       " 'Allen': 20,\n",
       " 'Hodge': 4,\n",
       " 'Miguel': 9,\n",
       " 'Angel': 14,\n",
       " 'de': 1,\n",
       " 'Santos-Rodriguez': 1,\n",
       " 'Isaac': 2,\n",
       " 'Holmes': 2,\n",
       " 'Andrew': 19,\n",
       " 'Toto': 1,\n",
       " 'Tiano': 1,\n",
       " 'Meton': 1,\n",
       " 'Kristiana': 1,\n",
       " 'Coignard': 1,\n",
       " 'Francis': 12,\n",
       " 'Mesch': 1,\n",
       " 'Demaris': 1,\n",
       " 'Turner': 3,\n",
       " 'Antonio': 14,\n",
       " 'Espinoza': 1,\n",
       " 'Ruiz': 2,\n",
       " 'Wendell': 1,\n",
       " 'King': 4,\n",
       " 'Daryl': 1,\n",
       " 'Myler': 1,\n",
       " 'Darin': 1,\n",
       " 'Hutchins': 1,\n",
       " 'Orlando': 1,\n",
       " 'Jude': 1,\n",
       " 'Lopez': 7,\n",
       " 'Jessie': 3,\n",
       " 'Hernandez': 13,\n",
       " 'Raymond': 10,\n",
       " 'Kmetz': 1,\n",
       " 'Joshua': 27,\n",
       " 'Omar': 6,\n",
       " 'Garcia': 12,\n",
       " 'David': 53,\n",
       " 'Nicolas': 2,\n",
       " 'Leland': 2,\n",
       " 'Tewa': 1,\n",
       " 'Chris': 3,\n",
       " 'Ingram': 1,\n",
       " 'Jermonte': 1,\n",
       " 'Fletcher': 4,\n",
       " 'Tiffany': 2,\n",
       " 'Terry': 7,\n",
       " 'Alan': 11,\n",
       " 'Lance': 5,\n",
       " 'Alverson': 1,\n",
       " 'Matautu': 1,\n",
       " 'Nuu': 1,\n",
       " 'Cody': 6,\n",
       " 'Karasek': 1,\n",
       " 'Ralph': 3,\n",
       " 'Willis': 3,\n",
       " 'Barry': 6,\n",
       " 'Marshall': 6,\n",
       " 'Victor': 6,\n",
       " 'Manuel': 6,\n",
       " 'Reyes': 6,\n",
       " 'Donnell': 2,\n",
       " 'Bright': 1,\n",
       " 'Jacob': 6,\n",
       " 'Haglund': 1,\n",
       " 'Kassick': 1,\n",
       " 'Murphy': 3,\n",
       " 'Rose': 3,\n",
       " 'Ledarius': 1,\n",
       " 'D.': 14,\n",
       " 'Williams': 16,\n",
       " 'Yuvette': 1,\n",
       " 'Henderson': 5,\n",
       " 'Deshawn': 1,\n",
       " 'Ward': 1,\n",
       " 'Anthony': 26,\n",
       " 'Purvis': 1,\n",
       " 'Jeremy': 12,\n",
       " 'Lett': 1,\n",
       " 'Izzy': 1,\n",
       " 'Colon': 1,\n",
       " 'Muna': 1,\n",
       " 'Joaquin': 1,\n",
       " 'Ray': 13,\n",
       " 'Robinson': 8,\n",
       " 'Jr.': 18,\n",
       " 'Markell': 2,\n",
       " 'Atkins': 1,\n",
       " 'Alfred': 4,\n",
       " 'Eugene': 12,\n",
       " 'Johnson': 29,\n",
       " 'Herbert': 5,\n",
       " 'Hill': 4,\n",
       " 'Sawyer': 2,\n",
       " 'Martin': 13,\n",
       " 'Whittaker': 1,\n",
       " 'Flache': 1,\n",
       " 'Vincent': 5,\n",
       " 'Cordaro': 1,\n",
       " 'Joseph': 43,\n",
       " 'Paffen': 1,\n",
       " 'Larry': 6,\n",
       " 'Hostetter': 1,\n",
       " 'Kreyssig': 1,\n",
       " 'Desmond': 3,\n",
       " 'Luster': 1,\n",
       " 'Zambrano-Montes': 1,\n",
       " 'Bess': 2,\n",
       " 'Fritze': 1,\n",
       " 'Phillip': 9,\n",
       " 'Watkins': 4,\n",
       " 'Stewart': 3,\n",
       " 'Harden': 1,\n",
       " 'Andres': 1,\n",
       " 'Lara-Rodriguez': 1,\n",
       " 'Carlin': 1,\n",
       " 'Belk': 1,\n",
       " 'Mejia': 2,\n",
       " 'Jason': 22,\n",
       " 'C.': 8,\n",
       " 'Hendrix': 2,\n",
       " 'Roy': 6,\n",
       " 'Joy': 1,\n",
       " 'Day': 2,\n",
       " 'Lavall': 1,\n",
       " 'Brent': 6,\n",
       " 'Means': 1,\n",
       " 'Bruce': 7,\n",
       " 'Steward': 1,\n",
       " 'Lawrence': 5,\n",
       " 'Caldwell': 2,\n",
       " 'K.': 4,\n",
       " 'Casper': 1,\n",
       " 'Evans': 8,\n",
       " 'Betty': 1,\n",
       " 'Sexton': 2,\n",
       " 'Ireland': 1,\n",
       " 'Lundy': 1,\n",
       " 'Douglas': 11,\n",
       " 'Sparks': 1,\n",
       " 'Pedro': 4,\n",
       " 'Juan': 12,\n",
       " 'Saldivar': 1,\n",
       " 'Janisha': 1,\n",
       " 'Fonville': 1,\n",
       " 'Ruben': 6,\n",
       " 'Villalpando': 1,\n",
       " 'Stanley': 4,\n",
       " 'Lamar': 4,\n",
       " 'Grant': 4,\n",
       " 'Harris': 11,\n",
       " 'Moncrief': 1,\n",
       " 'Kent': 2,\n",
       " 'Norman': 4,\n",
       " 'Bradford': 1,\n",
       " 'Leonard': 2,\n",
       " 'Jerome': 5,\n",
       " 'Elrod': 1,\n",
       " 'Kohl': 1,\n",
       " 'Wayne': 10,\n",
       " 'Smashey': 1,\n",
       " 'Giaquinta': 1,\n",
       " \"A'Donte\": 1,\n",
       " 'Washington': 6,\n",
       " 'Biegert': 1,\n",
       " 'Glenn': 4,\n",
       " 'Spivey': 1,\n",
       " 'Alexander': 13,\n",
       " 'Long': 6,\n",
       " 'Cuevas': 1,\n",
       " 'Amilcar': 1,\n",
       " 'Perez-Lopez': 1,\n",
       " 'Rodney': 9,\n",
       " 'Biggs': 2,\n",
       " 'Crystal': 1,\n",
       " 'Miley': 1,\n",
       " 'Harry': 2,\n",
       " 'Ernesto': 3,\n",
       " 'Javiar': 1,\n",
       " 'Canepa': 1,\n",
       " 'Diaz': 5,\n",
       " 'Chazsten': 1,\n",
       " 'Freeman': 1,\n",
       " 'Deven': 1,\n",
       " 'Guilford': 1,\n",
       " 'Jessica': 2,\n",
       " 'Uribe': 1,\n",
       " 'Cornelius': 2,\n",
       " 'J.': 30,\n",
       " 'Parker': 4,\n",
       " 'Ian': 2,\n",
       " 'Sherrod': 1,\n",
       " 'Stephanie': 1,\n",
       " 'Donald': 9,\n",
       " 'Matkins': 1,\n",
       " 'Charly': 1,\n",
       " 'Leundeu': 1,\n",
       " 'Keunang': 1,\n",
       " 'Hung': 1,\n",
       " 'Trieu': 1,\n",
       " 'Shaquille': 1,\n",
       " 'Barrow': 1,\n",
       " 'Fednel': 1,\n",
       " 'Rhinvil': 1,\n",
       " 'Metz': 1,\n",
       " 'Derek': 9,\n",
       " 'Cruice': 1,\n",
       " 'Carl': 4,\n",
       " 'Lao': 1,\n",
       " 'Tyrone': 5,\n",
       " 'Ryerson': 1,\n",
       " 'Sergio': 6,\n",
       " 'Navas': 1,\n",
       " 'Tyson': 2,\n",
       " 'Hubbard': 1,\n",
       " 'Naeschylus': 1,\n",
       " 'Vinzant': 1,\n",
       " 'Tony': 2,\n",
       " 'Adam': 6,\n",
       " 'Reinhart': 1,\n",
       " 'Aurelio': 1,\n",
       " 'Duarte': 1,\n",
       " 'McKillop': 1,\n",
       " 'Monique': 1,\n",
       " 'Jenee': 1,\n",
       " 'Deckard': 1,\n",
       " 'Lester': 1,\n",
       " 'Cedrick': 1,\n",
       " 'Lamont': 7,\n",
       " 'Bishop': 1,\n",
       " 'Jamie': 5,\n",
       " 'Croom': 1,\n",
       " 'Christopher': 35,\n",
       " 'Mitchell': 3,\n",
       " 'Edixon': 1,\n",
       " 'Franco': 2,\n",
       " 'Theodore': 1,\n",
       " 'Greenwell': 1,\n",
       " 'Benito': 1,\n",
       " 'Osorio': 1,\n",
       " 'Dean': 8,\n",
       " 'Burgess': 4,\n",
       " 'Aaron': 8,\n",
       " 'Valdez': 3,\n",
       " 'Gilbert': 4,\n",
       " 'Fleury': 1,\n",
       " 'William': 40,\n",
       " 'Russell': 5,\n",
       " 'Garnett': 1,\n",
       " 'Bobby': 7,\n",
       " 'Gross': 1,\n",
       " 'Fred': 4,\n",
       " 'Liggett': 1,\n",
       " 'Driver': 1,\n",
       " 'Perez': 7,\n",
       " 'Jimenez': 2,\n",
       " 'Castilleja': 1,\n",
       " 'Clifton': 2,\n",
       " 'Reintzel': 1,\n",
       " 'Siler': 1,\n",
       " 'Troy': 2,\n",
       " 'Boyd': 3,\n",
       " 'Justin': 9,\n",
       " 'Tolkinen': 1,\n",
       " 'Poole': 1,\n",
       " 'Roberto': 3,\n",
       " 'Leon': 4,\n",
       " 'Charles': 23,\n",
       " 'Shipley': 1,\n",
       " 'Declan': 1,\n",
       " 'Owen': 1,\n",
       " 'Alice': 1,\n",
       " 'Jeff': 5,\n",
       " 'Kaylene': 1,\n",
       " 'Stone': 1,\n",
       " 'Garland': 2,\n",
       " 'Wingo': 1,\n",
       " 'Kendre': 1,\n",
       " 'Alston': 1,\n",
       " 'Jamison': 2,\n",
       " 'Childress': 2,\n",
       " 'Burdge': 1,\n",
       " 'Shane': 7,\n",
       " 'Brandon': 19,\n",
       " 'Jones': 12,\n",
       " 'Rapp': 1,\n",
       " 'Fowler': 1,\n",
       " 'White': 5,\n",
       " 'Tyrel': 1,\n",
       " 'Vick': 1,\n",
       " 'Ellis': 2,\n",
       " 'Gary': 10,\n",
       " 'Page': 2,\n",
       " 'Enoch': 1,\n",
       " 'Gaver': 1,\n",
       " 'Conley': 1,\n",
       " 'Healy': 1,\n",
       " 'Denzel': 1,\n",
       " 'Devin': 5,\n",
       " 'Gates': 2,\n",
       " 'Stephen': 10,\n",
       " 'Snyder': 2,\n",
       " 'Walter': 4,\n",
       " 'Dunham': 1,\n",
       " 'Lorenza': 1,\n",
       " 'Kelly': 1,\n",
       " 'Terrazas': 1,\n",
       " 'Tassinari': 1,\n",
       " 'Deanne': 1,\n",
       " 'Choate': 1,\n",
       " 'Adrian': 4,\n",
       " 'Solis': 1,\n",
       " 'Kendrick': 1,\n",
       " 'Jamalis': 1,\n",
       " 'Neil': 3,\n",
       " 'Seifert': 1,\n",
       " 'Megan': 1,\n",
       " 'Hockaday': 1,\n",
       " 'Harvey': 1,\n",
       " 'Oates': 1,\n",
       " 'Angelo': 3,\n",
       " 'West': 3,\n",
       " 'Rooker': 1,\n",
       " 'Byron': 1,\n",
       " 'Babb': 1,\n",
       " 'Anderson': 12,\n",
       " 'Benjamin': 5,\n",
       " 'Quezada': 2,\n",
       " 'Mya': 1,\n",
       " 'Shawn': 6,\n",
       " 'Clyde': 3,\n",
       " 'Darrin': 3,\n",
       " 'Langford': 1,\n",
       " 'Hicks': 5,\n",
       " 'Eric': 16,\n",
       " 'Rutledge': 1,\n",
       " 'Prevatt': 1,\n",
       " 'Justus': 1,\n",
       " 'Howell': 1,\n",
       " 'Ethan': 3,\n",
       " 'Noll': 1,\n",
       " 'Ken': 1,\n",
       " 'Cockerel': 1,\n",
       " 'Hanna': 1,\n",
       " 'Myers': 2,\n",
       " 'Tyrell': 1,\n",
       " 'Larsen': 1,\n",
       " 'Erick': 2,\n",
       " 'Faith': 1,\n",
       " 'Dexter': 2,\n",
       " 'Pernell': 1,\n",
       " 'Bethea': 1,\n",
       " 'Weber': 2,\n",
       " 'Gordon': 2,\n",
       " 'Kimbrell': 1,\n",
       " 'Don': 5,\n",
       " 'Jess': 1,\n",
       " 'Leipold': 1,\n",
       " 'Cresencio': 1,\n",
       " 'Corona': 1,\n",
       " 'Mack': 2,\n",
       " 'Dale': 4,\n",
       " 'Weaver': 1,\n",
       " 'Colby': 2,\n",
       " 'Finley': 1,\n",
       " 'Tevin': 1,\n",
       " 'Barkley': 1,\n",
       " 'Dante': 2,\n",
       " 'Noble': 2,\n",
       " 'Frank': 4,\n",
       " 'Shephard': 1,\n",
       " 'Mark': 20,\n",
       " 'W.': 3,\n",
       " 'Adair': 1,\n",
       " 'Watson': 3,\n",
       " 'Flores': 5,\n",
       " 'Rodolfo': 1,\n",
       " 'Velazquez': 1,\n",
       " 'Kemp': 1,\n",
       " 'Elias': 2,\n",
       " 'Cavazos': 1,\n",
       " 'Thaddeus': 2,\n",
       " 'McCarroll': 1,\n",
       " 'Erik': 3,\n",
       " 'Tellez': 1,\n",
       " 'Grover': 1,\n",
       " 'Foster': 2,\n",
       " 'Dana': 3,\n",
       " 'Hlavinka': 1,\n",
       " 'Santos': 2,\n",
       " 'Cortez': 2,\n",
       " 'Wolfe': 1,\n",
       " 'Covarrubias': 1,\n",
       " 'Kimber': 1,\n",
       " 'Key': 1,\n",
       " 'Luis': 7,\n",
       " 'Chapman': 1,\n",
       " 'Carlos': 12,\n",
       " 'Saavedra': 1,\n",
       " 'Ramirez': 6,\n",
       " 'Efraim': 1,\n",
       " 'Reginald': 3,\n",
       " 'McGregor': 1,\n",
       " 'Lue': 1,\n",
       " 'Vang': 1,\n",
       " 'Valadez': 1,\n",
       " 'Potts': 1,\n",
       " 'Hector': 5,\n",
       " 'Morejon': 1,\n",
       " 'Karen': 1,\n",
       " 'Janks': 1,\n",
       " 'Cecil': 1,\n",
       " 'Hawkins': 3,\n",
       " 'Timmie': 1,\n",
       " 'Collins': 3,\n",
       " 'Jamal': 5,\n",
       " 'Dye': 1,\n",
       " 'Felix': 2,\n",
       " 'Davis': 13,\n",
       " 'Billy': 5,\n",
       " 'Albert': 5,\n",
       " 'Hanson': 1,\n",
       " 'Genova': 1,\n",
       " 'Terrance': 1,\n",
       " 'Kellom': 1,\n",
       " 'Jared': 1,\n",
       " 'Green': 5,\n",
       " 'Deysie': 1,\n",
       " 'Chavez-Diaz': 1,\n",
       " 'Alexia': 1,\n",
       " 'Christian': 9,\n",
       " 'Adkins': 1,\n",
       " 'Acree': 1,\n",
       " 'Fridoon': 1,\n",
       " 'Zalbeg': 1,\n",
       " 'Nehad': 1,\n",
       " 'Emmanuel': 1,\n",
       " 'Sanchez': 7,\n",
       " 'Mathena': 1,\n",
       " 'Kevin': 16,\n",
       " 'Vance': 1,\n",
       " 'Norton': 2,\n",
       " 'Elton': 1,\n",
       " 'Nadir': 1,\n",
       " 'Soofi': 1,\n",
       " 'Grimm': 1,\n",
       " 'Asher': 1,\n",
       " 'Roark': 1,\n",
       " 'Cook': 2,\n",
       " 'Brendon': 1,\n",
       " 'Thong': 1,\n",
       " 'Kien': 1,\n",
       " 'Ma': 2,\n",
       " 'A.': 17,\n",
       " 'Frost': 1,\n",
       " 'Nephi': 2,\n",
       " 'Arriguin': 1,\n",
       " 'Shaun': 2,\n",
       " 'Schwalm': 1,\n",
       " 'Dedrick': 1,\n",
       " 'Sam': 3,\n",
       " 'Cunningham': 1,\n",
       " 'Lionel': 4,\n",
       " 'Lorenzo': 4,\n",
       " 'Young': 4,\n",
       " 'Kelvin': 1,\n",
       " 'Goldston': 1,\n",
       " 'Way': 1,\n",
       " \"D'Angelo\": 1,\n",
       " 'Stallworth': 1,\n",
       " 'Zalonka': 1,\n",
       " 'Alec': 1,\n",
       " 'Ouzounian': 1,\n",
       " 'Sean': 6,\n",
       " 'Pelletier': 1,\n",
       " 'Cary': 1,\n",
       " 'Farrar': 1,\n",
       " 'Matt': 2,\n",
       " 'Coates': 1,\n",
       " 'Ronell': 1,\n",
       " 'Wade': 3,\n",
       " 'Dennis': 8,\n",
       " 'Fiel': 1,\n",
       " 'Austin': 6,\n",
       " 'Goodner': 1,\n",
       " 'Timothy': 12,\n",
       " 'Alfredo': 1,\n",
       " 'Rials-Torres': 1,\n",
       " 'McIntosh': 1,\n",
       " 'Gaines': 3,\n",
       " 'Gomez': 5,\n",
       " 'Colley': 1,\n",
       " 'Chrislon': 1,\n",
       " 'Talbott': 1,\n",
       " 'Nikki': 1,\n",
       " 'Jo': 2,\n",
       " 'Burtsfield': 1,\n",
       " 'Wheeler': 1,\n",
       " 'Alejandro': 5,\n",
       " 'Gandara': 1,\n",
       " 'Javoris': 1,\n",
       " 'Cooper': 1,\n",
       " 'Elvin': 1,\n",
       " 'Lowery': 1,\n",
       " 'Caso': 1,\n",
       " 'Horn': 1,\n",
       " 'Cassandra': 1,\n",
       " 'Bolin': 1,\n",
       " 'Briggs': 3,\n",
       " 'Millard': 2,\n",
       " 'Tallant': 1,\n",
       " 'Dalton': 2,\n",
       " 'Branch': 2,\n",
       " 'McAllister': 1,\n",
       " 'Garrett': 1,\n",
       " 'Sandeno': 1,\n",
       " 'Feras': 1,\n",
       " 'Morad': 1,\n",
       " 'Simon': 2,\n",
       " 'Hubble': 1,\n",
       " 'Darrell': 3,\n",
       " 'Morgan': 5,\n",
       " 'Strong': 1,\n",
       " 'Dothard': 1,\n",
       " 'Kyle': 8,\n",
       " 'Baker': 6,\n",
       " 'Nehemiah': 1,\n",
       " 'Fischer': 2,\n",
       " 'Box': 1,\n",
       " 'Ebin': 1,\n",
       " 'Proctor': 1,\n",
       " 'Tirado': 1,\n",
       " 'Rivera': 3,\n",
       " 'Bushey': 1,\n",
       " 'Ladd': 1,\n",
       " 'Usaamah': 1,\n",
       " 'Rahim': 1,\n",
       " 'Kamal': 1,\n",
       " 'Dajani': 1,\n",
       " 'Garza': 3,\n",
       " 'Rudy': 1,\n",
       " 'Baca': 1,\n",
       " 'Edelmiro': 1,\n",
       " 'Ronald': 7,\n",
       " 'Neal': 1,\n",
       " 'Jesus': 6,\n",
       " 'Christie': 1,\n",
       " 'Cathers': 1,\n",
       " 'Demouria': 1,\n",
       " 'Hogg': 1,\n",
       " 'Smillie': 1,\n",
       " 'Campos': 1,\n",
       " 'Fernandez': 2,\n",
       " 'Nevels': 1,\n",
       " 'Damien': 2,\n",
       " 'McDaniel': 2,\n",
       " 'Gene': 5,\n",
       " 'Rene': 4,\n",
       " 'Warolf': 1,\n",
       " 'Linhart': 1,\n",
       " 'Greg': 2,\n",
       " 'Hartley': 1,\n",
       " 'QuanDavier': 1,\n",
       " 'Bolinger': 1,\n",
       " 'Isiah': 1,\n",
       " 'Hampton': 1,\n",
       " 'Ziegler': 1,\n",
       " 'Fritz': 1,\n",
       " 'Severe': 1,\n",
       " 'Peralta-Lantigua': 1,\n",
       " 'Shelly': 2,\n",
       " 'Haendiges': 1,\n",
       " 'Deng': 1,\n",
       " 'Manyoun': 1,\n",
       " 'Boulware': 1,\n",
       " 'Zane': 1,\n",
       " 'Terryn': 1,\n",
       " 'Kris': 2,\n",
       " 'DeLeon': 1,\n",
       " 'Charboneau': 1,\n",
       " 'Wendy': 1,\n",
       " 'Chappell': 1,\n",
       " 'Lanphier': 1,\n",
       " 'Oleg': 1,\n",
       " 'Tcherniak': 1,\n",
       " 'Laboy': 1,\n",
       " 'Trepierre': 1,\n",
       " 'Hummons': 1,\n",
       " 'Louis': 3,\n",
       " 'Atencio': 1,\n",
       " 'Alfontish': 1,\n",
       " 'Cockerham': 1,\n",
       " 'Simental': 1,\n",
       " 'Monroe': 1,\n",
       " 'Barrett': 1,\n",
       " 'Eduardo': 3,\n",
       " 'Tyler': 10,\n",
       " 'Wicks': 1,\n",
       " 'Dyer': 1,\n",
       " 'Wilson': 9,\n",
       " 'Randall': 4,\n",
       " 'Waddel': 1,\n",
       " 'Taylor': 7,\n",
       " 'Culbertson': 1,\n",
       " 'Harrell': 1,\n",
       " 'Spencer': 4,\n",
       " 'McCain': 1,\n",
       " 'Jake': 2,\n",
       " 'Vanderburgh': 1,\n",
       " 'Cisneros': 2,\n",
       " 'Crittenden': 1,\n",
       " 'Bellew': 1,\n",
       " 'LaPort': 1,\n",
       " 'Clay': 2,\n",
       " 'Lickteig': 1,\n",
       " 'Judson': 1,\n",
       " 'Kaleb': 2,\n",
       " 'Landon': 2,\n",
       " 'Buckley': 1,\n",
       " 'Ton': 1,\n",
       " 'Nguyen': 1,\n",
       " 'Emanuel': 1,\n",
       " 'Larosa': 1,\n",
       " 'Cesar': 4,\n",
       " 'Limon': 1,\n",
       " 'Juarez': 4,\n",
       " 'Arturo': 3,\n",
       " 'Oscar': 4,\n",
       " 'Camacho': 1,\n",
       " 'Elando': 1,\n",
       " 'Malone': 2,\n",
       " 'Shannon': 3,\n",
       " 'Gaby': 1,\n",
       " 'Kawanza': 1,\n",
       " 'Beaty': 2,\n",
       " 'Bryan': 5,\n",
       " 'Bauer': 2,\n",
       " 'Deming': 1,\n",
       " 'Holt': 2,\n",
       " 'Munroe': 1,\n",
       " 'Johnny': 3,\n",
       " 'Rogers': 5,\n",
       " 'Hagen': 1,\n",
       " 'Esty-Lennon': 1,\n",
       " 'Oliva': 1,\n",
       " 'Sarabia': 1,\n",
       " 'Berry': 2,\n",
       " 'Hendley': 1,\n",
       " 'Marcellus': 2,\n",
       " 'Jamarcus': 1,\n",
       " 'Burley': 1,\n",
       " 'Dujanovic': 1,\n",
       " 'Graciano': 1,\n",
       " 'Tremaine': 1,\n",
       " 'Dantzler': 1,\n",
       " 'Booth': 1,\n",
       " 'Blough': 1,\n",
       " 'Westrich': 1,\n",
       " 'Dallas': 1,\n",
       " 'Shatley': 1,\n",
       " 'Rocco': 1,\n",
       " 'Palmisano': 1,\n",
       " 'Hammonds': 1,\n",
       " 'Martice': 1,\n",
       " 'Milliner': 1,\n",
       " 'Cyrus': 1,\n",
       " 'Hurtado': 2,\n",
       " 'Javon': 1,\n",
       " 'Todora': 1,\n",
       " 'Freddie': 1,\n",
       " 'Blue': 1,\n",
       " 'McSwain': 1,\n",
       " 'Maine': 1,\n",
       " 'Castaway': 1,\n",
       " 'Salvado': 1,\n",
       " 'Ellswood': 1,\n",
       " 'Lepine': 1,\n",
       " 'Benton': 1,\n",
       " 'Frederick': 4,\n",
       " 'Farmer': 1,\n",
       " 'Graham': 3,\n",
       " 'Rafael': 3,\n",
       " 'Suazo': 1,\n",
       " 'Chacarion': 1,\n",
       " 'Avant': 1,\n",
       " 'Kailing': 1,\n",
       " 'Anthonie': 1,\n",
       " 'Gonzalez': 10,\n",
       " 'Pippin': 1,\n",
       " 'Mohammad': 4,\n",
       " 'Youssef': 1,\n",
       " 'Abdulazeez': 1,\n",
       " 'Saige': 1,\n",
       " 'Hack': 1,\n",
       " 'Pierre': 2,\n",
       " 'Gabriel': 3,\n",
       " 'Koellner': 1,\n",
       " 'Samuel': 5,\n",
       " 'Jackie': 2,\n",
       " 'Brand': 1,\n",
       " 'Darrius': 1,\n",
       " 'Roman': 2,\n",
       " 'Wheat': 1,\n",
       " 'Dewey': 1,\n",
       " 'DuBose': 1,\n",
       " 'LeBoeuf': 1,\n",
       " 'Darren': 4,\n",
       " 'Fuller': 2,\n",
       " 'Jerrod': 2,\n",
       " 'Tyre': 3,\n",
       " 'Francisco': 6,\n",
       " 'Benitez-Santiago': 1,\n",
       " 'Andre': 3,\n",
       " 'Dontrell': 2,\n",
       " 'Devon': 2,\n",
       " 'Guisherd': 1,\n",
       " 'Dontae': 1,\n",
       " 'L.': 14,\n",
       " 'Wolfsteller': 1,\n",
       " 'Stortzum': 1,\n",
       " 'Robbie': 1,\n",
       " 'Edison': 1,\n",
       " 'Tamala': 1,\n",
       " 'Satre': 1,\n",
       " 'Seth': 1,\n",
       " 'Raines': 1,\n",
       " 'Gerston': 1,\n",
       " 'Olmstead': 1,\n",
       " 'Roger': 5,\n",
       " 'Braswell': 1,\n",
       " 'Keith': 14,\n",
       " 'Khari': 1,\n",
       " 'Westly': 1,\n",
       " 'Zachary': 2,\n",
       " 'Hammond': 1,\n",
       " 'Milliken': 1,\n",
       " 'Jean': 3,\n",
       " 'Falgout': 1,\n",
       " 'Forgy': 1,\n",
       " 'Perkins': 4,\n",
       " 'Vrenon': 1,\n",
       " 'Philip': 5,\n",
       " 'Vallejo': 2,\n",
       " 'Lotari': 1,\n",
       " 'Romero': 2,\n",
       " 'Molina': 1,\n",
       " 'Hatch': 1,\n",
       " 'Armando': 4,\n",
       " 'Serrano': 1,\n",
       " 'Virgil': 1,\n",
       " 'Reynolds': 2,\n",
       " 'Clements': 1,\n",
       " 'Malave': 1,\n",
       " 'Franklin': 1,\n",
       " 'Short': 1,\n",
       " 'Ruble': 1,\n",
       " 'Avila': 1,\n",
       " 'Darius': 4,\n",
       " 'Graves': 1,\n",
       " 'Dattilo': 1,\n",
       " 'Dieringer': 1,\n",
       " 'Keshawn': 1,\n",
       " 'Dominique': 2,\n",
       " 'Hargrove': 1,\n",
       " 'Vincente': 1,\n",
       " 'Montano': 2,\n",
       " 'Galaviz': 1,\n",
       " 'Gustavo': 2,\n",
       " 'Ponce-Galon': 1,\n",
       " 'Bertram': 1,\n",
       " 'Abel': 1,\n",
       " 'Correa': 1,\n",
       " 'Marchese': 1,\n",
       " 'Keckhafer': 1,\n",
       " 'Tsombe': 1,\n",
       " 'Clark': 9,\n",
       " 'Derrick': 2,\n",
       " 'Hunt': 1,\n",
       " 'Shamir': 1,\n",
       " 'Terrel': 1,\n",
       " 'Palmer': 2,\n",
       " 'Wilkes': 1,\n",
       " 'Tompkins': 2,\n",
       " 'Edrian': 1,\n",
       " 'Casey': 3,\n",
       " 'George': 9,\n",
       " 'Alarcon': 1,\n",
       " 'Hughes': 1,\n",
       " 'Shull': 1,\n",
       " 'Nathaniel': 4,\n",
       " 'Wilks': 1,\n",
       " 'Redel': 1,\n",
       " 'Tyree': 2,\n",
       " 'Sorriano': 1,\n",
       " 'Asshams': 1,\n",
       " 'Pharoah': 1,\n",
       " 'Manley': 1,\n",
       " 'Unsworth': 1,\n",
       " 'Jonathon': 1,\n",
       " 'Pope': 1,\n",
       " 'Castillo': 1,\n",
       " 'Steven': 13,\n",
       " 'B.': 5,\n",
       " 'Jacquez': 1,\n",
       " 'Mansur': 1,\n",
       " 'Ball-Bey': 1,\n",
       " 'Deviere': 1,\n",
       " 'Ernel': 1,\n",
       " 'Ransom': 1,\n",
       " 'Hale': 2,\n",
       " 'Gerken': 1,\n",
       " 'Jeffory': 1,\n",
       " 'Tevis': 1,\n",
       " 'Raul': 3,\n",
       " 'Herrera': 4,\n",
       " 'Timmy': 1,\n",
       " 'Walling': 1,\n",
       " 'S.': 6,\n",
       " 'Rushton': 1,\n",
       " 'Schneider': 1,\n",
       " 'Faison': 2,\n",
       " 'Alderman': 1,\n",
       " 'Garner': 1,\n",
       " 'Henry': 10,\n",
       " 'Compo': 1,\n",
       " 'Troledge': 1,\n",
       " 'Norris': 2,\n",
       " 'Snider': 1,\n",
       " 'Marvin': 4,\n",
       " 'Maestas': 1,\n",
       " 'Curtis': 4,\n",
       " 'Tomlinson': 1,\n",
       " 'Rudolph': 2,\n",
       " 'Arroliga': 1,\n",
       " 'Dodd': 1,\n",
       " 'Pickard': 1,\n",
       " 'Lambrose': 1,\n",
       " 'Bertrand': 1,\n",
       " 'Yonas': 1,\n",
       " 'Alehegne': 1,\n",
       " 'Hober': 1,\n",
       " 'Soriano': 1,\n",
       " 'Kumi': 1,\n",
       " 'Dial': 2,\n",
       " 'Cruz': 5,\n",
       " 'Jr': 3,\n",
       " 'M.': 16,\n",
       " 'Rippley': 1,\n",
       " 'Cedric': 4,\n",
       " 'Maurice': 2,\n",
       " 'Shaw': 1,\n",
       " 'Arthur': 5,\n",
       " 'Bates': 1,\n",
       " 'Freddy': 2,\n",
       " 'Centeno': 1,\n",
       " 'Meyer': 2,\n",
       " 'Ramon': 5,\n",
       " 'Damiani': 1,\n",
       " 'Kelley': 3,\n",
       " 'Sully': 1,\n",
       " 'Lanier': 1,\n",
       " 'Harrison': 2,\n",
       " 'Lambert': 4,\n",
       " \"La'vante\": 1,\n",
       " 'Trevon': 2,\n",
       " 'Wenceslao': 1,\n",
       " 'Delano': 1,\n",
       " 'Perry': 5,\n",
       " 'India': 2,\n",
       " 'Kager': 1,\n",
       " 'Yero': 1,\n",
       " 'Mohamed': 2,\n",
       " 'Ibrahim': 1,\n",
       " 'Verrett': 1,\n",
       " 'Casimero': 1,\n",
       " 'Casillas': 1,\n",
       " 'Tristan': 3,\n",
       " 'Vent': 1,\n",
       " 'Dustin': 2,\n",
       " 'Kuik': 1,\n",
       " 'Holman': 1,\n",
       " 'Perdue': 1,\n",
       " 'Chau': 1,\n",
       " 'Tian': 1,\n",
       " 'Foy': 1,\n",
       " 'Wilburly': 1,\n",
       " 'Reid': 2,\n",
       " 'Eddie': 4,\n",
       " 'Tapia': 2,\n",
       " 'T.': 5,\n",
       " 'Pfleghardt': 1,\n",
       " 'Derick': 1,\n",
       " 'Jack': 4,\n",
       " 'Stevens': 2,\n",
       " 'Hammen': 1,\n",
       " ...}"
      ]
     },
     "execution_count": 81,
     "metadata": {
      "tags": []
     },
     "output_type": "execute_result"
    }
   ],
   "source": [
    "name_dict = {}\n",
    "def counter(namelist):\n",
    "    for name in namelist:\n",
    "        if name in name_dict.keys():\n",
    "            name_dict[name] += 1\n",
    "        else:\n",
    "            name_dict[name] = 1\n",
    "    return name_dict\n",
    "counter(name_list)"
   ]
  },
  {
   "cell_type": "code",
   "execution_count": null,
   "metadata": {
    "id": "EXw3Ve4GPM5E"
   },
   "outputs": [],
   "source": [
    "most_common= pd.DataFrame([name_dict]).T"
   ]
  },
  {
   "cell_type": "code",
   "execution_count": null,
   "metadata": {
    "colab": {
     "base_uri": "https://localhost:8080/",
     "height": 203
    },
    "id": "XnXbBsYYPMzX",
    "outputId": "5efdb572-1c0f-4386-dfa9-79189f22a4f6"
   },
   "outputs": [
    {
     "data": {
      "text/html": [
       "<div>\n",
       "<style scoped>\n",
       "    .dataframe tbody tr th:only-of-type {\n",
       "        vertical-align: middle;\n",
       "    }\n",
       "\n",
       "    .dataframe tbody tr th {\n",
       "        vertical-align: top;\n",
       "    }\n",
       "\n",
       "    .dataframe thead th {\n",
       "        text-align: right;\n",
       "    }\n",
       "</style>\n",
       "<table border=\"1\" class=\"dataframe\">\n",
       "  <thead>\n",
       "    <tr style=\"text-align: right;\">\n",
       "      <th></th>\n",
       "      <th>0</th>\n",
       "    </tr>\n",
       "  </thead>\n",
       "  <tbody>\n",
       "    <tr>\n",
       "      <th>Tim</th>\n",
       "      <td>3</td>\n",
       "    </tr>\n",
       "    <tr>\n",
       "      <th>Elliot</th>\n",
       "      <td>1</td>\n",
       "    </tr>\n",
       "    <tr>\n",
       "      <th>Lewis</th>\n",
       "      <td>7</td>\n",
       "    </tr>\n",
       "    <tr>\n",
       "      <th>Lee</th>\n",
       "      <td>37</td>\n",
       "    </tr>\n",
       "    <tr>\n",
       "      <th>Lembke</th>\n",
       "      <td>1</td>\n",
       "    </tr>\n",
       "  </tbody>\n",
       "</table>\n",
       "</div>"
      ],
      "text/plain": [
       "         0\n",
       "Tim      3\n",
       "Elliot   1\n",
       "Lewis    7\n",
       "Lee     37\n",
       "Lembke   1"
      ]
     },
     "execution_count": 84,
     "metadata": {
      "tags": []
     },
     "output_type": "execute_result"
    }
   ],
   "source": [
    "most_common.head()"
   ]
  },
  {
   "cell_type": "code",
   "execution_count": null,
   "metadata": {
    "id": "ajnNoye4Pr6Q"
   },
   "outputs": [],
   "source": [
    "most_common.reset_index(inplace = True)"
   ]
  },
  {
   "cell_type": "code",
   "execution_count": null,
   "metadata": {
    "id": "0K0-6hAOPvF0"
   },
   "outputs": [],
   "source": [
    "most_common.columns=['name', 'name_frequency']"
   ]
  },
  {
   "cell_type": "code",
   "execution_count": null,
   "metadata": {
    "colab": {
     "base_uri": "https://localhost:8080/",
     "height": 417
    },
    "id": "fizGXLplPvAp",
    "outputId": "31d3e04d-f326-4520-8064-a83dd74de647"
   },
   "outputs": [
    {
     "data": {
      "text/html": [
       "<div>\n",
       "<style scoped>\n",
       "    .dataframe tbody tr th:only-of-type {\n",
       "        vertical-align: middle;\n",
       "    }\n",
       "\n",
       "    .dataframe tbody tr th {\n",
       "        vertical-align: top;\n",
       "    }\n",
       "\n",
       "    .dataframe thead th {\n",
       "        text-align: right;\n",
       "    }\n",
       "</style>\n",
       "<table border=\"1\" class=\"dataframe\">\n",
       "  <thead>\n",
       "    <tr style=\"text-align: right;\">\n",
       "      <th></th>\n",
       "      <th>name</th>\n",
       "      <th>name_frequency</th>\n",
       "    </tr>\n",
       "  </thead>\n",
       "  <tbody>\n",
       "    <tr>\n",
       "      <th>0</th>\n",
       "      <td>Tim</td>\n",
       "      <td>3</td>\n",
       "    </tr>\n",
       "    <tr>\n",
       "      <th>1</th>\n",
       "      <td>Elliot</td>\n",
       "      <td>1</td>\n",
       "    </tr>\n",
       "    <tr>\n",
       "      <th>2</th>\n",
       "      <td>Lewis</td>\n",
       "      <td>7</td>\n",
       "    </tr>\n",
       "    <tr>\n",
       "      <th>3</th>\n",
       "      <td>Lee</td>\n",
       "      <td>37</td>\n",
       "    </tr>\n",
       "    <tr>\n",
       "      <th>4</th>\n",
       "      <td>Lembke</td>\n",
       "      <td>1</td>\n",
       "    </tr>\n",
       "    <tr>\n",
       "      <th>...</th>\n",
       "      <td>...</td>\n",
       "      <td>...</td>\n",
       "    </tr>\n",
       "    <tr>\n",
       "      <th>2592</th>\n",
       "      <td>Aries</td>\n",
       "      <td>1</td>\n",
       "    </tr>\n",
       "    <tr>\n",
       "      <th>2593</th>\n",
       "      <td>Kesharn</td>\n",
       "      <td>1</td>\n",
       "    </tr>\n",
       "    <tr>\n",
       "      <th>2594</th>\n",
       "      <td>Burney</td>\n",
       "      <td>1</td>\n",
       "    </tr>\n",
       "    <tr>\n",
       "      <th>2595</th>\n",
       "      <td>Deltra</td>\n",
       "      <td>1</td>\n",
       "    </tr>\n",
       "    <tr>\n",
       "      <th>2596</th>\n",
       "      <td>Jeune</td>\n",
       "      <td>1</td>\n",
       "    </tr>\n",
       "  </tbody>\n",
       "</table>\n",
       "<p>2597 rows × 2 columns</p>\n",
       "</div>"
      ],
      "text/plain": [
       "         name  name_frequency\n",
       "0         Tim               3\n",
       "1      Elliot               1\n",
       "2       Lewis               7\n",
       "3         Lee              37\n",
       "4      Lembke               1\n",
       "...       ...             ...\n",
       "2592    Aries               1\n",
       "2593  Kesharn               1\n",
       "2594   Burney               1\n",
       "2595   Deltra               1\n",
       "2596    Jeune               1\n",
       "\n",
       "[2597 rows x 2 columns]"
      ]
     },
     "execution_count": 87,
     "metadata": {
      "tags": []
     },
     "output_type": "execute_result"
    }
   ],
   "source": [
    "most_common"
   ]
  },
  {
   "cell_type": "code",
   "execution_count": null,
   "metadata": {
    "id": "-vmunPQRPu7Q"
   },
   "outputs": [],
   "source": [
    "most_common_15 = most_common.nlargest(15, 'name_frequency')"
   ]
  },
  {
   "cell_type": "code",
   "execution_count": null,
   "metadata": {
    "colab": {
     "base_uri": "https://localhost:8080/",
     "height": 203
    },
    "id": "uo_RIgGQP8oN",
    "outputId": "c0fc6e8b-b493-4cff-d5c6-267c25deee94"
   },
   "outputs": [
    {
     "data": {
      "text/html": [
       "<div>\n",
       "<style scoped>\n",
       "    .dataframe tbody tr th:only-of-type {\n",
       "        vertical-align: middle;\n",
       "    }\n",
       "\n",
       "    .dataframe tbody tr th {\n",
       "        vertical-align: top;\n",
       "    }\n",
       "\n",
       "    .dataframe thead th {\n",
       "        text-align: right;\n",
       "    }\n",
       "</style>\n",
       "<table border=\"1\" class=\"dataframe\">\n",
       "  <thead>\n",
       "    <tr style=\"text-align: right;\">\n",
       "      <th></th>\n",
       "      <th>name</th>\n",
       "      <th>name_frequency</th>\n",
       "    </tr>\n",
       "  </thead>\n",
       "  <tbody>\n",
       "    <tr>\n",
       "      <th>10</th>\n",
       "      <td>Michael</td>\n",
       "      <td>82</td>\n",
       "    </tr>\n",
       "    <tr>\n",
       "      <th>142</th>\n",
       "      <td>David</td>\n",
       "      <td>53</td>\n",
       "    </tr>\n",
       "    <tr>\n",
       "      <th>41</th>\n",
       "      <td>James</td>\n",
       "      <td>47</td>\n",
       "    </tr>\n",
       "    <tr>\n",
       "      <th>70</th>\n",
       "      <td>Robert</td>\n",
       "      <td>44</td>\n",
       "    </tr>\n",
       "    <tr>\n",
       "      <th>204</th>\n",
       "      <td>Joseph</td>\n",
       "      <td>43</td>\n",
       "    </tr>\n",
       "  </tbody>\n",
       "</table>\n",
       "</div>"
      ],
      "text/plain": [
       "        name  name_frequency\n",
       "10   Michael              82\n",
       "142    David              53\n",
       "41     James              47\n",
       "70    Robert              44\n",
       "204   Joseph              43"
      ]
     },
     "execution_count": 89,
     "metadata": {
      "tags": []
     },
     "output_type": "execute_result"
    }
   ],
   "source": [
    "most_common_15.head()"
   ]
  },
  {
   "cell_type": "code",
   "execution_count": null,
   "metadata": {
    "_cell_guid": "c2cd6681-42a4-44c2-ba1a-46d4d61b6eea",
    "_uuid": "b3b53866f9c794ca5f85f59bc5bfc0d01a830baf",
    "colab": {
     "base_uri": "https://localhost:8080/"
    },
    "id": "YsaT2vLg-G-W",
    "outputId": "f3de216b-2176-4b7e-8fc2-c9e3858bd298",
    "scrolled": true
   },
   "outputs": [
    {
     "data": {
      "text/plain": [
       "0             [Tim, Elliot]\n",
       "1      [Lewis, Lee, Lembke]\n",
       "2    [John, Paul, Quintero]\n",
       "3        [Matthew, Hoffman]\n",
       "4      [Michael, Rodriguez]\n",
       "Name: name, dtype: object"
      ]
     },
     "execution_count": 30,
     "metadata": {
      "tags": []
     },
     "output_type": "execute_result"
    }
   ],
   "source": [
    "# Problem: TK TK is most probably not a name or surname. We will clean them.\n"
   ]
  },
  {
   "cell_type": "code",
   "execution_count": null,
   "metadata": {
    "colab": {
     "base_uri": "https://localhost:8080/",
     "height": 80
    },
    "id": "i3MsuH7kQZRu",
    "outputId": "3b47dc1c-04bd-41c4-98f5-1772710a4d4d"
   },
   "outputs": [
    {
     "data": {
      "text/html": [
       "<div>\n",
       "<style scoped>\n",
       "    .dataframe tbody tr th:only-of-type {\n",
       "        vertical-align: middle;\n",
       "    }\n",
       "\n",
       "    .dataframe tbody tr th {\n",
       "        vertical-align: top;\n",
       "    }\n",
       "\n",
       "    .dataframe thead th {\n",
       "        text-align: right;\n",
       "    }\n",
       "</style>\n",
       "<table border=\"1\" class=\"dataframe\">\n",
       "  <thead>\n",
       "    <tr style=\"text-align: right;\">\n",
       "      <th></th>\n",
       "      <th>name</th>\n",
       "      <th>name_frequency</th>\n",
       "    </tr>\n",
       "  </thead>\n",
       "  <tbody>\n",
       "    <tr>\n",
       "      <th>2581</th>\n",
       "      <td>TK</td>\n",
       "      <td>2</td>\n",
       "    </tr>\n",
       "  </tbody>\n",
       "</table>\n",
       "</div>"
      ],
      "text/plain": [
       "     name  name_frequency\n",
       "2581   TK               2"
      ]
     },
     "execution_count": 94,
     "metadata": {
      "tags": []
     },
     "output_type": "execute_result"
    }
   ],
   "source": [
    "most_common[most_common['name'] == 'TK']"
   ]
  },
  {
   "cell_type": "code",
   "execution_count": null,
   "metadata": {
    "colab": {
     "base_uri": "https://localhost:8080/"
    },
    "id": "003Pbvb_QZNI",
    "outputId": "495eed98-7700-4539-be5a-ac93623543d0"
   },
   "outputs": [
    {
     "data": {
      "text/plain": [
       "2"
      ]
     },
     "execution_count": 95,
     "metadata": {
      "tags": []
     },
     "output_type": "execute_result"
    }
   ],
   "source": [
    "name_dict['TK']"
   ]
  },
  {
   "cell_type": "code",
   "execution_count": null,
   "metadata": {
    "id": "_bX5UA67QZJi"
   },
   "outputs": [],
   "source": [
    "tk_index = most_common[most_common['name'] == 'TK'].index[0]"
   ]
  },
  {
   "cell_type": "code",
   "execution_count": null,
   "metadata": {
    "colab": {
     "base_uri": "https://localhost:8080/"
    },
    "id": "gq3-MfVFQZGV",
    "outputId": "94c71d33-fe0a-4d0a-a75c-bfbe9f94a76e"
   },
   "outputs": [
    {
     "data": {
      "text/plain": [
       "2581"
      ]
     },
     "execution_count": 97,
     "metadata": {
      "tags": []
     },
     "output_type": "execute_result"
    }
   ],
   "source": [
    "tk_index"
   ]
  },
  {
   "cell_type": "code",
   "execution_count": null,
   "metadata": {
    "id": "HhcWwHBdQZC1"
   },
   "outputs": [],
   "source": [
    "most_common.drop(tk_index, inplace=True)"
   ]
  },
  {
   "cell_type": "code",
   "execution_count": null,
   "metadata": {
    "colab": {
     "base_uri": "https://localhost:8080/",
     "height": 49
    },
    "id": "AMcEaEPQQY_W",
    "outputId": "868747a4-9e09-4f1b-84f8-effae0d19d19"
   },
   "outputs": [
    {
     "data": {
      "text/html": [
       "<div>\n",
       "<style scoped>\n",
       "    .dataframe tbody tr th:only-of-type {\n",
       "        vertical-align: middle;\n",
       "    }\n",
       "\n",
       "    .dataframe tbody tr th {\n",
       "        vertical-align: top;\n",
       "    }\n",
       "\n",
       "    .dataframe thead th {\n",
       "        text-align: right;\n",
       "    }\n",
       "</style>\n",
       "<table border=\"1\" class=\"dataframe\">\n",
       "  <thead>\n",
       "    <tr style=\"text-align: right;\">\n",
       "      <th></th>\n",
       "      <th>name</th>\n",
       "      <th>name_frequency</th>\n",
       "    </tr>\n",
       "  </thead>\n",
       "  <tbody>\n",
       "  </tbody>\n",
       "</table>\n",
       "</div>"
      ],
      "text/plain": [
       "Empty DataFrame\n",
       "Columns: [name, name_frequency]\n",
       "Index: []"
      ]
     },
     "execution_count": 99,
     "metadata": {
      "tags": []
     },
     "output_type": "execute_result"
    }
   ],
   "source": [
    "most_common[most_common['name'] == 'TK']"
   ]
  },
  {
   "cell_type": "code",
   "execution_count": null,
   "metadata": {
    "id": "1__hRuSRQY7M"
   },
   "outputs": [],
   "source": []
  },
  {
   "cell_type": "code",
   "execution_count": null,
   "metadata": {
    "id": "S3_rJQVxQY3E"
   },
   "outputs": [],
   "source": []
  },
  {
   "cell_type": "code",
   "execution_count": null,
   "metadata": {
    "colab": {
     "base_uri": "https://localhost:8080/"
    },
    "id": "Tm35sunM-G-W",
    "outputId": "f6fc6156-5af6-4a3d-f509-9c16f85fb1c8"
   },
   "outputs": [
    {
     "data": {
      "text/plain": [
       "pandas.core.series.Series"
      ]
     },
     "execution_count": 31,
     "metadata": {
      "tags": []
     },
     "output_type": "execute_result"
    }
   ],
   "source": [
    "type(pairs)"
   ]
  },
  {
   "cell_type": "markdown",
   "metadata": {
    "id": "SDeKoDA3-G-W"
   },
   "source": [
    "**INSTRUCTION : Plot Most common 15 Name OR Surname of killed people** "
   ]
  },
  {
   "cell_type": "raw",
   "metadata": {
    "id": "GDrfQsvl-G-W"
   },
   "source": [
    "### Clue 1: You need to separate the names and surnames because we are asking most common name OR surname.\n",
    "\n",
    "### Clue 2 :After seperation make a whole list that contains both names and surnames.\n",
    "\n",
    "### Clue 3 : How to separate the name and surname pairs?\n",
    "\n",
    ">>> pairs = [(1, 'a'), (2, 'b'), (3, 'c'), (4, 'd')]\n",
    ">>> numbers, letters = zip(*pairs)\n",
    ">>> numbers\n",
    "(1, 2, 3, 4)\n",
    ">>> letters\n",
    "('a', 'b', 'c', 'd')\n",
    "\n",
    "### Clue 4: You can use Counter() and most_common() built in functions together to find the most common names or surnames, or you can write your own functions for this purpose."
   ]
  },
  {
   "cell_type": "markdown",
   "metadata": {
    "id": "enYjZO9j5Cn9"
   },
   "source": [
    "shape"
   ]
  },
  {
   "cell_type": "code",
   "execution_count": null,
   "metadata": {
    "colab": {
     "base_uri": "https://localhost:8080/"
    },
    "id": "wTOlNN6V-G-W",
    "outputId": "d02b14f6-6ec4-4294-a850-ef94ce1572fa"
   },
   "outputs": [
    {
     "data": {
      "text/plain": [
       "(2253,)"
      ]
     },
     "execution_count": 32,
     "metadata": {
      "tags": []
     },
     "output_type": "execute_result"
    }
   ],
   "source": []
  },
  {
   "cell_type": "code",
   "execution_count": 46,
   "metadata": {
    "colab": {
     "base_uri": "https://localhost:8080/"
    },
    "id": "8T7457Ekcy2r",
    "outputId": "851c3503-adc1-485b-998b-f45f02ca9952"
   },
   "outputs": [
    {
     "data": {
      "text/plain": [
       "(2535, 14)"
      ]
     },
     "execution_count": 46,
     "metadata": {
      "tags": []
     },
     "output_type": "execute_result"
    }
   ],
   "source": [
    "df.shape"
   ]
  },
  {
   "cell_type": "code",
   "execution_count": null,
   "metadata": {
    "colab": {
     "base_uri": "https://localhost:8080/"
    },
    "id": "0Ml-0Jbo-G-X",
    "outputId": "ccd66eaa-e0c5-4dc6-9aec-a99008ae63eb"
   },
   "outputs": [
    {
     "data": {
      "text/plain": [
       "['Tim', 'Elliot']"
      ]
     },
     "execution_count": 33,
     "metadata": {
      "tags": []
     },
     "output_type": "execute_result"
    }
   ],
   "source": []
  },
  {
   "cell_type": "code",
   "execution_count": null,
   "metadata": {
    "colab": {
     "base_uri": "https://localhost:8080/",
     "height": 35
    },
    "id": "B4S3UjP--G-X",
    "outputId": "c4aeaea4-b782-4c61-cb49-c588ecbed42b"
   },
   "outputs": [
    {
     "data": {
      "application/vnd.google.colaboratory.intrinsic+json": {
       "type": "string"
      },
      "text/plain": [
       "'Tim'"
      ]
     },
     "execution_count": 34,
     "metadata": {
      "tags": []
     },
     "output_type": "execute_result"
    }
   ],
   "source": []
  },
  {
   "cell_type": "code",
   "execution_count": null,
   "metadata": {
    "id": "eIN9wmQZ-G-X"
   },
   "outputs": [],
   "source": []
  },
  {
   "cell_type": "code",
   "execution_count": null,
   "metadata": {
    "colab": {
     "base_uri": "https://localhost:8080/"
    },
    "id": "qzpsa-8C-G-X",
    "outputId": "9a4b6062-d0e1-49c6-f8a5-763c904ca17f"
   },
   "outputs": [
    {
     "data": {
      "text/plain": [
       "5339"
      ]
     },
     "execution_count": 36,
     "metadata": {
      "tags": []
     },
     "output_type": "execute_result"
    }
   ],
   "source": []
  },
  {
   "cell_type": "code",
   "execution_count": null,
   "metadata": {
    "colab": {
     "base_uri": "https://localhost:8080/"
    },
    "id": "E6EkGClj-G-Y",
    "outputId": "142f78af-09f9-4bcf-8091-367c680553a4"
   },
   "outputs": [
    {
     "data": {
      "text/plain": [
       "Counter({'Tim': 3,\n",
       "         'Elliot': 1,\n",
       "         'Lewis': 7,\n",
       "         'Lee': 37,\n",
       "         'Lembke': 1,\n",
       "         'John': 36,\n",
       "         'Paul': 16,\n",
       "         'Quintero': 2,\n",
       "         'Matthew': 22,\n",
       "         'Hoffman': 2,\n",
       "         'Michael': 82,\n",
       "         'Rodriguez': 13,\n",
       "         'Kenneth': 17,\n",
       "         'Joe': 9,\n",
       "         'Brown': 17,\n",
       "         'Arnold': 2,\n",
       "         'Buck': 3,\n",
       "         'Brock': 2,\n",
       "         'Nichols': 3,\n",
       "         'Autumn': 1,\n",
       "         'Steele': 1,\n",
       "         'Leslie': 2,\n",
       "         'Sapp': 2,\n",
       "         'III': 9,\n",
       "         'Patrick': 13,\n",
       "         'Wetter': 1,\n",
       "         'Ron': 2,\n",
       "         'Sneed': 1,\n",
       "         'Hashim': 1,\n",
       "         'Hanif': 1,\n",
       "         'Ibn': 1,\n",
       "         'Abdul-Rasheed': 1,\n",
       "         'Nicholas': 13,\n",
       "         'Ryan': 16,\n",
       "         'Brickman': 1,\n",
       "         'Omarr': 1,\n",
       "         'Julian': 3,\n",
       "         'Maximillian': 1,\n",
       "         'Jackson': 9,\n",
       "         'Loren': 3,\n",
       "         'Simpson': 4,\n",
       "         'James': 47,\n",
       "         'Dudley': 1,\n",
       "         'Barker': 2,\n",
       "         'Artago': 1,\n",
       "         'Damon': 6,\n",
       "         'Howard': 3,\n",
       "         'Thomas': 24,\n",
       "         'Hamby': 1,\n",
       "         'Jimmy': 5,\n",
       "         'Foreman': 1,\n",
       "         'Andy': 1,\n",
       "         'Martinez': 10,\n",
       "         'Tommy': 3,\n",
       "         'Smith': 31,\n",
       "         'Brian': 9,\n",
       "         'Barbosa': 1,\n",
       "         'Salvador': 4,\n",
       "         'Figueroa': 2,\n",
       "         'Edward': 15,\n",
       "         \"O'Keefe\": 1,\n",
       "         'Richard': 33,\n",
       "         'McClendon': 2,\n",
       "         'Marcus': 4,\n",
       "         'Golden': 1,\n",
       "         'Goebel': 1,\n",
       "         'Mario': 8,\n",
       "         'Jordan': 5,\n",
       "         'Talbot': 1,\n",
       "         'Schroeder': 2,\n",
       "         'Robert': 44,\n",
       "         'Edwards': 6,\n",
       "         'Jeffrey': 17,\n",
       "         'R.': 10,\n",
       "         'Nielson': 1,\n",
       "         'Donte': 3,\n",
       "         'Sowell': 2,\n",
       "         'Kavonda': 1,\n",
       "         'Earl': 9,\n",
       "         'Payton': 1,\n",
       "         'Quincy': 2,\n",
       "         'Reed': 2,\n",
       "         'Reindl': 1,\n",
       "         'Jose': 23,\n",
       "         'Ceja': 1,\n",
       "         'Nathan': 6,\n",
       "         'Massey': 1,\n",
       "         'Scott': 25,\n",
       "         'Hall': 13,\n",
       "         'Zaki': 1,\n",
       "         'Shinwary': 1,\n",
       "         'Terence': 3,\n",
       "         'Walker': 3,\n",
       "         'Pablo': 3,\n",
       "         'Meza': 1,\n",
       "         'Daniel': 40,\n",
       "         'Brumley': 1,\n",
       "         'Jonathan': 10,\n",
       "         'Guillory': 1,\n",
       "         'Carter': 5,\n",
       "         'Castle': 1,\n",
       "         'Campbell': 4,\n",
       "         'Dewayne': 3,\n",
       "         'Carr': 2,\n",
       "         'Todd': 10,\n",
       "         'Allen': 20,\n",
       "         'Hodge': 4,\n",
       "         'Miguel': 9,\n",
       "         'Angel': 14,\n",
       "         'de': 1,\n",
       "         'Santos-Rodriguez': 1,\n",
       "         'Isaac': 2,\n",
       "         'Holmes': 2,\n",
       "         'Andrew': 19,\n",
       "         'Toto': 1,\n",
       "         'Tiano': 1,\n",
       "         'Meton': 1,\n",
       "         'Kristiana': 1,\n",
       "         'Coignard': 1,\n",
       "         'Francis': 12,\n",
       "         'Mesch': 1,\n",
       "         'Demaris': 1,\n",
       "         'Turner': 3,\n",
       "         'Antonio': 14,\n",
       "         'Espinoza': 1,\n",
       "         'Ruiz': 2,\n",
       "         'Wendell': 1,\n",
       "         'King': 4,\n",
       "         'Daryl': 1,\n",
       "         'Myler': 1,\n",
       "         'Darin': 1,\n",
       "         'Hutchins': 1,\n",
       "         'Orlando': 1,\n",
       "         'Jude': 1,\n",
       "         'Lopez': 7,\n",
       "         'Jessie': 3,\n",
       "         'Hernandez': 13,\n",
       "         'Raymond': 10,\n",
       "         'Kmetz': 1,\n",
       "         'Joshua': 27,\n",
       "         'Omar': 6,\n",
       "         'Garcia': 12,\n",
       "         'David': 53,\n",
       "         'Nicolas': 2,\n",
       "         'Leland': 2,\n",
       "         'Tewa': 1,\n",
       "         'Chris': 3,\n",
       "         'Ingram': 1,\n",
       "         'Jermonte': 1,\n",
       "         'Fletcher': 4,\n",
       "         'Tiffany': 2,\n",
       "         'Terry': 7,\n",
       "         'Alan': 11,\n",
       "         'Lance': 5,\n",
       "         'Alverson': 1,\n",
       "         'Matautu': 1,\n",
       "         'Nuu': 1,\n",
       "         'Cody': 6,\n",
       "         'Karasek': 1,\n",
       "         'Ralph': 3,\n",
       "         'Willis': 3,\n",
       "         'Barry': 6,\n",
       "         'Marshall': 6,\n",
       "         'Victor': 6,\n",
       "         'Manuel': 6,\n",
       "         'Reyes': 6,\n",
       "         'Donnell': 2,\n",
       "         'Bright': 1,\n",
       "         'Jacob': 6,\n",
       "         'Haglund': 1,\n",
       "         'Kassick': 1,\n",
       "         'Murphy': 3,\n",
       "         'Rose': 3,\n",
       "         'Ledarius': 1,\n",
       "         'D.': 14,\n",
       "         'Williams': 16,\n",
       "         'Yuvette': 1,\n",
       "         'Henderson': 5,\n",
       "         'Deshawn': 1,\n",
       "         'Ward': 1,\n",
       "         'Anthony': 26,\n",
       "         'Purvis': 1,\n",
       "         'Jeremy': 12,\n",
       "         'Lett': 1,\n",
       "         'Izzy': 1,\n",
       "         'Colon': 1,\n",
       "         'Muna': 1,\n",
       "         'Joaquin': 1,\n",
       "         'Ray': 13,\n",
       "         'Robinson': 8,\n",
       "         'Jr.': 18,\n",
       "         'Markell': 2,\n",
       "         'Atkins': 1,\n",
       "         'Alfred': 4,\n",
       "         'Eugene': 12,\n",
       "         'Johnson': 29,\n",
       "         'Herbert': 5,\n",
       "         'Hill': 4,\n",
       "         'Sawyer': 2,\n",
       "         'Martin': 13,\n",
       "         'Whittaker': 1,\n",
       "         'Flache': 1,\n",
       "         'Vincent': 5,\n",
       "         'Cordaro': 1,\n",
       "         'Joseph': 43,\n",
       "         'Paffen': 1,\n",
       "         'Larry': 6,\n",
       "         'Hostetter': 1,\n",
       "         'Kreyssig': 1,\n",
       "         'Desmond': 3,\n",
       "         'Luster': 1,\n",
       "         'Zambrano-Montes': 1,\n",
       "         'Bess': 2,\n",
       "         'Fritze': 1,\n",
       "         'Phillip': 9,\n",
       "         'Watkins': 4,\n",
       "         'Stewart': 3,\n",
       "         'Harden': 1,\n",
       "         'Andres': 1,\n",
       "         'Lara-Rodriguez': 1,\n",
       "         'Carlin': 1,\n",
       "         'Belk': 1,\n",
       "         'Mejia': 2,\n",
       "         'Jason': 22,\n",
       "         'C.': 8,\n",
       "         'Hendrix': 2,\n",
       "         'Roy': 6,\n",
       "         'Joy': 1,\n",
       "         'Day': 2,\n",
       "         'Lavall': 1,\n",
       "         'Brent': 6,\n",
       "         'Means': 1,\n",
       "         'Bruce': 7,\n",
       "         'Steward': 1,\n",
       "         'Lawrence': 5,\n",
       "         'Caldwell': 2,\n",
       "         'K.': 4,\n",
       "         'Casper': 1,\n",
       "         'Evans': 8,\n",
       "         'Betty': 1,\n",
       "         'Sexton': 2,\n",
       "         'Ireland': 1,\n",
       "         'Lundy': 1,\n",
       "         'Douglas': 11,\n",
       "         'Sparks': 1,\n",
       "         'Pedro': 4,\n",
       "         'Juan': 12,\n",
       "         'Saldivar': 1,\n",
       "         'Janisha': 1,\n",
       "         'Fonville': 1,\n",
       "         'Ruben': 6,\n",
       "         'Villalpando': 1,\n",
       "         'Stanley': 4,\n",
       "         'Lamar': 4,\n",
       "         'Grant': 4,\n",
       "         'Harris': 11,\n",
       "         'Moncrief': 1,\n",
       "         'Kent': 2,\n",
       "         'Norman': 4,\n",
       "         'Bradford': 1,\n",
       "         'Leonard': 2,\n",
       "         'Jerome': 5,\n",
       "         'Elrod': 1,\n",
       "         'Kohl': 1,\n",
       "         'Wayne': 10,\n",
       "         'Smashey': 1,\n",
       "         'Giaquinta': 1,\n",
       "         \"A'Donte\": 1,\n",
       "         'Washington': 6,\n",
       "         'Biegert': 1,\n",
       "         'Glenn': 4,\n",
       "         'Spivey': 1,\n",
       "         'Alexander': 13,\n",
       "         'Long': 6,\n",
       "         'Cuevas': 1,\n",
       "         'Amilcar': 1,\n",
       "         'Perez-Lopez': 1,\n",
       "         'Rodney': 9,\n",
       "         'Biggs': 2,\n",
       "         'Crystal': 1,\n",
       "         'Miley': 1,\n",
       "         'Harry': 2,\n",
       "         'Ernesto': 3,\n",
       "         'Javiar': 1,\n",
       "         'Canepa': 1,\n",
       "         'Diaz': 5,\n",
       "         'Chazsten': 1,\n",
       "         'Freeman': 1,\n",
       "         'Deven': 1,\n",
       "         'Guilford': 1,\n",
       "         'Jessica': 2,\n",
       "         'Uribe': 1,\n",
       "         'Cornelius': 2,\n",
       "         'J.': 30,\n",
       "         'Parker': 4,\n",
       "         'Ian': 2,\n",
       "         'Sherrod': 1,\n",
       "         'Stephanie': 1,\n",
       "         'Donald': 9,\n",
       "         'Matkins': 1,\n",
       "         'Charly': 1,\n",
       "         'Leundeu': 1,\n",
       "         'Keunang': 1,\n",
       "         'Hung': 1,\n",
       "         'Trieu': 1,\n",
       "         'Shaquille': 1,\n",
       "         'Barrow': 1,\n",
       "         'Fednel': 1,\n",
       "         'Rhinvil': 1,\n",
       "         'Metz': 1,\n",
       "         'Derek': 9,\n",
       "         'Cruice': 1,\n",
       "         'Carl': 4,\n",
       "         'Lao': 1,\n",
       "         'Tyrone': 5,\n",
       "         'Ryerson': 1,\n",
       "         'Sergio': 6,\n",
       "         'Navas': 1,\n",
       "         'Tyson': 2,\n",
       "         'Hubbard': 1,\n",
       "         'Naeschylus': 1,\n",
       "         'Vinzant': 1,\n",
       "         'Tony': 2,\n",
       "         'Adam': 6,\n",
       "         'Reinhart': 1,\n",
       "         'Aurelio': 1,\n",
       "         'Duarte': 1,\n",
       "         'McKillop': 1,\n",
       "         'Monique': 1,\n",
       "         'Jenee': 1,\n",
       "         'Deckard': 1,\n",
       "         'Lester': 1,\n",
       "         'Cedrick': 1,\n",
       "         'Lamont': 7,\n",
       "         'Bishop': 1,\n",
       "         'Jamie': 5,\n",
       "         'Croom': 1,\n",
       "         'Christopher': 35,\n",
       "         'Mitchell': 3,\n",
       "         'Edixon': 1,\n",
       "         'Franco': 2,\n",
       "         'Theodore': 1,\n",
       "         'Greenwell': 1,\n",
       "         'Benito': 1,\n",
       "         'Osorio': 1,\n",
       "         'Dean': 8,\n",
       "         'Burgess': 4,\n",
       "         'Aaron': 8,\n",
       "         'Valdez': 3,\n",
       "         'Gilbert': 4,\n",
       "         'Fleury': 1,\n",
       "         'William': 40,\n",
       "         'Russell': 5,\n",
       "         'Garnett': 1,\n",
       "         'Bobby': 7,\n",
       "         'Gross': 1,\n",
       "         'Fred': 4,\n",
       "         'Liggett': 1,\n",
       "         'Driver': 1,\n",
       "         'Perez': 7,\n",
       "         'Jimenez': 2,\n",
       "         'Castilleja': 1,\n",
       "         'Clifton': 2,\n",
       "         'Reintzel': 1,\n",
       "         'Siler': 1,\n",
       "         'Troy': 2,\n",
       "         'Boyd': 3,\n",
       "         'Justin': 9,\n",
       "         'Tolkinen': 1,\n",
       "         'Poole': 1,\n",
       "         'Roberto': 3,\n",
       "         'Leon': 4,\n",
       "         'Charles': 23,\n",
       "         'Shipley': 1,\n",
       "         'Declan': 1,\n",
       "         'Owen': 1,\n",
       "         'Alice': 1,\n",
       "         'Jeff': 5,\n",
       "         'Kaylene': 1,\n",
       "         'Stone': 1,\n",
       "         'Garland': 2,\n",
       "         'Wingo': 1,\n",
       "         'Kendre': 1,\n",
       "         'Alston': 1,\n",
       "         'Jamison': 2,\n",
       "         'Childress': 2,\n",
       "         'Burdge': 1,\n",
       "         'Shane': 7,\n",
       "         'Brandon': 19,\n",
       "         'Jones': 12,\n",
       "         'Rapp': 1,\n",
       "         'Fowler': 1,\n",
       "         'White': 5,\n",
       "         'Tyrel': 1,\n",
       "         'Vick': 1,\n",
       "         'Ellis': 2,\n",
       "         'Gary': 10,\n",
       "         'Page': 2,\n",
       "         'Enoch': 1,\n",
       "         'Gaver': 1,\n",
       "         'Conley': 1,\n",
       "         'Healy': 1,\n",
       "         'Denzel': 1,\n",
       "         'Devin': 5,\n",
       "         'Gates': 2,\n",
       "         'Stephen': 10,\n",
       "         'Snyder': 2,\n",
       "         'Walter': 4,\n",
       "         'Dunham': 1,\n",
       "         'Lorenza': 1,\n",
       "         'Kelly': 1,\n",
       "         'Terrazas': 1,\n",
       "         'Tassinari': 1,\n",
       "         'Deanne': 1,\n",
       "         'Choate': 1,\n",
       "         'Adrian': 4,\n",
       "         'Solis': 1,\n",
       "         'Kendrick': 1,\n",
       "         'Jamalis': 1,\n",
       "         'Neil': 3,\n",
       "         'Seifert': 1,\n",
       "         'Megan': 1,\n",
       "         'Hockaday': 1,\n",
       "         'Harvey': 1,\n",
       "         'Oates': 1,\n",
       "         'Angelo': 3,\n",
       "         'West': 3,\n",
       "         'Rooker': 1,\n",
       "         'Byron': 1,\n",
       "         'Babb': 1,\n",
       "         'Anderson': 12,\n",
       "         'Benjamin': 5,\n",
       "         'Quezada': 2,\n",
       "         'Mya': 1,\n",
       "         'Shawn': 6,\n",
       "         'Clyde': 3,\n",
       "         'Darrin': 3,\n",
       "         'Langford': 1,\n",
       "         'Hicks': 5,\n",
       "         'Eric': 16,\n",
       "         'Rutledge': 1,\n",
       "         'Prevatt': 1,\n",
       "         'Justus': 1,\n",
       "         'Howell': 1,\n",
       "         'Ethan': 3,\n",
       "         'Noll': 1,\n",
       "         'Ken': 1,\n",
       "         'Cockerel': 1,\n",
       "         'Hanna': 1,\n",
       "         'Myers': 2,\n",
       "         'Tyrell': 1,\n",
       "         'Larsen': 1,\n",
       "         'Erick': 2,\n",
       "         'Faith': 1,\n",
       "         'Dexter': 2,\n",
       "         'Pernell': 1,\n",
       "         'Bethea': 1,\n",
       "         'Weber': 2,\n",
       "         'Gordon': 2,\n",
       "         'Kimbrell': 1,\n",
       "         'Don': 5,\n",
       "         'Jess': 1,\n",
       "         'Leipold': 1,\n",
       "         'Cresencio': 1,\n",
       "         'Corona': 1,\n",
       "         'Mack': 2,\n",
       "         'Dale': 4,\n",
       "         'Weaver': 1,\n",
       "         'Colby': 2,\n",
       "         'Finley': 1,\n",
       "         'Tevin': 1,\n",
       "         'Barkley': 1,\n",
       "         'Dante': 2,\n",
       "         'Noble': 2,\n",
       "         'Frank': 4,\n",
       "         'Shephard': 1,\n",
       "         'Mark': 20,\n",
       "         'W.': 3,\n",
       "         'Adair': 1,\n",
       "         'Watson': 3,\n",
       "         'Flores': 5,\n",
       "         'Rodolfo': 1,\n",
       "         'Velazquez': 1,\n",
       "         'Kemp': 1,\n",
       "         'Elias': 2,\n",
       "         'Cavazos': 1,\n",
       "         'Thaddeus': 2,\n",
       "         'McCarroll': 1,\n",
       "         'Erik': 3,\n",
       "         'Tellez': 1,\n",
       "         'Grover': 1,\n",
       "         'Foster': 2,\n",
       "         'Dana': 3,\n",
       "         'Hlavinka': 1,\n",
       "         'Santos': 2,\n",
       "         'Cortez': 2,\n",
       "         'Wolfe': 1,\n",
       "         'Covarrubias': 1,\n",
       "         'Kimber': 1,\n",
       "         'Key': 1,\n",
       "         'Luis': 7,\n",
       "         'Chapman': 1,\n",
       "         'Carlos': 12,\n",
       "         'Saavedra': 1,\n",
       "         'Ramirez': 6,\n",
       "         'Efraim': 1,\n",
       "         'Reginald': 3,\n",
       "         'McGregor': 1,\n",
       "         'Lue': 1,\n",
       "         'Vang': 1,\n",
       "         'Valadez': 1,\n",
       "         'Potts': 1,\n",
       "         'Hector': 5,\n",
       "         'Morejon': 1,\n",
       "         'Karen': 1,\n",
       "         'Janks': 1,\n",
       "         'Cecil': 1,\n",
       "         'Hawkins': 3,\n",
       "         'Timmie': 1,\n",
       "         'Collins': 3,\n",
       "         'Jamal': 5,\n",
       "         'Dye': 1,\n",
       "         'Felix': 2,\n",
       "         'Davis': 13,\n",
       "         'Billy': 5,\n",
       "         'Albert': 5,\n",
       "         'Hanson': 1,\n",
       "         'Genova': 1,\n",
       "         'Terrance': 1,\n",
       "         'Kellom': 1,\n",
       "         'Jared': 1,\n",
       "         'Green': 5,\n",
       "         'Deysie': 1,\n",
       "         'Chavez-Diaz': 1,\n",
       "         'Alexia': 1,\n",
       "         'Christian': 9,\n",
       "         'Adkins': 1,\n",
       "         'Acree': 1,\n",
       "         'Fridoon': 1,\n",
       "         'Zalbeg': 1,\n",
       "         'Nehad': 1,\n",
       "         'Emmanuel': 1,\n",
       "         'Sanchez': 7,\n",
       "         'Mathena': 1,\n",
       "         'Kevin': 16,\n",
       "         'Vance': 1,\n",
       "         'Norton': 2,\n",
       "         'Elton': 1,\n",
       "         'Nadir': 1,\n",
       "         'Soofi': 1,\n",
       "         'Grimm': 1,\n",
       "         'Asher': 1,\n",
       "         'Roark': 1,\n",
       "         'Cook': 2,\n",
       "         'Brendon': 1,\n",
       "         'Thong': 1,\n",
       "         'Kien': 1,\n",
       "         'Ma': 2,\n",
       "         'A.': 17,\n",
       "         'Frost': 1,\n",
       "         'Nephi': 2,\n",
       "         'Arriguin': 1,\n",
       "         'Shaun': 2,\n",
       "         'Schwalm': 1,\n",
       "         'Dedrick': 1,\n",
       "         'Sam': 3,\n",
       "         'Cunningham': 1,\n",
       "         'Lionel': 4,\n",
       "         'Lorenzo': 4,\n",
       "         'Young': 4,\n",
       "         'Kelvin': 1,\n",
       "         'Goldston': 1,\n",
       "         'Way': 1,\n",
       "         \"D'Angelo\": 1,\n",
       "         'Stallworth': 1,\n",
       "         'Zalonka': 1,\n",
       "         'Alec': 1,\n",
       "         'Ouzounian': 1,\n",
       "         'Sean': 6,\n",
       "         'Pelletier': 1,\n",
       "         'Cary': 1,\n",
       "         'Farrar': 1,\n",
       "         'Matt': 2,\n",
       "         'Coates': 1,\n",
       "         'Ronell': 1,\n",
       "         'Wade': 3,\n",
       "         'Dennis': 8,\n",
       "         'Fiel': 1,\n",
       "         'Austin': 6,\n",
       "         'Goodner': 1,\n",
       "         'Timothy': 12,\n",
       "         'Alfredo': 1,\n",
       "         'Rials-Torres': 1,\n",
       "         'McIntosh': 1,\n",
       "         'Gaines': 3,\n",
       "         'Gomez': 5,\n",
       "         'Colley': 1,\n",
       "         'Chrislon': 1,\n",
       "         'Talbott': 1,\n",
       "         'Nikki': 1,\n",
       "         'Jo': 2,\n",
       "         'Burtsfield': 1,\n",
       "         'Wheeler': 1,\n",
       "         'Alejandro': 5,\n",
       "         'Gandara': 1,\n",
       "         'Javoris': 1,\n",
       "         'Cooper': 1,\n",
       "         'Elvin': 1,\n",
       "         'Lowery': 1,\n",
       "         'Caso': 1,\n",
       "         'Horn': 1,\n",
       "         'Cassandra': 1,\n",
       "         'Bolin': 1,\n",
       "         'Briggs': 3,\n",
       "         'Millard': 2,\n",
       "         'Tallant': 1,\n",
       "         'Dalton': 2,\n",
       "         'Branch': 2,\n",
       "         'McAllister': 1,\n",
       "         'Garrett': 1,\n",
       "         'Sandeno': 1,\n",
       "         'Feras': 1,\n",
       "         'Morad': 1,\n",
       "         'Simon': 2,\n",
       "         'Hubble': 1,\n",
       "         'Darrell': 3,\n",
       "         'Morgan': 5,\n",
       "         'Strong': 1,\n",
       "         'Dothard': 1,\n",
       "         'Kyle': 8,\n",
       "         'Baker': 6,\n",
       "         'Nehemiah': 1,\n",
       "         'Fischer': 2,\n",
       "         'Box': 1,\n",
       "         'Ebin': 1,\n",
       "         'Proctor': 1,\n",
       "         'Tirado': 1,\n",
       "         'Rivera': 3,\n",
       "         'Bushey': 1,\n",
       "         'Ladd': 1,\n",
       "         'Usaamah': 1,\n",
       "         'Rahim': 1,\n",
       "         'Kamal': 1,\n",
       "         'Dajani': 1,\n",
       "         'Garza': 3,\n",
       "         'Rudy': 1,\n",
       "         'Baca': 1,\n",
       "         'Edelmiro': 1,\n",
       "         'Ronald': 7,\n",
       "         'Neal': 1,\n",
       "         'Jesus': 6,\n",
       "         'Christie': 1,\n",
       "         'Cathers': 1,\n",
       "         'Demouria': 1,\n",
       "         'Hogg': 1,\n",
       "         'Smillie': 1,\n",
       "         'Campos': 1,\n",
       "         'Fernandez': 2,\n",
       "         'Nevels': 1,\n",
       "         'Damien': 2,\n",
       "         'McDaniel': 2,\n",
       "         'Gene': 5,\n",
       "         'Rene': 4,\n",
       "         'Warolf': 1,\n",
       "         'Linhart': 1,\n",
       "         'Greg': 2,\n",
       "         'Hartley': 1,\n",
       "         'QuanDavier': 1,\n",
       "         'Bolinger': 1,\n",
       "         'Isiah': 1,\n",
       "         'Hampton': 1,\n",
       "         'Ziegler': 1,\n",
       "         'Fritz': 1,\n",
       "         'Severe': 1,\n",
       "         'Peralta-Lantigua': 1,\n",
       "         'Shelly': 2,\n",
       "         'Haendiges': 1,\n",
       "         'Deng': 1,\n",
       "         'Manyoun': 1,\n",
       "         'Boulware': 1,\n",
       "         'Zane': 1,\n",
       "         'Terryn': 1,\n",
       "         'Kris': 2,\n",
       "         'DeLeon': 1,\n",
       "         'Charboneau': 1,\n",
       "         'Wendy': 1,\n",
       "         'Chappell': 1,\n",
       "         'Lanphier': 1,\n",
       "         'Oleg': 1,\n",
       "         'Tcherniak': 1,\n",
       "         'Laboy': 1,\n",
       "         'Trepierre': 1,\n",
       "         'Hummons': 1,\n",
       "         'Louis': 3,\n",
       "         'Atencio': 1,\n",
       "         'Alfontish': 1,\n",
       "         'Cockerham': 1,\n",
       "         'Simental': 1,\n",
       "         'Monroe': 1,\n",
       "         'Barrett': 1,\n",
       "         'Eduardo': 3,\n",
       "         'Tyler': 10,\n",
       "         'Wicks': 1,\n",
       "         'Dyer': 1,\n",
       "         'Wilson': 9,\n",
       "         'Randall': 4,\n",
       "         'Waddel': 1,\n",
       "         'Taylor': 7,\n",
       "         'Culbertson': 1,\n",
       "         'Harrell': 1,\n",
       "         'Spencer': 4,\n",
       "         'McCain': 1,\n",
       "         'Jake': 2,\n",
       "         'Vanderburgh': 1,\n",
       "         'Cisneros': 2,\n",
       "         'Crittenden': 1,\n",
       "         'Bellew': 1,\n",
       "         'LaPort': 1,\n",
       "         'Clay': 2,\n",
       "         'Lickteig': 1,\n",
       "         'Judson': 1,\n",
       "         'Kaleb': 2,\n",
       "         'Landon': 2,\n",
       "         'Buckley': 1,\n",
       "         'Ton': 1,\n",
       "         'Nguyen': 1,\n",
       "         'Emanuel': 1,\n",
       "         'Larosa': 1,\n",
       "         'Cesar': 4,\n",
       "         'Limon': 1,\n",
       "         'Juarez': 4,\n",
       "         'Arturo': 3,\n",
       "         'Oscar': 4,\n",
       "         'Camacho': 1,\n",
       "         'Elando': 1,\n",
       "         'Malone': 2,\n",
       "         'Shannon': 3,\n",
       "         'Gaby': 1,\n",
       "         'Kawanza': 1,\n",
       "         'Beaty': 2,\n",
       "         'Bryan': 5,\n",
       "         'Bauer': 2,\n",
       "         'Deming': 1,\n",
       "         'Holt': 2,\n",
       "         'Munroe': 1,\n",
       "         'Johnny': 3,\n",
       "         'Rogers': 5,\n",
       "         'Hagen': 1,\n",
       "         'Esty-Lennon': 1,\n",
       "         'Oliva': 1,\n",
       "         'Sarabia': 1,\n",
       "         'Berry': 2,\n",
       "         'Hendley': 1,\n",
       "         'Marcellus': 2,\n",
       "         'Jamarcus': 1,\n",
       "         'Burley': 1,\n",
       "         'Dujanovic': 1,\n",
       "         'Graciano': 1,\n",
       "         'Tremaine': 1,\n",
       "         'Dantzler': 1,\n",
       "         'Booth': 1,\n",
       "         'Blough': 1,\n",
       "         'Westrich': 1,\n",
       "         'Dallas': 1,\n",
       "         'Shatley': 1,\n",
       "         'Rocco': 1,\n",
       "         'Palmisano': 1,\n",
       "         'Hammonds': 1,\n",
       "         'Martice': 1,\n",
       "         'Milliner': 1,\n",
       "         'Cyrus': 1,\n",
       "         'Hurtado': 2,\n",
       "         'Javon': 1,\n",
       "         'Todora': 1,\n",
       "         'Freddie': 1,\n",
       "         'Blue': 1,\n",
       "         'McSwain': 1,\n",
       "         'Maine': 1,\n",
       "         'Castaway': 1,\n",
       "         'Salvado': 1,\n",
       "         'Ellswood': 1,\n",
       "         'Lepine': 1,\n",
       "         'Benton': 1,\n",
       "         'Frederick': 4,\n",
       "         'Farmer': 1,\n",
       "         'Graham': 3,\n",
       "         'Rafael': 3,\n",
       "         'Suazo': 1,\n",
       "         'Chacarion': 1,\n",
       "         'Avant': 1,\n",
       "         'Kailing': 1,\n",
       "         'Anthonie': 1,\n",
       "         'Gonzalez': 10,\n",
       "         'Pippin': 1,\n",
       "         'Mohammad': 4,\n",
       "         'Youssef': 1,\n",
       "         'Abdulazeez': 1,\n",
       "         'Saige': 1,\n",
       "         'Hack': 1,\n",
       "         'Pierre': 2,\n",
       "         'Gabriel': 3,\n",
       "         'Koellner': 1,\n",
       "         'Samuel': 5,\n",
       "         'Jackie': 2,\n",
       "         'Brand': 1,\n",
       "         'Darrius': 1,\n",
       "         'Roman': 2,\n",
       "         'Wheat': 1,\n",
       "         'Dewey': 1,\n",
       "         'DuBose': 1,\n",
       "         'LeBoeuf': 1,\n",
       "         'Darren': 4,\n",
       "         'Fuller': 2,\n",
       "         'Jerrod': 2,\n",
       "         'Tyre': 3,\n",
       "         'Francisco': 6,\n",
       "         'Benitez-Santiago': 1,\n",
       "         'Andre': 3,\n",
       "         'Dontrell': 2,\n",
       "         'Devon': 2,\n",
       "         'Guisherd': 1,\n",
       "         'Dontae': 1,\n",
       "         'L.': 14,\n",
       "         'Wolfsteller': 1,\n",
       "         'Stortzum': 1,\n",
       "         'Robbie': 1,\n",
       "         'Edison': 1,\n",
       "         'Tamala': 1,\n",
       "         'Satre': 1,\n",
       "         'Seth': 1,\n",
       "         'Raines': 1,\n",
       "         'Gerston': 1,\n",
       "         'Olmstead': 1,\n",
       "         'Roger': 5,\n",
       "         'Braswell': 1,\n",
       "         'Keith': 14,\n",
       "         'Khari': 1,\n",
       "         'Westly': 1,\n",
       "         'Zachary': 2,\n",
       "         'Hammond': 1,\n",
       "         'Milliken': 1,\n",
       "         'Jean': 3,\n",
       "         'Falgout': 1,\n",
       "         'Forgy': 1,\n",
       "         'Perkins': 4,\n",
       "         'Vrenon': 1,\n",
       "         'Philip': 5,\n",
       "         'Vallejo': 2,\n",
       "         'Lotari': 1,\n",
       "         'Romero': 2,\n",
       "         'Molina': 1,\n",
       "         'Hatch': 1,\n",
       "         'Armando': 4,\n",
       "         'Serrano': 1,\n",
       "         'Virgil': 1,\n",
       "         'Reynolds': 2,\n",
       "         'Clements': 1,\n",
       "         'Malave': 1,\n",
       "         'Franklin': 1,\n",
       "         'Short': 1,\n",
       "         'Ruble': 1,\n",
       "         'Avila': 1,\n",
       "         'Darius': 4,\n",
       "         'Graves': 1,\n",
       "         'Dattilo': 1,\n",
       "         'Dieringer': 1,\n",
       "         'Keshawn': 1,\n",
       "         'Dominique': 2,\n",
       "         'Hargrove': 1,\n",
       "         'Vincente': 1,\n",
       "         'Montano': 2,\n",
       "         'Galaviz': 1,\n",
       "         'Gustavo': 2,\n",
       "         'Ponce-Galon': 1,\n",
       "         'Bertram': 1,\n",
       "         'Abel': 1,\n",
       "         'Correa': 1,\n",
       "         'Marchese': 1,\n",
       "         'Keckhafer': 1,\n",
       "         'Tsombe': 1,\n",
       "         'Clark': 9,\n",
       "         'Derrick': 2,\n",
       "         'Hunt': 1,\n",
       "         'Shamir': 1,\n",
       "         'Terrel': 1,\n",
       "         'Palmer': 2,\n",
       "         'Wilkes': 1,\n",
       "         'Tompkins': 2,\n",
       "         'Edrian': 1,\n",
       "         'Casey': 3,\n",
       "         'George': 9,\n",
       "         'Alarcon': 1,\n",
       "         'Hughes': 1,\n",
       "         'Shull': 1,\n",
       "         'Nathaniel': 4,\n",
       "         'Wilks': 1,\n",
       "         'Redel': 1,\n",
       "         'Tyree': 2,\n",
       "         'Sorriano': 1,\n",
       "         'Asshams': 1,\n",
       "         'Pharoah': 1,\n",
       "         'Manley': 1,\n",
       "         'Unsworth': 1,\n",
       "         'Jonathon': 1,\n",
       "         'Pope': 1,\n",
       "         'Castillo': 1,\n",
       "         'Steven': 13,\n",
       "         'B.': 5,\n",
       "         'Jacquez': 1,\n",
       "         'Mansur': 1,\n",
       "         'Ball-Bey': 1,\n",
       "         'Deviere': 1,\n",
       "         'Ernel': 1,\n",
       "         'Ransom': 1,\n",
       "         'Hale': 2,\n",
       "         'Gerken': 1,\n",
       "         'Jeffory': 1,\n",
       "         'Tevis': 1,\n",
       "         'Raul': 3,\n",
       "         'Herrera': 4,\n",
       "         'Timmy': 1,\n",
       "         'Walling': 1,\n",
       "         'S.': 6,\n",
       "         'Rushton': 1,\n",
       "         'Schneider': 1,\n",
       "         'Faison': 2,\n",
       "         'Alderman': 1,\n",
       "         'Garner': 1,\n",
       "         'Henry': 10,\n",
       "         'Compo': 1,\n",
       "         'Troledge': 1,\n",
       "         'Norris': 2,\n",
       "         'Snider': 1,\n",
       "         'Marvin': 4,\n",
       "         'Maestas': 1,\n",
       "         'Curtis': 4,\n",
       "         'Tomlinson': 1,\n",
       "         'Rudolph': 2,\n",
       "         'Arroliga': 1,\n",
       "         'Dodd': 1,\n",
       "         'Pickard': 1,\n",
       "         'Lambrose': 1,\n",
       "         'Bertrand': 1,\n",
       "         'Yonas': 1,\n",
       "         'Alehegne': 1,\n",
       "         'Hober': 1,\n",
       "         'Soriano': 1,\n",
       "         'Kumi': 1,\n",
       "         'Dial': 2,\n",
       "         'Cruz': 5,\n",
       "         'Jr': 3,\n",
       "         'M.': 16,\n",
       "         'Rippley': 1,\n",
       "         'Cedric': 4,\n",
       "         'Maurice': 2,\n",
       "         'Shaw': 1,\n",
       "         'Arthur': 5,\n",
       "         'Bates': 1,\n",
       "         'Freddy': 2,\n",
       "         'Centeno': 1,\n",
       "         'Meyer': 2,\n",
       "         'Ramon': 5,\n",
       "         'Damiani': 1,\n",
       "         'Kelley': 3,\n",
       "         'Sully': 1,\n",
       "         'Lanier': 1,\n",
       "         'Harrison': 2,\n",
       "         'Lambert': 4,\n",
       "         \"La'vante\": 1,\n",
       "         'Trevon': 2,\n",
       "         'Wenceslao': 1,\n",
       "         'Delano': 1,\n",
       "         'Perry': 5,\n",
       "         'India': 2,\n",
       "         'Kager': 1,\n",
       "         'Yero': 1,\n",
       "         'Mohamed': 2,\n",
       "         'Ibrahim': 1,\n",
       "         'Verrett': 1,\n",
       "         'Casimero': 1,\n",
       "         'Casillas': 1,\n",
       "         'Tristan': 3,\n",
       "         'Vent': 1,\n",
       "         'Dustin': 2,\n",
       "         'Kuik': 1,\n",
       "         'Holman': 1,\n",
       "         'Perdue': 1,\n",
       "         'Chau': 1,\n",
       "         'Tian': 1,\n",
       "         'Foy': 1,\n",
       "         'Wilburly': 1,\n",
       "         'Reid': 2,\n",
       "         'Eddie': 4,\n",
       "         'Tapia': 2,\n",
       "         'T.': 5,\n",
       "         'Pfleghardt': 1,\n",
       "         'Derick': 1,\n",
       "         'Jack': 4,\n",
       "         'Stevens': 2,\n",
       "         'Hammen': 1,\n",
       "         ...})"
      ]
     },
     "execution_count": 37,
     "metadata": {
      "tags": []
     },
     "output_type": "execute_result"
    }
   ],
   "source": []
  },
  {
   "cell_type": "code",
   "execution_count": null,
   "metadata": {
    "colab": {
     "base_uri": "https://localhost:8080/"
    },
    "id": "GBoBhIEs-G-Y",
    "outputId": "ebd3146a-472f-4044-daf4-67d0e1064845"
   },
   "outputs": [
    {
     "data": {
      "text/plain": [
       "[('Michael', 82),\n",
       " ('David', 53),\n",
       " ('James', 47),\n",
       " ('Robert', 44),\n",
       " ('Joseph', 43),\n",
       " ('Daniel', 40),\n",
       " ('William', 40),\n",
       " ('Lee', 37),\n",
       " ('John', 36),\n",
       " ('Christopher', 35),\n",
       " ('Richard', 33),\n",
       " ('Smith', 31),\n",
       " ('J.', 30),\n",
       " ('Johnson', 29),\n",
       " ('Joshua', 27)]"
      ]
     },
     "execution_count": 38,
     "metadata": {
      "tags": []
     },
     "output_type": "execute_result"
    }
   ],
   "source": []
  },
  {
   "cell_type": "code",
   "execution_count": null,
   "metadata": {
    "colab": {
     "base_uri": "https://localhost:8080/",
     "height": 511
    },
    "id": "yJ6vg449-G-Y",
    "outputId": "f294603c-8528-4392-b8f3-a2a9df5abc39"
   },
   "outputs": [
    {
     "data": {
      "text/html": [
       "<div>\n",
       "<style scoped>\n",
       "    .dataframe tbody tr th:only-of-type {\n",
       "        vertical-align: middle;\n",
       "    }\n",
       "\n",
       "    .dataframe tbody tr th {\n",
       "        vertical-align: top;\n",
       "    }\n",
       "\n",
       "    .dataframe thead th {\n",
       "        text-align: right;\n",
       "    }\n",
       "</style>\n",
       "<table border=\"1\" class=\"dataframe\">\n",
       "  <thead>\n",
       "    <tr style=\"text-align: right;\">\n",
       "      <th></th>\n",
       "      <th>name_or_surname_most_frequency</th>\n",
       "      <th>frequency</th>\n",
       "    </tr>\n",
       "  </thead>\n",
       "  <tbody>\n",
       "    <tr>\n",
       "      <th>0</th>\n",
       "      <td>Michael</td>\n",
       "      <td>82</td>\n",
       "    </tr>\n",
       "    <tr>\n",
       "      <th>1</th>\n",
       "      <td>David</td>\n",
       "      <td>53</td>\n",
       "    </tr>\n",
       "    <tr>\n",
       "      <th>2</th>\n",
       "      <td>James</td>\n",
       "      <td>47</td>\n",
       "    </tr>\n",
       "    <tr>\n",
       "      <th>3</th>\n",
       "      <td>Robert</td>\n",
       "      <td>44</td>\n",
       "    </tr>\n",
       "    <tr>\n",
       "      <th>4</th>\n",
       "      <td>Joseph</td>\n",
       "      <td>43</td>\n",
       "    </tr>\n",
       "    <tr>\n",
       "      <th>5</th>\n",
       "      <td>Daniel</td>\n",
       "      <td>40</td>\n",
       "    </tr>\n",
       "    <tr>\n",
       "      <th>6</th>\n",
       "      <td>William</td>\n",
       "      <td>40</td>\n",
       "    </tr>\n",
       "    <tr>\n",
       "      <th>7</th>\n",
       "      <td>Lee</td>\n",
       "      <td>37</td>\n",
       "    </tr>\n",
       "    <tr>\n",
       "      <th>8</th>\n",
       "      <td>John</td>\n",
       "      <td>36</td>\n",
       "    </tr>\n",
       "    <tr>\n",
       "      <th>9</th>\n",
       "      <td>Christopher</td>\n",
       "      <td>35</td>\n",
       "    </tr>\n",
       "    <tr>\n",
       "      <th>10</th>\n",
       "      <td>Richard</td>\n",
       "      <td>33</td>\n",
       "    </tr>\n",
       "    <tr>\n",
       "      <th>11</th>\n",
       "      <td>Smith</td>\n",
       "      <td>31</td>\n",
       "    </tr>\n",
       "    <tr>\n",
       "      <th>12</th>\n",
       "      <td>J.</td>\n",
       "      <td>30</td>\n",
       "    </tr>\n",
       "    <tr>\n",
       "      <th>13</th>\n",
       "      <td>Johnson</td>\n",
       "      <td>29</td>\n",
       "    </tr>\n",
       "    <tr>\n",
       "      <th>14</th>\n",
       "      <td>Joshua</td>\n",
       "      <td>27</td>\n",
       "    </tr>\n",
       "  </tbody>\n",
       "</table>\n",
       "</div>"
      ],
      "text/plain": [
       "   name_or_surname_most_frequency  frequency\n",
       "0                         Michael         82\n",
       "1                           David         53\n",
       "2                           James         47\n",
       "3                          Robert         44\n",
       "4                          Joseph         43\n",
       "5                          Daniel         40\n",
       "6                         William         40\n",
       "7                             Lee         37\n",
       "8                            John         36\n",
       "9                     Christopher         35\n",
       "10                        Richard         33\n",
       "11                          Smith         31\n",
       "12                             J.         30\n",
       "13                        Johnson         29\n",
       "14                         Joshua         27"
      ]
     },
     "execution_count": 39,
     "metadata": {
      "tags": []
     },
     "output_type": "execute_result"
    }
   ],
   "source": []
  },
  {
   "cell_type": "code",
   "execution_count": null,
   "metadata": {
    "colab": {
     "base_uri": "https://localhost:8080/",
     "height": 551
    },
    "id": "JnbSBMEF-G-Y",
    "outputId": "a4f5bcc6-22d9-4348-ef8b-18040a4c5723"
   },
   "outputs": [
    {
     "data": {
      "image/png": "[encoded data removed]",
      "text/plain": [
       "<Figure size 1080x576 with 1 Axes>"
      ]
     },
     "metadata": {
      "needs_background": "light",
      "tags": []
     },
     "output_type": "display_data"
    }
   ],
   "source": [
    "# with pandas\n"
   ]
  },
  {
   "cell_type": "code",
   "execution_count": null,
   "metadata": {
    "id": "PLFM9yT6Ru8Q"
   },
   "outputs": [],
   "source": [
    "x = most_common_15.set_index('name').index\n",
    "y = most_common_15.name_frequency"
   ]
  },
  {
   "cell_type": "code",
   "execution_count": null,
   "metadata": {
    "colab": {
     "base_uri": "https://localhost:8080/",
     "height": 314
    },
    "id": "HWeiA3S7RutO",
    "outputId": "ea76668f-ffb6-4382-908b-80e6f2cb9447"
   },
   "outputs": [
    {
     "data": {
      "text/plain": [
       "<Figure size 2500x1875 with 0 Axes>"
      ]
     },
     "metadata": {
      "tags": []
     },
     "output_type": "display_data"
    },
    {
     "data": {
      "image/png": "[encoded data removed]",
      "text/plain": [
       "<Figure size 432x288 with 1 Axes>"
      ]
     },
     "metadata": {
      "needs_background": "light",
      "tags": []
     },
     "output_type": "display_data"
    }
   ],
   "source": [
    "plt.figure(figsize=(20, 15), dpi=125)\n",
    "\n",
    "most_common_15.set_index('name').plot.bar(width=0.5)\n",
    "\n",
    "plt.title(\"Most common 15 Name OR Surname of killed people\", fontsize= 12, color=\"black\")\n",
    "plt.xlabel('Names or Surnames')\n",
    "plt.ylabel('Frequency')\n",
    "\n",
    "plt.xticks(rotation = 60)\n",
    "\n",
    "plt.axis(\"tight\")\n",
    "plt.tight_layout()\n",
    "\n",
    "for index, value in enumerate(y):\n",
    "    plt.text(index, value+0.5, str(value), ha='center')\n",
    "\n",
    "plt.show();\n",
    "   "
   ]
  },
  {
   "cell_type": "code",
   "execution_count": null,
   "metadata": {
    "colab": {
     "base_uri": "https://localhost:8080/",
     "height": 551
    },
    "id": "MPq2DiUJ-G-Y",
    "outputId": "4c0e61c5-9734-41a6-e4e8-f5c424e7519d"
   },
   "outputs": [
    {
     "data": {
      "image/png": "[encoded data removed]",
      "text/plain": [
       "<Figure size 1080x576 with 1 Axes>"
      ]
     },
     "metadata": {
      "needs_background": "light",
      "tags": []
     },
     "output_type": "display_data"
    }
   ],
   "source": [
    "# with matplotlib\n"
   ]
  },
  {
   "cell_type": "code",
   "execution_count": null,
   "metadata": {
    "colab": {
     "base_uri": "https://localhost:8080/",
     "height": 754
    },
    "id": "tRAjYkN_MqkZ",
    "outputId": "33f06070-95b8-4c89-e3c3-a2e45e5d78a3"
   },
   "outputs": [
    {
     "data": {
      "image/png": "[encoded data removed]",
      "text/plain": [
       "<Figure size 1000x750 with 1 Axes>"
      ]
     },
     "metadata": {
      "needs_background": "light",
      "tags": []
     },
     "output_type": "display_data"
    }
   ],
   "source": [
    "fig, ax = plt.subplots(figsize= (8, 6), dpi=125)\n",
    "\n",
    "ax.bar(x, y, width=0.8)\n",
    "\n",
    "ax.set_title(\"Most common 15 Name OR Surname of killed people\", fontsize= 8, color=\"black\")\n",
    "ax.set_xlabel('Names or Surnames')\n",
    "ax.set_ylabel('Frequency')\n",
    "\n",
    "plt.xticks(rotation = 60)\n",
    "plt.tight_layout()\n",
    "ax.axis(\"tight\");\n",
    "\n",
    "for index, value in enumerate(y):\n",
    "    plt.text(index, value+0.5, str(value), ha='center');"
   ]
  }
 ],
 "metadata": {
  "colab": {
   "collapsed_sections": [],
   "name": "DV_Assignment2_Matplotlib-PoliceKillingsUS__Solutions.ipynb",
   "provenance": []
  },
  "kernelspec": {
   "display_name": "Python 3",
   "language": "python",
   "name": "python3"
  },
  "language_info": {
   "codemirror_mode": {
    "name": "ipython",
    "version": 3
   },
   "file_extension": ".py",
   "mimetype": "text/x-python",
   "name": "python",
   "nbconvert_exporter": "python",
   "pygments_lexer": "ipython3",
   "version": "3.8.8"
  }
 },
 "nbformat": 4,
 "nbformat_minor": 1
}
